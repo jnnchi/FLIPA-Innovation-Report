{
  "nbformat": 4,
  "nbformat_minor": 0,
  "metadata": {
    "colab": {
      "provenance": []
    },
    "kernelspec": {
      "name": "python3",
      "display_name": "Python 3"
    },
    "language_info": {
      "name": "python"
    }
  },
  "cells": [
    {
      "cell_type": "code",
      "execution_count": null,
      "metadata": {
        "id": "05wMb5-bBRuN"
      },
      "outputs": [],
      "source": [
        "import pandas as pd\n",
        "import numpy as np\n",
        "from sklearn.model_selection import train_test_split\n",
        "from sklearn.ensemble import RandomForestRegressor\n",
        "from sklearn.metrics import mean_absolute_error, mean_squared_error, r2_score\n",
        "from sklearn.model_selection import GridSearchCV\n",
        "import ssl\n",
        "import matplotlib.pyplot as plt\n",
        "from scipy import stats\n",
        "from sklearn.model_selection import learning_curve\n",
        "import seaborn as sns\n",
        "\n",
        "ssl._create_default_https_context = ssl._create_unverified_context"
      ]
    },
    {
      "cell_type": "markdown",
      "source": [
        "## **Building and Training Model**"
      ],
      "metadata": {
        "id": "NnilTuO2jOYx"
      }
    },
    {
      "cell_type": "code",
      "source": [
        "# https://docs.google.com/spreadsheets/d/1s1vPP5aO9YaYgqGlRRV6G8Za36jCBPsggyLVQZGSn5c/edit?gid=0#gid=0\n",
        "fl_districts_df = '__Final Training Set.xlsx'\n",
        "\n",
        "fl_districts_df = pd.read_excel(fl_districts_df)\n",
        "fl_districts_df = pd.get_dummies(fl_districts_df)\n",
        "fl_districts_df['University R&D Spending'] = np.log1p(fl_districts_df['University R&D Spending'])\n",
        "\n",
        "# drop per capita revenue + total revenue because it had the least feature importance -> reduces noise\n",
        "fl_districts_df.drop(columns=['Year','# of Patent Applications in Florida','Population','Per Capita Revenue', 'Total Revenue - All Funds'], inplace=True)\n",
        "\n",
        "# drops irrelevant counties where the patent application is 0\n",
        "fl_districts_df = fl_districts_df[fl_districts_df['Patent Applications Per Capita'] != 0]\n",
        "\n",
        "print(fl_districts_df.columns)"
      ],
      "metadata": {
        "id": "ccJnvlCGJpFf",
        "colab": {
          "base_uri": "https://localhost:8080/"
        },
        "outputId": "01f19315-6a0a-4919-c89d-bca5dc960bce"
      },
      "execution_count": null,
      "outputs": [
        {
          "output_type": "stream",
          "name": "stdout",
          "text": [
            "Index(['County Code', 'Business Applications', 'University R&D Spending',\n",
            "       'Median Household Income',\n",
            "       'State, Local and Federal Funds for Pupils by School County',\n",
            "       'Governmental Funds - General', 'Governmental Funds - Special Revenue',\n",
            "       'Governmental Funds - Debt Service',\n",
            "       'Governmental Funds - Capital Projects',\n",
            "       'Proprietary Funds - Enterprise',\n",
            "       'Proprietary Funds - Internal Service',\n",
            "       'Patent Applications Per Capita'],\n",
            "      dtype='object')\n"
          ]
        }
      ]
    },
    {
      "cell_type": "code",
      "source": [
        "# Apply transformations to normalize financial values\n",
        "columns_to_transform = [\n",
        "    'Median Household Income',\n",
        "    'State, Local and Federal Funds for Pupils by School County',\n",
        "    'Governmental Funds - General',\n",
        "    'Governmental Funds - Special Revenue',\n",
        "    'Governmental Funds - Debt Service',\n",
        "    'Governmental Funds - Capital Projects',\n",
        "    'Proprietary Funds - Enterprise',\n",
        "    'Proprietary Funds - Internal Service'\n",
        "    #'Total Revenue - All Funds'\n",
        "    #'Per Capita Revenue'\n",
        "]\n",
        "\n",
        "# Apply Log Transformation (only for positive values)\n",
        "log_transformed_df = fl_districts_df[columns_to_transform].applymap(lambda x: np.log(x) if x > 0 else np.nan)\n",
        "\n",
        "# Apply Square Root Transformation (only for non-negative values)\n",
        "sqrt_transformed_df = fl_districts_df[columns_to_transform].applymap(lambda x: np.sqrt(x) if x >= 0 else np.nan)\n",
        "\n",
        "# Apply Box-Cox Transformation (only for positive values)\n",
        "boxcox_transformed_df = pd.DataFrame()\n",
        "for col in columns_to_transform:\n",
        "    # Box-Cox can only be applied to positive data\n",
        "    positive_data = fl_districts_df[col] > 0\n",
        "    transformed, fitted_lambda = stats.boxcox(fl_districts_df.loc[positive_data, col])\n",
        "    boxcox_transformed_df[col] = np.nan\n",
        "    try:\n",
        "      boxcox_transformed_df.loc[positive_data, col] = transformed\n",
        "    except Exception as e:\n",
        "      pass\n",
        "\n",
        "# Visualize the distributions before and after transformation (example for 'Median Household Income')\n",
        "plt.figure(figsize=(12, 6))\n",
        "plt.subplot(1, 3, 1)\n",
        "plt.hist(fl_districts_df['State, Local and Federal Funds for Pupils by School County'].dropna(), bins=30, color='blue', alpha=0.7)\n",
        "plt.title('Original Distribution')\n",
        "\n",
        "plt.subplot(1, 3, 2)\n",
        "plt.hist(log_transformed_df['State, Local and Federal Funds for Pupils by School County'].dropna(), bins=30, color='green', alpha=0.7)\n",
        "plt.title('Log Transformed')\n",
        "\n",
        "plt.subplot(1, 3, 3)\n",
        "plt.hist(sqrt_transformed_df['State, Local and Federal Funds for Pupils by School County'].dropna(), bins=30, color='orange', alpha=0.7)\n",
        "plt.title('Square Root Transformed')\n",
        "\n",
        "plt.tight_layout()\n",
        "plt.show()\n",
        "\n",
        "# The best distribution was achieved through log transform\n",
        "for col in columns_to_transform:\n",
        "    fl_districts_df[col] = log_transformed_df[col]\n",
        "\n",
        "fl_districts_df.fillna(0, inplace=True)"
      ],
      "metadata": {
        "colab": {
          "base_uri": "https://localhost:8080/",
          "height": 627
        },
        "id": "bEHfYRPuAUGn",
        "outputId": "f5b9346b-3eba-49be-fac7-282fbffd8c38"
      },
      "execution_count": null,
      "outputs": [
        {
          "output_type": "stream",
          "name": "stderr",
          "text": [
            "<ipython-input-189-68f3a0ed70cf>:16: FutureWarning: DataFrame.applymap has been deprecated. Use DataFrame.map instead.\n",
            "  log_transformed_df = fl_districts_df[columns_to_transform].applymap(lambda x: np.log(x) if x > 0 else np.nan)\n",
            "<ipython-input-189-68f3a0ed70cf>:19: FutureWarning: DataFrame.applymap has been deprecated. Use DataFrame.map instead.\n",
            "  sqrt_transformed_df = fl_districts_df[columns_to_transform].applymap(lambda x: np.sqrt(x) if x >= 0 else np.nan)\n"
          ]
        },
        {
          "output_type": "display_data",
          "data": {
            "text/plain": [
              "<Figure size 1200x600 with 3 Axes>"
            ],
            "image/png": "[encoded data removed]"
          },
          "metadata": {}
        }
      ]
    },
    {
      "cell_type": "code",
      "source": [
        "# Drop target variable from feature set\n",
        "X = fl_districts_df.drop('Patent Applications Per Capita', axis=1)\n",
        "\n",
        "# Target is only the inventors column\n",
        "y = fl_districts_df['Patent Applications Per Capita']"
      ],
      "metadata": {
        "id": "rRbnFTGKh4sq"
      },
      "execution_count": null,
      "outputs": []
    },
    {
      "cell_type": "markdown",
      "source": [
        "#### **Creating random forest regressor**"
      ],
      "metadata": {
        "id": "CC3GvfZRigD2"
      }
    },
    {
      "cell_type": "code",
      "source": [
        "# Test diff params\n",
        "X_train, X_test, y_train, y_test = train_test_split(X, y, test_size=0.3, random_state=19)"
      ],
      "metadata": {
        "id": "fdnkakKoiNj-"
      },
      "execution_count": null,
      "outputs": []
    },
    {
      "cell_type": "code",
      "source": [
        "rfr = RandomForestRegressor(random_state=13)\n",
        "rfr.fit(X_train, y_train)"
      ],
      "metadata": {
        "id": "o5HmL7x5iS-O",
        "colab": {
          "base_uri": "https://localhost:8080/",
          "height": 75
        },
        "outputId": "8bcb4987-5a37-4824-87cd-02ce5f442ece"
      },
      "execution_count": null,
      "outputs": [
        {
          "output_type": "execute_result",
          "data": {
            "text/plain": [
              "RandomForestRegressor(random_state=13)"
            ],
            "text/html": [
              "<style>#sk-container-id-18 {color: black;}#sk-container-id-18 pre{padding: 0;}#sk-container-id-18 div.sk-toggleable {background-color: white;}#sk-container-id-18 label.sk-toggleable__label {cursor: pointer;display: block;width: 100%;margin-bottom: 0;padding: 0.3em;box-sizing: border-box;text-align: center;}#sk-container-id-18 label.sk-toggleable__label-arrow:before {content: \"▸\";float: left;margin-right: 0.25em;color: #696969;}#sk-container-id-18 label.sk-toggleable__label-arrow:hover:before {color: black;}#sk-container-id-18 div.sk-estimator:hover label.sk-toggleable__label-arrow:before {color: black;}#sk-container-id-18 div.sk-toggleable__content {max-height: 0;max-width: 0;overflow: hidden;text-align: left;background-color: #f0f8ff;}#sk-container-id-18 div.sk-toggleable__content pre {margin: 0.2em;color: black;border-radius: 0.25em;background-color: #f0f8ff;}#sk-container-id-18 input.sk-toggleable__control:checked~div.sk-toggleable__content {max-height: 200px;max-width: 100%;overflow: auto;}#sk-container-id-18 input.sk-toggleable__control:checked~label.sk-toggleable__label-arrow:before {content: \"▾\";}#sk-container-id-18 div.sk-estimator input.sk-toggleable__control:checked~label.sk-toggleable__label {background-color: #d4ebff;}#sk-container-id-18 div.sk-label input.sk-toggleable__control:checked~label.sk-toggleable__label {background-color: #d4ebff;}#sk-container-id-18 input.sk-hidden--visually {border: 0;clip: rect(1px 1px 1px 1px);clip: rect(1px, 1px, 1px, 1px);height: 1px;margin: -1px;overflow: hidden;padding: 0;position: absolute;width: 1px;}#sk-container-id-18 div.sk-estimator {font-family: monospace;background-color: #f0f8ff;border: 1px dotted black;border-radius: 0.25em;box-sizing: border-box;margin-bottom: 0.5em;}#sk-container-id-18 div.sk-estimator:hover {background-color: #d4ebff;}#sk-container-id-18 div.sk-parallel-item::after {content: \"\";width: 100%;border-bottom: 1px solid gray;flex-grow: 1;}#sk-container-id-18 div.sk-label:hover label.sk-toggleable__label {background-color: #d4ebff;}#sk-container-id-18 div.sk-serial::before {content: \"\";position: absolute;border-left: 1px solid gray;box-sizing: border-box;top: 0;bottom: 0;left: 50%;z-index: 0;}#sk-container-id-18 div.sk-serial {display: flex;flex-direction: column;align-items: center;background-color: white;padding-right: 0.2em;padding-left: 0.2em;position: relative;}#sk-container-id-18 div.sk-item {position: relative;z-index: 1;}#sk-container-id-18 div.sk-parallel {display: flex;align-items: stretch;justify-content: center;background-color: white;position: relative;}#sk-container-id-18 div.sk-item::before, #sk-container-id-18 div.sk-parallel-item::before {content: \"\";position: absolute;border-left: 1px solid gray;box-sizing: border-box;top: 0;bottom: 0;left: 50%;z-index: -1;}#sk-container-id-18 div.sk-parallel-item {display: flex;flex-direction: column;z-index: 1;position: relative;background-color: white;}#sk-container-id-18 div.sk-parallel-item:first-child::after {align-self: flex-end;width: 50%;}#sk-container-id-18 div.sk-parallel-item:last-child::after {align-self: flex-start;width: 50%;}#sk-container-id-18 div.sk-parallel-item:only-child::after {width: 0;}#sk-container-id-18 div.sk-dashed-wrapped {border: 1px dashed gray;margin: 0 0.4em 0.5em 0.4em;box-sizing: border-box;padding-bottom: 0.4em;background-color: white;}#sk-container-id-18 div.sk-label label {font-family: monospace;font-weight: bold;display: inline-block;line-height: 1.2em;}#sk-container-id-18 div.sk-label-container {text-align: center;}#sk-container-id-18 div.sk-container {/* jupyter's `normalize.less` sets `[hidden] { display: none; }` but bootstrap.min.css set `[hidden] { display: none !important; }` so we also need the `!important` here to be able to override the default hidden behavior on the sphinx rendered scikit-learn.org. See: https://github.com/scikit-learn/scikit-learn/issues/21755 */display: inline-block !important;position: relative;}#sk-container-id-18 div.sk-text-repr-fallback {display: none;}</style><div id=\"sk-container-id-18\" class=\"sk-top-container\"><div class=\"sk-text-repr-fallback\"><pre>RandomForestRegressor(random_state=13)</pre><b>In a Jupyter environment, please rerun this cell to show the HTML representation or trust the notebook. <br />On GitHub, the HTML representation is unable to render, please try loading this page with nbviewer.org.</b></div><div class=\"sk-container\" hidden><div class=\"sk-item\"><div class=\"sk-estimator sk-toggleable\"><input class=\"sk-toggleable__control sk-hidden--visually\" id=\"sk-estimator-id-18\" type=\"checkbox\" checked><label for=\"sk-estimator-id-18\" class=\"sk-toggleable__label sk-toggleable__label-arrow\">RandomForestRegressor</label><div class=\"sk-toggleable__content\"><pre>RandomForestRegressor(random_state=13)</pre></div></div></div></div></div>"
            ]
          },
          "metadata": {},
          "execution_count": 192
        }
      ]
    },
    {
      "cell_type": "code",
      "source": [
        "y_pred = rfr.predict(X_test)"
      ],
      "metadata": {
        "id": "0AkS7S16iWxg"
      },
      "execution_count": null,
      "outputs": []
    },
    {
      "cell_type": "markdown",
      "source": [
        "#### **Initial model evalutation**"
      ],
      "metadata": {
        "id": "Q5GwQQwAibbK"
      }
    },
    {
      "cell_type": "code",
      "source": [
        "mean_absolute_error(y_pred, y_test)"
      ],
      "metadata": {
        "id": "xV1OwwzPiXRq",
        "colab": {
          "base_uri": "https://localhost:8080/"
        },
        "outputId": "10b94bb2-706a-4ba6-c0bf-68396d817b0c"
      },
      "execution_count": null,
      "outputs": [
        {
          "output_type": "execute_result",
          "data": {
            "text/plain": [
              "4.982468589548287e-05"
            ]
          },
          "metadata": {},
          "execution_count": 194
        }
      ]
    },
    {
      "cell_type": "code",
      "source": [
        "mean_squared_error(y_pred, y_test)"
      ],
      "metadata": {
        "id": "H0UWk8-giYwI",
        "colab": {
          "base_uri": "https://localhost:8080/"
        },
        "outputId": "bb95cce5-f35e-44a2-824f-9ff9a279c625"
      },
      "execution_count": null,
      "outputs": [
        {
          "output_type": "execute_result",
          "data": {
            "text/plain": [
              "4.298081191317142e-09"
            ]
          },
          "metadata": {},
          "execution_count": 195
        }
      ]
    },
    {
      "cell_type": "code",
      "source": [
        "r2_score(y_pred, y_test)"
      ],
      "metadata": {
        "id": "WGfx0oONiaL7",
        "colab": {
          "base_uri": "https://localhost:8080/"
        },
        "outputId": "11d462d9-1357-4e3c-9fde-8b77aca7fefb"
      },
      "execution_count": null,
      "outputs": [
        {
          "output_type": "execute_result",
          "data": {
            "text/plain": [
              "0.717752731381628"
            ]
          },
          "metadata": {},
          "execution_count": 196
        }
      ]
    },
    {
      "cell_type": "markdown",
      "source": [
        "#### **Feature Importance Analysis**"
      ],
      "metadata": {
        "id": "EbH-PVx8oj5K"
      }
    },
    {
      "cell_type": "code",
      "source": [
        "# Extract feature importances\n",
        "feature_importances = rfr.feature_importances_\n",
        "\n",
        "# Create a DataFrame to hold feature names and their importance\n",
        "importance_df = pd.DataFrame({\n",
        "    'Feature': X_train.columns,\n",
        "    'Importance': feature_importances\n",
        "})\n",
        "\n",
        "# Sort the DataFrame by importance (descending order)\n",
        "importance_df = importance_df.sort_values(by='Importance', ascending=False)\n",
        "#importance_df = importance_df[importance_df['Feature'] != 'County Code']\n",
        "# Display the feature importances\n",
        "print(\"Feature Importances:\\n\", importance_df)\n",
        "\n",
        "# Plot the feature importances\n",
        "plt.figure(figsize=(12, 8))\n",
        "sns.barplot(x='Importance', y='Feature', data=importance_df)\n",
        "plt.title('Feature Importance Analysis')\n",
        "plt.show()"
      ],
      "metadata": {
        "colab": {
          "base_uri": "https://localhost:8080/",
          "height": 834
        },
        "id": "BPS_YBbKojRq",
        "outputId": "7fa7fb1d-8fcb-46fb-dcbf-5227b2776ec6"
      },
      "execution_count": null,
      "outputs": [
        {
          "output_type": "stream",
          "name": "stdout",
          "text": [
            "Feature Importances:\n",
            "                                               Feature  Importance\n",
            "2                             University R&D Spending    0.387057\n",
            "0                                         County Code    0.170936\n",
            "6                Governmental Funds - Special Revenue    0.076271\n",
            "5                        Governmental Funds - General    0.072399\n",
            "10               Proprietary Funds - Internal Service    0.061203\n",
            "9                      Proprietary Funds - Enterprise    0.048849\n",
            "1                               Business Applications    0.040460\n",
            "8               Governmental Funds - Capital Projects    0.028668\n",
            "4   State, Local and Federal Funds for Pupils by S...    0.027141\n",
            "3                             Median Household Income    0.026610\n",
            "7                   Governmental Funds - Debt Service    0.024967\n",
            "11                          Total Revenue - All Funds    0.020265\n",
            "12                                 Per Capita Revenue    0.015172\n"
          ]
        },
        {
          "output_type": "display_data",
          "data": {
            "text/plain": [
              "<Figure size 1200x800 with 1 Axes>"
            ],
            "image/png": "[encoded data removed]"
          },
          "metadata": {}
        }
      ]
    },
    {
      "cell_type": "code",
      "source": [
        "from sklearn.ensemble import RandomForestRegressor\n",
        "from sklearn.inspection import permutation_importance\n",
        "\n",
        "# Explore interactions between the most important features identified in model\n",
        "# Diff features work together to influence target variable\n",
        "result = permutation_importance(rfr, X_test, y_test, n_repeats=10, random_state=42)\n",
        "sorted_idx = result.importances_mean.argsort()\n",
        "\n",
        "# Create a DataFrame to hold feature names and their median importance\n",
        "importance_df = pd.DataFrame({\n",
        "    'Feature': X_train.columns,\n",
        "    'Median Importance': result.importances_mean\n",
        "})\n",
        "\n",
        "# Sort by the median importance and print it\n",
        "importance_df = importance_df.sort_values(by='Median Importance', ascending=False)\n",
        "print(importance_df)\n",
        "\n",
        "# Plot the feature importances\n",
        "plt.figure(figsize=(12, 8))\n",
        "sns.barplot(x='Median Importance', y='Feature', data=importance_df)\n",
        "plt.title('Feature Importance Analysis')\n",
        "plt.show()\n",
        "\n",
        "plt.boxplot(result.importances[sorted_idx].T,\n",
        "            vert=False, labels=X_test.columns[sorted_idx])\n",
        "plt.title(\"Permutation Importance of Features\")\n",
        "plt.show()\n",
        "print(\"\"\"Horizontal Axis (Importance): This axis shows the importance values. The further right a box is, the more important the feature is for the model.\n",
        "\n",
        "Box Plots: Each feature's importance is represented by a box plot. The box plot shows the distribution of importance scores for the feature based on multiple shuffles.\n",
        "\n",
        "Box Width: Indicates the spread or variability in the importance score across different shuffles. A wide box means the feature's importance varies more depending on how it’s perturbed.\n",
        "Median Line (Orange Line): Represents the median importance score for that feature.\n",
        "Whiskers and Outliers: The whiskers extend to show the range of values that are not considered outliers, and any points outside the whiskers are outliers.\"\"\")"
      ],
      "metadata": {
        "colab": {
          "base_uri": "https://localhost:8080/",
          "height": 1000
        },
        "id": "20AnQcOyAaf4",
        "outputId": "3ce5b613-f689-46bf-875b-f30236f72114"
      },
      "execution_count": null,
      "outputs": [
        {
          "output_type": "stream",
          "name": "stdout",
          "text": [
            "                                              Feature  Median Importance\n",
            "2                             University R&D Spending           0.302189\n",
            "10               Proprietary Funds - Internal Service           0.194097\n",
            "5                        Governmental Funds - General           0.165165\n",
            "0                                         County Code           0.130920\n",
            "9                      Proprietary Funds - Enterprise           0.062788\n",
            "8               Governmental Funds - Capital Projects           0.052014\n",
            "1                               Business Applications           0.046650\n",
            "4   State, Local and Federal Funds for Pupils by S...           0.043502\n",
            "6                Governmental Funds - Special Revenue           0.042304\n",
            "7                   Governmental Funds - Debt Service           0.031542\n",
            "3                             Median Household Income           0.030409\n"
          ]
        },
        {
          "output_type": "display_data",
          "data": {
            "text/plain": [
              "<Figure size 1200x800 with 1 Axes>"
            ],
            "image/png": "[encoded data removed]"
          },
          "metadata": {}
        },
        {
          "output_type": "display_data",
          "data": {
            "text/plain": [
              "<Figure size 640x480 with 1 Axes>"
            ],
            "image/png": "[encoded data removed]"
          },
          "metadata": {}
        },
        {
          "output_type": "stream",
          "name": "stdout",
          "text": [
            "Horizontal Axis (Importance): This axis shows the importance values. The further right a box is, the more important the feature is for the model.\n",
            "\n",
            "Box Plots: Each feature's importance is represented by a box plot. The box plot shows the distribution of importance scores for the feature based on multiple shuffles.\n",
            "\n",
            "Box Width: Indicates the spread or variability in the importance score across different shuffles. A wide box means the feature's importance varies more depending on how it’s perturbed.\n",
            "Median Line (Orange Line): Represents the median importance score for that feature.\n",
            "Whiskers and Outliers: The whiskers extend to show the range of values that are not considered outliers, and any points outside the whiskers are outliers.\n"
          ]
        }
      ]
    },
    {
      "cell_type": "code",
      "source": [
        "!pip install shap"
      ],
      "metadata": {
        "id": "mA08zBl1EQpt"
      },
      "execution_count": null,
      "outputs": []
    },
    {
      "cell_type": "code",
      "source": [
        "import shap\n",
        "\n",
        "# SHAP values provide a detailed breakdown of the contribution of each feature to a single prediction, offering insights into model predictions at an individual level.\n",
        "explainer = shap.TreeExplainer(rfr)\n",
        "shap_values = explainer.shap_values(X_test)\n",
        "\n",
        "# Plot a summary of SHAP values\n",
        "shap.summary_plot(shap_values, X_test)"
      ],
      "metadata": {
        "colab": {
          "base_uri": "https://localhost:8080/",
          "height": 596
        },
        "id": "FyZCNsHAA4jN",
        "outputId": "b277d736-3fbd-4867-fbe7-4762d29467df"
      },
      "execution_count": null,
      "outputs": [
        {
          "output_type": "display_data",
          "data": {
            "text/plain": [
              "<Figure size 800x590 with 2 Axes>"
            ],
            "image/png": "[encoded data removed]"
          },
          "metadata": {}
        }
      ]
    },
    {
      "cell_type": "code",
      "source": [
        "from sklearn.utils import resample\n",
        "\n",
        "n_iterations = 100\n",
        "predictions = np.zeros((n_iterations, len(y_test)))\n",
        "\n",
        "for i in range(n_iterations):\n",
        "    X_resampled, y_resampled = resample(X_train, y_train)\n",
        "    model = RandomForestRegressor(random_state=42)\n",
        "    model.fit(X_resampled, y_resampled)\n",
        "    predictions[i, :] = model.predict(X_test)\n",
        "\n",
        "prediction_uncertainty = np.std(predictions, axis=0)\n",
        "plt.figure(figsize=(10, 6))\n",
        "plt.hist(prediction_uncertainty, bins=50, color='purple')\n",
        "plt.title(\"Prediction Uncertainty\")\n",
        "plt.xlabel(\"Standard Deviation of Predictions\")\n",
        "plt.ylabel(\"Frequency\")\n",
        "plt.show()"
      ],
      "metadata": {
        "colab": {
          "base_uri": "https://localhost:8080/",
          "height": 365
        },
        "id": "9HRuSpGSBaEe",
        "outputId": "a72d35bd-086a-4537-c6c9-adebd3c71e89"
      },
      "execution_count": null,
      "outputs": [
        {
          "output_type": "error",
          "ename": "KeyboardInterrupt",
          "evalue": "",
          "traceback": [
            "\u001b[0;31m---------------------------------------------------------------------------\u001b[0m",
            "\u001b[0;31mKeyboardInterrupt\u001b[0m                         Traceback (most recent call last)",
            "\u001b[0;32m<ipython-input-214-aab2567cfdeb>\u001b[0m in \u001b[0;36m<cell line: 6>\u001b[0;34m()\u001b[0m\n\u001b[1;32m      8\u001b[0m     \u001b[0mmodel\u001b[0m \u001b[0;34m=\u001b[0m \u001b[0mRandomForestRegressor\u001b[0m\u001b[0;34m(\u001b[0m\u001b[0mrandom_state\u001b[0m\u001b[0;34m=\u001b[0m\u001b[0;36m42\u001b[0m\u001b[0;34m)\u001b[0m\u001b[0;34m\u001b[0m\u001b[0;34m\u001b[0m\u001b[0m\n\u001b[1;32m      9\u001b[0m     \u001b[0mmodel\u001b[0m\u001b[0;34m.\u001b[0m\u001b[0mfit\u001b[0m\u001b[0;34m(\u001b[0m\u001b[0mX_resampled\u001b[0m\u001b[0;34m,\u001b[0m \u001b[0my_resampled\u001b[0m\u001b[0;34m)\u001b[0m\u001b[0;34m\u001b[0m\u001b[0;34m\u001b[0m\u001b[0m\n\u001b[0;32m---> 10\u001b[0;31m     \u001b[0mpredictions\u001b[0m\u001b[0;34m[\u001b[0m\u001b[0mi\u001b[0m\u001b[0;34m,\u001b[0m \u001b[0;34m:\u001b[0m\u001b[0;34m]\u001b[0m \u001b[0;34m=\u001b[0m \u001b[0mmodel\u001b[0m\u001b[0;34m.\u001b[0m\u001b[0mpredict\u001b[0m\u001b[0;34m(\u001b[0m\u001b[0mX_test\u001b[0m\u001b[0;34m)\u001b[0m\u001b[0;34m\u001b[0m\u001b[0;34m\u001b[0m\u001b[0m\n\u001b[0m\u001b[1;32m     11\u001b[0m \u001b[0;34m\u001b[0m\u001b[0m\n\u001b[1;32m     12\u001b[0m \u001b[0mprediction_uncertainty\u001b[0m \u001b[0;34m=\u001b[0m \u001b[0mnp\u001b[0m\u001b[0;34m.\u001b[0m\u001b[0mstd\u001b[0m\u001b[0;34m(\u001b[0m\u001b[0mpredictions\u001b[0m\u001b[0;34m,\u001b[0m \u001b[0maxis\u001b[0m\u001b[0;34m=\u001b[0m\u001b[0;36m0\u001b[0m\u001b[0;34m)\u001b[0m\u001b[0;34m\u001b[0m\u001b[0;34m\u001b[0m\u001b[0m\n",
            "\u001b[0;32m/usr/local/lib/python3.10/dist-packages/sklearn/ensemble/_forest.py\u001b[0m in \u001b[0;36mpredict\u001b[0;34m(self, X)\u001b[0m\n\u001b[1;32m    995\u001b[0m         \u001b[0;31m# Parallel loop\u001b[0m\u001b[0;34m\u001b[0m\u001b[0;34m\u001b[0m\u001b[0m\n\u001b[1;32m    996\u001b[0m         \u001b[0mlock\u001b[0m \u001b[0;34m=\u001b[0m \u001b[0mthreading\u001b[0m\u001b[0;34m.\u001b[0m\u001b[0mLock\u001b[0m\u001b[0;34m(\u001b[0m\u001b[0;34m)\u001b[0m\u001b[0;34m\u001b[0m\u001b[0;34m\u001b[0m\u001b[0m\n\u001b[0;32m--> 997\u001b[0;31m         Parallel(n_jobs=n_jobs, verbose=self.verbose, require=\"sharedmem\")(\n\u001b[0m\u001b[1;32m    998\u001b[0m             \u001b[0mdelayed\u001b[0m\u001b[0;34m(\u001b[0m\u001b[0m_accumulate_prediction\u001b[0m\u001b[0;34m)\u001b[0m\u001b[0;34m(\u001b[0m\u001b[0me\u001b[0m\u001b[0;34m.\u001b[0m\u001b[0mpredict\u001b[0m\u001b[0;34m,\u001b[0m \u001b[0mX\u001b[0m\u001b[0;34m,\u001b[0m \u001b[0;34m[\u001b[0m\u001b[0my_hat\u001b[0m\u001b[0;34m]\u001b[0m\u001b[0;34m,\u001b[0m \u001b[0mlock\u001b[0m\u001b[0;34m)\u001b[0m\u001b[0;34m\u001b[0m\u001b[0;34m\u001b[0m\u001b[0m\n\u001b[1;32m    999\u001b[0m             \u001b[0;32mfor\u001b[0m \u001b[0me\u001b[0m \u001b[0;32min\u001b[0m \u001b[0mself\u001b[0m\u001b[0;34m.\u001b[0m\u001b[0mestimators_\u001b[0m\u001b[0;34m\u001b[0m\u001b[0;34m\u001b[0m\u001b[0m\n",
            "\u001b[0;32m/usr/local/lib/python3.10/dist-packages/sklearn/utils/parallel.py\u001b[0m in \u001b[0;36m__call__\u001b[0;34m(self, iterable)\u001b[0m\n\u001b[1;32m     63\u001b[0m             \u001b[0;32mfor\u001b[0m \u001b[0mdelayed_func\u001b[0m\u001b[0;34m,\u001b[0m \u001b[0margs\u001b[0m\u001b[0;34m,\u001b[0m \u001b[0mkwargs\u001b[0m \u001b[0;32min\u001b[0m \u001b[0miterable\u001b[0m\u001b[0;34m\u001b[0m\u001b[0;34m\u001b[0m\u001b[0m\n\u001b[1;32m     64\u001b[0m         )\n\u001b[0;32m---> 65\u001b[0;31m         \u001b[0;32mreturn\u001b[0m \u001b[0msuper\u001b[0m\u001b[0;34m(\u001b[0m\u001b[0;34m)\u001b[0m\u001b[0;34m.\u001b[0m\u001b[0m__call__\u001b[0m\u001b[0;34m(\u001b[0m\u001b[0miterable_with_config\u001b[0m\u001b[0;34m)\u001b[0m\u001b[0;34m\u001b[0m\u001b[0;34m\u001b[0m\u001b[0m\n\u001b[0m\u001b[1;32m     66\u001b[0m \u001b[0;34m\u001b[0m\u001b[0m\n\u001b[1;32m     67\u001b[0m \u001b[0;34m\u001b[0m\u001b[0m\n",
            "\u001b[0;32m/usr/local/lib/python3.10/dist-packages/joblib/parallel.py\u001b[0m in \u001b[0;36m__call__\u001b[0;34m(self, iterable)\u001b[0m\n\u001b[1;32m   1916\u001b[0m             \u001b[0moutput\u001b[0m \u001b[0;34m=\u001b[0m \u001b[0mself\u001b[0m\u001b[0;34m.\u001b[0m\u001b[0m_get_sequential_output\u001b[0m\u001b[0;34m(\u001b[0m\u001b[0miterable\u001b[0m\u001b[0;34m)\u001b[0m\u001b[0;34m\u001b[0m\u001b[0;34m\u001b[0m\u001b[0m\n\u001b[1;32m   1917\u001b[0m             \u001b[0mnext\u001b[0m\u001b[0;34m(\u001b[0m\u001b[0moutput\u001b[0m\u001b[0;34m)\u001b[0m\u001b[0;34m\u001b[0m\u001b[0;34m\u001b[0m\u001b[0m\n\u001b[0;32m-> 1918\u001b[0;31m             \u001b[0;32mreturn\u001b[0m \u001b[0moutput\u001b[0m \u001b[0;32mif\u001b[0m \u001b[0mself\u001b[0m\u001b[0;34m.\u001b[0m\u001b[0mreturn_generator\u001b[0m \u001b[0;32melse\u001b[0m \u001b[0mlist\u001b[0m\u001b[0;34m(\u001b[0m\u001b[0moutput\u001b[0m\u001b[0;34m)\u001b[0m\u001b[0;34m\u001b[0m\u001b[0;34m\u001b[0m\u001b[0m\n\u001b[0m\u001b[1;32m   1919\u001b[0m \u001b[0;34m\u001b[0m\u001b[0m\n\u001b[1;32m   1920\u001b[0m         \u001b[0;31m# Let's create an ID that uniquely identifies the current call. If the\u001b[0m\u001b[0;34m\u001b[0m\u001b[0;34m\u001b[0m\u001b[0m\n",
            "\u001b[0;32m/usr/local/lib/python3.10/dist-packages/joblib/parallel.py\u001b[0m in \u001b[0;36m_get_sequential_output\u001b[0;34m(self, iterable)\u001b[0m\n\u001b[1;32m   1845\u001b[0m                 \u001b[0mself\u001b[0m\u001b[0;34m.\u001b[0m\u001b[0mn_dispatched_batches\u001b[0m \u001b[0;34m+=\u001b[0m \u001b[0;36m1\u001b[0m\u001b[0;34m\u001b[0m\u001b[0;34m\u001b[0m\u001b[0m\n\u001b[1;32m   1846\u001b[0m                 \u001b[0mself\u001b[0m\u001b[0;34m.\u001b[0m\u001b[0mn_dispatched_tasks\u001b[0m \u001b[0;34m+=\u001b[0m \u001b[0;36m1\u001b[0m\u001b[0;34m\u001b[0m\u001b[0;34m\u001b[0m\u001b[0m\n\u001b[0;32m-> 1847\u001b[0;31m                 \u001b[0mres\u001b[0m \u001b[0;34m=\u001b[0m \u001b[0mfunc\u001b[0m\u001b[0;34m(\u001b[0m\u001b[0;34m*\u001b[0m\u001b[0margs\u001b[0m\u001b[0;34m,\u001b[0m \u001b[0;34m**\u001b[0m\u001b[0mkwargs\u001b[0m\u001b[0;34m)\u001b[0m\u001b[0;34m\u001b[0m\u001b[0;34m\u001b[0m\u001b[0m\n\u001b[0m\u001b[1;32m   1848\u001b[0m                 \u001b[0mself\u001b[0m\u001b[0;34m.\u001b[0m\u001b[0mn_completed_tasks\u001b[0m \u001b[0;34m+=\u001b[0m \u001b[0;36m1\u001b[0m\u001b[0;34m\u001b[0m\u001b[0;34m\u001b[0m\u001b[0m\n\u001b[1;32m   1849\u001b[0m                 \u001b[0mself\u001b[0m\u001b[0;34m.\u001b[0m\u001b[0mprint_progress\u001b[0m\u001b[0;34m(\u001b[0m\u001b[0;34m)\u001b[0m\u001b[0;34m\u001b[0m\u001b[0;34m\u001b[0m\u001b[0m\n",
            "\u001b[0;32m/usr/local/lib/python3.10/dist-packages/sklearn/utils/parallel.py\u001b[0m in \u001b[0;36m__call__\u001b[0;34m(self, *args, **kwargs)\u001b[0m\n\u001b[1;32m    125\u001b[0m             \u001b[0mconfig\u001b[0m \u001b[0;34m=\u001b[0m \u001b[0;34m{\u001b[0m\u001b[0;34m}\u001b[0m\u001b[0;34m\u001b[0m\u001b[0;34m\u001b[0m\u001b[0m\n\u001b[1;32m    126\u001b[0m         \u001b[0;32mwith\u001b[0m \u001b[0mconfig_context\u001b[0m\u001b[0;34m(\u001b[0m\u001b[0;34m**\u001b[0m\u001b[0mconfig\u001b[0m\u001b[0;34m)\u001b[0m\u001b[0;34m:\u001b[0m\u001b[0;34m\u001b[0m\u001b[0;34m\u001b[0m\u001b[0m\n\u001b[0;32m--> 127\u001b[0;31m             \u001b[0;32mreturn\u001b[0m \u001b[0mself\u001b[0m\u001b[0;34m.\u001b[0m\u001b[0mfunction\u001b[0m\u001b[0;34m(\u001b[0m\u001b[0;34m*\u001b[0m\u001b[0margs\u001b[0m\u001b[0;34m,\u001b[0m \u001b[0;34m**\u001b[0m\u001b[0mkwargs\u001b[0m\u001b[0;34m)\u001b[0m\u001b[0;34m\u001b[0m\u001b[0;34m\u001b[0m\u001b[0m\n\u001b[0m",
            "\u001b[0;32m/usr/local/lib/python3.10/dist-packages/sklearn/ensemble/_forest.py\u001b[0m in \u001b[0;36m_accumulate_prediction\u001b[0;34m(predict, X, out, lock)\u001b[0m\n\u001b[1;32m    645\u001b[0m     \u001b[0mcomplains\u001b[0m \u001b[0mthat\u001b[0m \u001b[0mit\u001b[0m \u001b[0mcannot\u001b[0m \u001b[0mpickle\u001b[0m \u001b[0mit\u001b[0m \u001b[0mwhen\u001b[0m \u001b[0mplaced\u001b[0m \u001b[0mthere\u001b[0m\u001b[0;34m.\u001b[0m\u001b[0;34m\u001b[0m\u001b[0;34m\u001b[0m\u001b[0m\n\u001b[1;32m    646\u001b[0m     \"\"\"\n\u001b[0;32m--> 647\u001b[0;31m     \u001b[0mprediction\u001b[0m \u001b[0;34m=\u001b[0m \u001b[0mpredict\u001b[0m\u001b[0;34m(\u001b[0m\u001b[0mX\u001b[0m\u001b[0;34m,\u001b[0m \u001b[0mcheck_input\u001b[0m\u001b[0;34m=\u001b[0m\u001b[0;32mFalse\u001b[0m\u001b[0;34m)\u001b[0m\u001b[0;34m\u001b[0m\u001b[0;34m\u001b[0m\u001b[0m\n\u001b[0m\u001b[1;32m    648\u001b[0m     \u001b[0;32mwith\u001b[0m \u001b[0mlock\u001b[0m\u001b[0;34m:\u001b[0m\u001b[0;34m\u001b[0m\u001b[0;34m\u001b[0m\u001b[0m\n\u001b[1;32m    649\u001b[0m         \u001b[0;32mif\u001b[0m \u001b[0mlen\u001b[0m\u001b[0;34m(\u001b[0m\u001b[0mout\u001b[0m\u001b[0;34m)\u001b[0m \u001b[0;34m==\u001b[0m \u001b[0;36m1\u001b[0m\u001b[0;34m:\u001b[0m\u001b[0;34m\u001b[0m\u001b[0;34m\u001b[0m\u001b[0m\n",
            "\u001b[0;32m/usr/local/lib/python3.10/dist-packages/sklearn/tree/_classes.py\u001b[0m in \u001b[0;36mpredict\u001b[0;34m(self, X, check_input)\u001b[0m\n\u001b[1;32m    499\u001b[0m         \u001b[0mcheck_is_fitted\u001b[0m\u001b[0;34m(\u001b[0m\u001b[0mself\u001b[0m\u001b[0;34m)\u001b[0m\u001b[0;34m\u001b[0m\u001b[0;34m\u001b[0m\u001b[0m\n\u001b[1;32m    500\u001b[0m         \u001b[0mX\u001b[0m \u001b[0;34m=\u001b[0m \u001b[0mself\u001b[0m\u001b[0;34m.\u001b[0m\u001b[0m_validate_X_predict\u001b[0m\u001b[0;34m(\u001b[0m\u001b[0mX\u001b[0m\u001b[0;34m,\u001b[0m \u001b[0mcheck_input\u001b[0m\u001b[0;34m)\u001b[0m\u001b[0;34m\u001b[0m\u001b[0;34m\u001b[0m\u001b[0m\n\u001b[0;32m--> 501\u001b[0;31m         \u001b[0mproba\u001b[0m \u001b[0;34m=\u001b[0m \u001b[0mself\u001b[0m\u001b[0;34m.\u001b[0m\u001b[0mtree_\u001b[0m\u001b[0;34m.\u001b[0m\u001b[0mpredict\u001b[0m\u001b[0;34m(\u001b[0m\u001b[0mX\u001b[0m\u001b[0;34m)\u001b[0m\u001b[0;34m\u001b[0m\u001b[0;34m\u001b[0m\u001b[0m\n\u001b[0m\u001b[1;32m    502\u001b[0m         \u001b[0mn_samples\u001b[0m \u001b[0;34m=\u001b[0m \u001b[0mX\u001b[0m\u001b[0;34m.\u001b[0m\u001b[0mshape\u001b[0m\u001b[0;34m[\u001b[0m\u001b[0;36m0\u001b[0m\u001b[0;34m]\u001b[0m\u001b[0;34m\u001b[0m\u001b[0;34m\u001b[0m\u001b[0m\n\u001b[1;32m    503\u001b[0m \u001b[0;34m\u001b[0m\u001b[0m\n",
            "\u001b[0;31mKeyboardInterrupt\u001b[0m: "
          ]
        }
      ]
    },
    {
      "cell_type": "code",
      "source": [
        "# After training your model and making predictions\n",
        "train_pred = rfr.predict(X_train)\n",
        "test_pred = rfr.predict(X_test)\n",
        "\n",
        "# Training performance\n",
        "print(\"Training Set Performance:\")\n",
        "print(\"MAE:\", mean_absolute_error(y_train, train_pred))\n",
        "print(\"MSE:\", mean_squared_error(y_train, train_pred))\n",
        "print(\"R2 Score:\", r2_score(y_train, train_pred))\n",
        "\n",
        "# Testing performance\n",
        "print(\"\\nTest Set Performance:\")\n",
        "print(\"MAE:\", mean_absolute_error(y_test, test_pred))\n",
        "print(\"MSE:\", mean_squared_error(y_test, test_pred))\n",
        "print(\"R2 Score:\", r2_score(y_test, test_pred))"
      ],
      "metadata": {
        "colab": {
          "base_uri": "https://localhost:8080/"
        },
        "id": "Kez0DwoN8m8R",
        "outputId": "e73a6d21-9c0e-486b-caae-9d2c03801d7d"
      },
      "execution_count": null,
      "outputs": [
        {
          "output_type": "stream",
          "name": "stdout",
          "text": [
            "Training Set Performance:\n",
            "MAE: 2.2849835469922673e-05\n",
            "MSE: 1.2097232023050093e-09\n",
            "R2 Score: 0.9722619420547626\n",
            "\n",
            "Test Set Performance:\n",
            "MAE: 4.9752976857644776e-05\n",
            "MSE: 4.307804421356169e-09\n",
            "R2 Score: 0.8280717020119326\n"
          ]
        }
      ]
    },
    {
      "cell_type": "code",
      "source": [
        "from sklearn.model_selection import cross_val_score\n",
        "\n",
        "# Perform 5-fold cross-validation\n",
        "cv_scores = cross_val_score(rfr, X, y, cv=5, scoring='neg_mean_squared_error')\n",
        "\n",
        "# Print cross-validation results\n",
        "print(\"Cross-validation scores (MSE):\", -cv_scores)\n",
        "print(\"Average CV score (MSE):\", -cv_scores.mean())"
      ],
      "metadata": {
        "colab": {
          "base_uri": "https://localhost:8080/"
        },
        "id": "KaJ5IbFd8rYn",
        "outputId": "9c9a6b39-5906-48eb-ae6a-69e9a20158c8"
      },
      "execution_count": null,
      "outputs": [
        {
          "output_type": "stream",
          "name": "stdout",
          "text": [
            "Cross-validation scores (MSE): [6.07405336e-09 5.25564282e-09 3.55865174e-09 3.64513047e-09\n",
            " 7.33847845e-09]\n",
            "Average CV score (MSE): 5.174391368037812e-09\n"
          ]
        }
      ]
    },
    {
      "cell_type": "code",
      "source": [
        "# Generate learning curves\n",
        "train_sizes, train_scores, test_scores = learning_curve(rfr, X, y, cv=5, scoring='neg_mean_squared_error', n_jobs=-1, train_sizes=np.linspace(0.1, 1.0, 5))\n",
        "\n",
        "# Compute the mean and std deviation of training and test scores\n",
        "train_scores_mean = -train_scores.mean(axis=1)\n",
        "test_scores_mean = -test_scores.mean(axis=1)\n",
        "\n",
        "# Plot learning curves\n",
        "plt.figure()\n",
        "plt.plot(train_sizes, train_scores_mean, label=\"Training error\")\n",
        "plt.plot(train_sizes, test_scores_mean, label=\"Validation error\")\n",
        "plt.ylabel(\"MSE\")\n",
        "plt.xlabel(\"Training size\")\n",
        "plt.title(\"Learning Curves\")\n",
        "plt.legend()\n",
        "plt.show()"
      ],
      "metadata": {
        "colab": {
          "base_uri": "https://localhost:8080/",
          "height": 472
        },
        "id": "OOP6Syup8xk0",
        "outputId": "5b101c17-5661-4149-dd67-f99bddb0d14f"
      },
      "execution_count": null,
      "outputs": [
        {
          "output_type": "display_data",
          "data": {
            "text/plain": [
              "<Figure size 640x480 with 1 Axes>"
            ],
            "image/png": "[encoded data removed]"
          },
          "metadata": {}
        }
      ]
    },
    {
      "cell_type": "code",
      "source": [
        "import matplotlib.pyplot as plt\n",
        "import seaborn as sns\n",
        "\n",
        "# Calculate residuals for training and testing sets\n",
        "train_residuals = y_train - train_pred\n",
        "test_residuals = y_test - test_pred\n",
        "\n",
        "# Plot residuals\n",
        "plt.figure(figsize=(10, 5))\n",
        "\n",
        "# Training residuals\n",
        "plt.subplot(1, 2, 1)\n",
        "sns.histplot(train_residuals, kde=True, color=\"blue\")\n",
        "plt.title(\"Training Set Residuals\")\n",
        "\n",
        "# Testing residuals\n",
        "plt.subplot(1, 2, 2)\n",
        "sns.histplot(test_residuals, kde=True, color=\"red\")\n",
        "plt.title(\"Testing Set Residuals\")\n",
        "\n",
        "plt.tight_layout()\n",
        "plt.show()\n"
      ],
      "metadata": {
        "colab": {
          "base_uri": "https://localhost:8080/",
          "height": 507
        },
        "id": "lQmewzSL82FW",
        "outputId": "2cc1e355-b791-43c0-a58b-72ff76e03d96"
      },
      "execution_count": null,
      "outputs": [
        {
          "output_type": "display_data",
          "data": {
            "text/plain": [
              "<Figure size 1000x500 with 2 Axes>"
            ],
            "image/png": "[encoded data removed]"
          },
          "metadata": {}
        }
      ]
    },
    {
      "cell_type": "markdown",
      "source": [
        "#### **Hyperparameter tuning** (makes performance worse for some reason)"
      ],
      "metadata": {
        "id": "HpGuJ-egilzF"
      }
    },
    {
      "cell_type": "code",
      "source": [
        "param_grid = {\n",
        "    # num of decision trees\n",
        "    'n_estimators':[10, 100, 200],\n",
        "    # depth of each tree\n",
        "    'max_depth':[2,5,10],\n",
        "    # num of samples required to split an internal node\n",
        "    'min_samples_split':[2,5,10],\n",
        "    # num of samples required to split a leaf node\n",
        "    'min_samples_leaf':[1,2,4]\n",
        "}\n",
        "rfr_cv = GridSearchCV(estimator=rfr, param_grid=param_grid, cv=3, scoring='neg_mean_squared_error', n_jobs=-1)"
      ],
      "metadata": {
        "id": "myNYtDRrip-6"
      },
      "execution_count": null,
      "outputs": []
    },
    {
      "cell_type": "code",
      "source": [
        "# Refit the model\n",
        "rfr_cv.fit(X_train, y_train)\n",
        "\n",
        "# New predictions\n",
        "y_pred = rfr_cv.predict(X_test)"
      ],
      "metadata": {
        "id": "JrxEnEjqi0kX"
      },
      "execution_count": null,
      "outputs": []
    },
    {
      "cell_type": "markdown",
      "source": [
        "#### **Tuned model evaluation**"
      ],
      "metadata": {
        "id": "T3TDmAG8i8Z-"
      }
    },
    {
      "cell_type": "code",
      "source": [
        "mean_absolute_error(y_pred, y_test)"
      ],
      "metadata": {
        "id": "ff4sk8wFi_4E",
        "colab": {
          "base_uri": "https://localhost:8080/"
        },
        "outputId": "487dd1b2-8379-487e-a0c0-bc0c0503fe70"
      },
      "execution_count": null,
      "outputs": [
        {
          "output_type": "execute_result",
          "data": {
            "text/plain": [
              "5.4239292978785316e-05"
            ]
          },
          "metadata": {},
          "execution_count": 242
        }
      ]
    },
    {
      "cell_type": "code",
      "source": [
        "mean_squared_error(y_pred, y_test)"
      ],
      "metadata": {
        "id": "iMy7i7rwjAhk",
        "colab": {
          "base_uri": "https://localhost:8080/"
        },
        "outputId": "b7d32d4e-d0af-4c0a-b4aa-d0103fd755b6"
      },
      "execution_count": null,
      "outputs": [
        {
          "output_type": "execute_result",
          "data": {
            "text/plain": [
              "5.447561554466795e-09"
            ]
          },
          "metadata": {},
          "execution_count": 243
        }
      ]
    },
    {
      "cell_type": "code",
      "source": [
        "r2_score(y_pred, y_test)"
      ],
      "metadata": {
        "id": "w2Cda16EjB4_",
        "colab": {
          "base_uri": "https://localhost:8080/"
        },
        "outputId": "5db3e953-207e-498e-fab7-bad7f69dba1b"
      },
      "execution_count": null,
      "outputs": [
        {
          "output_type": "execute_result",
          "data": {
            "text/plain": [
              "0.6176406685055558"
            ]
          },
          "metadata": {},
          "execution_count": 244
        }
      ]
    },
    {
      "cell_type": "markdown",
      "source": [
        "#### **Feature Importance Tuned Model**"
      ],
      "metadata": {
        "id": "p0xl4m8fpQTn"
      }
    },
    {
      "cell_type": "code",
      "source": [
        "# Extract and display feature importances for the tuned model\n",
        "feature_importances_tuned = rfr_cv.best_estimator_.feature_importances_\n",
        "\n",
        "importance_df_tuned = pd.DataFrame({\n",
        "    'Feature': X_train.columns,\n",
        "    'Importance': feature_importances_tuned\n",
        "})\n",
        "\n",
        "importance_df_tuned = importance_df_tuned.sort_values(by='Importance', ascending=False)\n",
        "print(importance_df_tuned)\n"
      ],
      "metadata": {
        "colab": {
          "base_uri": "https://localhost:8080/"
        },
        "id": "PDDGK-W8pSbZ",
        "outputId": "f6955fb8-73e4-4711-930c-ad34dfab5c86"
      },
      "execution_count": null,
      "outputs": [
        {
          "output_type": "stream",
          "name": "stdout",
          "text": [
            "                                              Feature  Importance\n",
            "2                             University R&D Spending    0.448773\n",
            "0                                         County Code    0.120507\n",
            "9                      Proprietary Funds - Enterprise    0.084835\n",
            "10               Proprietary Funds - Internal Service    0.081597\n",
            "6                Governmental Funds - Special Revenue    0.068312\n",
            "4   State, Local and Federal Funds for Pupils by S...    0.059922\n",
            "8               Governmental Funds - Capital Projects    0.042384\n",
            "3                             Median Household Income    0.035410\n",
            "5                        Governmental Funds - General    0.028778\n",
            "7                   Governmental Funds - Debt Service    0.015393\n",
            "1                               Business Applications    0.014089\n"
          ]
        }
      ]
    },
    {
      "cell_type": "code",
      "source": [
        "def plot_learning_curve(estimator, X, y, cv=None, scoring='neg_mean_squared_error', n_jobs=-1, train_sizes=np.linspace(0.1, 1.0, 5)):\n",
        "    plt.figure(figsize=(10, 6))\n",
        "\n",
        "    train_sizes, train_scores, test_scores = learning_curve(estimator, X, y, cv=cv, scoring=scoring, n_jobs=n_jobs, train_sizes=train_sizes)\n",
        "\n",
        "    train_scores_mean = np.mean(train_scores, axis=1)\n",
        "    train_scores_std = np.std(train_scores, axis=1)\n",
        "    test_scores_mean = np.mean(test_scores, axis=1)\n",
        "    test_scores_std = np.std(test_scores, axis=1)\n",
        "\n",
        "    plt.fill_between(train_sizes, train_scores_mean - train_scores_std, train_scores_mean + train_scores_std, alpha=0.1, color=\"r\")\n",
        "    plt.fill_between(train_sizes, test_scores_mean - test_scores_std, test_scores_mean + test_scores_std, alpha=0.1, color=\"g\")\n",
        "    plt.plot(train_sizes, train_scores_mean, 'o-', color=\"r\", label=\"Training score\")\n",
        "    plt.plot(train_sizes, test_scores_mean, 'o-', color=\"g\", label=\"Cross-validation score\")\n",
        "\n",
        "    plt.title('Learning Curves')\n",
        "    plt.xlabel('Training Examples')\n",
        "    plt.ylabel('Score')\n",
        "    plt.legend(loc='best')\n",
        "    plt.grid()\n",
        "    plt.show()\n",
        "\n",
        "# Generate learning curves for the tuned model\n",
        "plot_learning_curve(rfr_cv.best_estimator_, X_train, y_train, cv=5)"
      ],
      "metadata": {
        "colab": {
          "base_uri": "https://localhost:8080/",
          "height": 564
        },
        "id": "eSgY4DtSBJ6A",
        "outputId": "a31806c1-d9b7-4ae9-831d-36e8a7885691"
      },
      "execution_count": null,
      "outputs": [
        {
          "output_type": "display_data",
          "data": {
            "text/plain": [
              "<Figure size 1000x600 with 1 Axes>"
            ],
            "image/png": "[encoded data removed]"
          },
          "metadata": {}
        }
      ]
    },
    {
      "cell_type": "markdown",
      "source": [
        "## **Preparing Training Dataset**\n",
        "#### **R&D by college**"
      ],
      "metadata": {
        "id": "0H2UrlUwjDuM"
      }
    },
    {
      "cell_type": "code",
      "source": [
        "\n",
        "!pip install FuzzyWuzzy\n",
        "import pandas as pd\n",
        "import requests\n",
        "from io import BytesIO\n",
        "from fuzzywuzzy import fuzz, process\n",
        "\n",
        "# List of Florida universities\n",
        "florida_universities = [\n",
        "    \"U. of Florida\",\n",
        "    \"Florida State U.\",\n",
        "    \"U. of Miami\",\n",
        "    \"U. of Central Florida\",\n",
        "    \"U. of South Florida\",\n",
        "    \"Florida International U.\",\n",
        "    \"Florida Atlantic U.\",\n",
        "    \"Florida A&M U.\",\n",
        "    \"U. of North Florida\",\n",
        "    \"Florida Gulf Coast U.\",\n",
        "    \"New College of Florida\",\n",
        "    \"Stetson U.\",\n",
        "    \"Eckerd C.\",\n",
        "    \"Barry U.\",\n",
        "    \"Embry-Riddle Aeronautical U.\",\n",
        "    \"Florida Institute of Technology\",\n",
        "    \"Rollins C.\",\n",
        "    \"U. of Tampa\",\n",
        "    \"Jacksonville U.\",\n",
        "    \"Bethune-Cookman U.\"\n",
        "]\n",
        "\n",
        "# URL to download the data\n",
        "url = \"https://ncsesdata.nsf.gov/profiles/site?method=downloadRankings&src=HERD&s=&o=\"\n",
        "\n",
        "# Scrape the dataset and load into a BytesIO object\n",
        "response = requests.get(url)\n",
        "file_content = BytesIO(response.content)\n",
        "\n",
        "# Load the dataset into a pandas DataFrame directly from the BytesIO object\n",
        "df = pd.read_excel(file_content, skiprows=2, header=[0,1])\n",
        "\n",
        "# Drop the first level of the header (the one with the years)\n",
        "df.columns = df.columns.droplevel(0)\n",
        "df.drop(columns=['R&D expenditures.1'], inplace=True)\n",
        "\n",
        "# Generate new column names by concatenating with the appropriate year\n",
        "new_columns = ['Institution']\n",
        "years = list(range(2022, 2012, -1))  # From 2022 to 2013\n",
        "\n",
        "for year in years:\n",
        "    new_columns.extend([f'Rank {year}', f'Percentile {year}', f'R&D Expenditures {year}'])\n",
        "\n",
        "df.columns = new_columns\n",
        "\n",
        "# Use FuzzyWuzzy to find the best matches for each Florida university\n",
        "matches = []\n",
        "for university in florida_universities:\n",
        "    best_match = process.extractOne(university, df['Institution'], scorer=fuzz.token_sort_ratio)\n",
        "    if best_match and best_match[1] > 80:  # Only consider matches with a score above 80\n",
        "        matches.append(best_match[0])\n",
        "\n",
        "# Filter the DataFrame for the matched universities\n",
        "filtered_df = df[df['Institution'].isin(matches)]\n",
        "filtered_df.reset_index(drop=True, inplace=True)\n",
        "\n",
        "# Display the filtered DataFrame\n",
        "print(filtered_df)\n"
      ],
      "metadata": {
        "colab": {
          "base_uri": "https://localhost:8080/"
        },
        "id": "tGPwvn4lyD-1",
        "outputId": "450c3dfe-8ccf-432b-941d-dcc0a820435e"
      },
      "execution_count": null,
      "outputs": [
        {
          "output_type": "stream",
          "name": "stdout",
          "text": [
            "Requirement already satisfied: FuzzyWuzzy in /usr/local/lib/python3.10/dist-packages (0.18.0)\n"
          ]
        },
        {
          "output_type": "stream",
          "name": "stderr",
          "text": [
            "/usr/local/lib/python3.10/dist-packages/openpyxl/styles/stylesheet.py:237: UserWarning: Workbook contains no default style, apply openpyxl's default\n",
            "  warn(\"Workbook contains no default style, apply openpyxl's default\")\n"
          ]
        },
        {
          "output_type": "stream",
          "name": "stdout",
          "text": [
            "                        Institution  Rank 2022  Percentile 2022  \\\n",
            "0                        U. Florida       25.0            97.33   \n",
            "1                          U. Miami       69.0            92.43   \n",
            "2                  U. South Florida       75.0            91.76   \n",
            "3                  Florida State U.       82.0            90.98   \n",
            "4          Florida International U.      101.0            88.86   \n",
            "5                U. Central Florida      122.0            86.53   \n",
            "6               Florida Atlantic U.      197.0            78.17   \n",
            "7                    Florida A&M U.      212.0            76.50   \n",
            "8      Embry-Riddle Aeronautical U.      255.0            71.71   \n",
            "9                  U. North Florida      297.0            67.04   \n",
            "10  Florida Institute of Technology      304.0            66.26   \n",
            "11            Florida Gulf Coast U.      352.0            60.91   \n",
            "12               Bethune-Cookman U.      711.0            20.93   \n",
            "13                        Eckerd C.      746.0            17.04   \n",
            "14                       Stetson U.      752.0            16.37   \n",
            "15                       Rollins C.      765.0            14.92   \n",
            "16                         Barry U.      810.0             9.91   \n",
            "17                  Jacksonville U.      885.0             1.56   \n",
            "\n",
            "    R&D Expenditures 2022  Rank 2021  Percentile 2021  R&D Expenditures 2021  \\\n",
            "0               1085834.0       27.0            97.16               959965.0   \n",
            "1                439300.0       75.0            91.91               375841.0   \n",
            "2                405166.0       71.0            92.35               385965.0   \n",
            "3                355986.0       83.0            91.04               328604.0   \n",
            "4                281665.0      105.0            88.64               246075.0   \n",
            "5                221488.0      112.0            87.87               218596.0   \n",
            "6                 61748.0      190.0            79.35                58471.0   \n",
            "7                 50636.0      211.0            77.05                47124.0   \n",
            "8                 28650.0      278.0            69.73                19830.0   \n",
            "9                 18394.0      303.0            67.00                15782.0   \n",
            "10                17706.0      267.0            70.93                23195.0   \n",
            "11                 9896.0      360.0            60.77                 8197.0   \n",
            "12                  707.0      651.0            28.97                  928.0   \n",
            "13                  596.0      814.0            11.16                  367.0   \n",
            "14                  580.0      723.0            21.11                  611.0   \n",
            "15                  532.0      746.0            18.59                  533.0   \n",
            "16                  367.0      828.0             9.63                  343.0   \n",
            "17                  162.0      774.0            15.53                  460.0   \n",
            "\n",
            "    Rank 2020  Percentile 2020  R&D Expenditures 2020  ...  \\\n",
            "0        26.0            97.29               942223.0  ...   \n",
            "1        69.0            92.63               381410.0  ...   \n",
            "2        77.0            91.77               333344.0  ...   \n",
            "3        75.0            91.98               350430.0  ...   \n",
            "4       105.0            88.74               236842.0  ...   \n",
            "5       115.0            87.65               213757.0  ...   \n",
            "6       197.0            78.77                53845.0  ...   \n",
            "7       221.0            76.17                41319.0  ...   \n",
            "8       284.0            69.35                17786.0  ...   \n",
            "9       316.0            65.88                13573.0  ...   \n",
            "10      281.0            69.67                18271.0  ...   \n",
            "11      379.0            59.06                 6671.0  ...   \n",
            "12      714.0            22.77                  636.0  ...   \n",
            "13      795.0            14.00                  406.0  ...   \n",
            "14      700.0            24.29                  670.0  ...   \n",
            "15      792.0            14.32                  414.0  ...   \n",
            "16      875.0             5.33                  237.0  ...   \n",
            "17      775.0            16.16                  459.0  ...   \n",
            "\n",
            "    R&D Expenditures 2016  Rank 2015  Percentile 2015  R&D Expenditures 2015  \\\n",
            "0                791294.0       25.0            97.35               739522.0   \n",
            "1                358441.0       68.0            92.60               331036.0   \n",
            "2                505965.0       45.0            95.14               485354.0   \n",
            "3                268288.0       83.0            90.94               256449.0   \n",
            "4                170846.0      119.0            86.96               163033.0   \n",
            "5                198211.0       99.0            89.17               215519.0   \n",
            "6                 26750.0      258.0            71.60                21214.0   \n",
            "7                 45390.0      200.0            78.01                46522.0   \n",
            "8                 16761.0      307.0            66.19                11942.0   \n",
            "9                  5141.0      428.0            52.82                 3689.0   \n",
            "10                18860.0      294.0            67.63                14282.0   \n",
            "11                 7335.0      333.0            63.32                 8992.0   \n",
            "12                    0.0        0.0             0.00                    0.0   \n",
            "13                  753.0      778.0            14.15                  415.0   \n",
            "14                  183.0      874.0             3.54                  204.0   \n",
            "15                  423.0      761.0            16.03                  460.0   \n",
            "16                  660.0      675.0            25.53                  762.0   \n",
            "17                    0.0        0.0             0.00                    0.0   \n",
            "\n",
            "    Rank 2014  Percentile 2014  R&D Expenditures 2014  Rank 2013  \\\n",
            "0        26.0            97.21               708526.0       27.0   \n",
            "1        65.0            92.85               345805.0       67.0   \n",
            "2        41.0            95.53               488641.0       43.0   \n",
            "3        84.0            90.73               252548.0       83.0   \n",
            "4       131.0            85.47               132531.0      134.0   \n",
            "5       105.0            88.38               185555.0      135.0   \n",
            "6       251.0            72.07                22997.0      248.0   \n",
            "7       199.0            77.88                46367.0      197.0   \n",
            "8       285.0            68.27                15393.0      285.0   \n",
            "9       426.0            52.51                 3674.0      405.0   \n",
            "10      293.0            67.37                14255.0      295.0   \n",
            "11      315.0            64.91                 9626.0      293.0   \n",
            "12        0.0             0.00                    0.0        0.0   \n",
            "13      756.0            15.64                  485.0      788.0   \n",
            "14      741.0            17.31                  505.0      779.0   \n",
            "15      745.0            16.87                  497.0      784.0   \n",
            "16      546.0            39.10                 1677.0      451.0   \n",
            "17        0.0             0.00                    0.0      824.0   \n",
            "\n",
            "    Percentile 2013  R&D Expenditures 2013  \n",
            "0             97.08               695063.0  \n",
            "1             92.60               344757.0  \n",
            "2             95.29               459409.0  \n",
            "3             90.81               250877.0  \n",
            "4             85.09               128070.0  \n",
            "5             84.98               126681.0  \n",
            "6             72.31                23967.0  \n",
            "7             78.02                51149.0  \n",
            "8             68.16                16484.0  \n",
            "9             54.70                 4480.0  \n",
            "10            67.04                13298.0  \n",
            "11            67.26                14204.0  \n",
            "12             0.00                    0.0  \n",
            "13            11.76                  365.0  \n",
            "14            12.77                  404.0  \n",
            "15            12.21                  372.0  \n",
            "16            49.55                 3041.0  \n",
            "17             7.73                  280.0  \n",
            "\n",
            "[18 rows x 31 columns]\n"
          ]
        }
      ]
    },
    {
      "cell_type": "markdown",
      "source": [
        "#### **R&D by county**"
      ],
      "metadata": {
        "id": "-Hfu7dDnCOvA"
      }
    },
    {
      "cell_type": "code",
      "source": [
        "!pip install fuzzywuzzy\n",
        "import pandas as pd\n",
        "import requests\n",
        "from io import BytesIO\n",
        "from fuzzywuzzy import fuzz, process\n",
        "\n",
        "university_to_county = {\n",
        "    \"U. Florida\": \"Alachua\",\n",
        "    \"U. Miami\": \"Miami-Dade\",\n",
        "    \"U. South Florida\": \"Hillsborough\",\n",
        "    \"Florida State U.\": \"Leon\",\n",
        "    \"Florida International U.\": \"Miami-Dade\",\n",
        "    \"U. Central Florida\": \"Orange\",\n",
        "    \"Florida Atlantic U.\": \"Palm Beach\",\n",
        "    \"Florida A&M U.\": \"Leon\",\n",
        "    \"Embry-Riddle Aeronautical U.\": \"Volusia\",\n",
        "    \"U. North Florida\": \"Duval\",\n",
        "    \"Florida Institute of Technology\": \"Brevard\",\n",
        "    \"Florida Gulf Coast U.\": \"Lee\",\n",
        "    \"Bethune-Cookman U.\": \"Volusia\",\n",
        "    \"Eckerd C.\": \"Pinellas\",\n",
        "    \"Stetson U.\": \"Volusia\",\n",
        "    \"Rollins C.\": \"Orange\",\n",
        "    \"Barry U.\": \"Miami-Dade\",\n",
        "    \"Jacksonville U.\": \"Duval\",\n",
        "    \"New College of Florida\": \"Sarasota\",\n",
        "    \"U. Tampa\": \"Hillsborough\"\n",
        "}\n",
        "\n",
        "# URL to download the data\n",
        "url = \"https://ncsesdata.nsf.gov/profiles/site?method=downloadRankings&src=HERD&s=&o=\"\n",
        "\n",
        "# Scrape the dataset and load into a BytesIO object\n",
        "response = requests.get(url)\n",
        "file_content = BytesIO(response.content)\n",
        "\n",
        "# Load the dataset into a pandas DataFrame directly from the BytesIO object\n",
        "df = pd.read_excel(file_content, skiprows=2, header=[0,1])\n",
        "\n",
        "# Drop the first level of the header (the one with the years)\n",
        "df.columns = df.columns.droplevel(0)\n",
        "df.drop(columns=['R&D expenditures.1'], inplace=True)\n",
        "\n",
        "# Generate new column names by concatenating with the appropriate year\n",
        "new_columns = ['Institution']\n",
        "years = list(range(2022, 2012, -1))  # From 2022 to 2013\n",
        "\n",
        "for year in years:\n",
        "    new_columns.extend([f'Rank {year}', f'Percentile {year}', f'R&D Expenditures {year}'])\n",
        "\n",
        "df.columns = new_columns\n",
        "\n",
        "# Use FuzzyWuzzy to find the best matches for each Florida university\n",
        "matches = []\n",
        "for university in university_to_county.keys():\n",
        "    best_match = process.extractOne(university, df['Institution'], scorer=fuzz.token_sort_ratio)\n",
        "    if best_match and best_match[1] > 80:  # Only consider matches with a score above 80\n",
        "        matches.append((best_match[0], university_to_county[university]))\n",
        "\n",
        "# Create a DataFrame with the matched universities and their corresponding counties\n",
        "filtered_df = df[df['Institution'].isin([match[0] for match in matches])].copy()\n",
        "filtered_df['County'] = filtered_df['Institution'].map(dict(matches))\n",
        "\n",
        "# Aggregate R&D Expenditures by County and Year\n",
        "county_rnd_df = filtered_df.groupby('County').agg({f'R&D Expenditures {year}': 'sum' for year in years}).reset_index()\n",
        "\n",
        "# Display the new DataFrame\n",
        "print(county_rnd_df)\n",
        "\n",
        "county_rnd_df.to_excel('county_rnd_df.xlsx', index=False)\n",
        "from google.colab import files\n",
        "\n",
        "# Download the file\n",
        "files.download('county_rnd_df.xlsx')\n",
        "\n"
      ],
      "metadata": {
        "colab": {
          "base_uri": "https://localhost:8080/",
          "height": 1000
        },
        "id": "dk50W_Va_-sN",
        "outputId": "7059888b-b2aa-444d-afa1-50d466b79ecd"
      },
      "execution_count": null,
      "outputs": [
        {
          "output_type": "stream",
          "name": "stdout",
          "text": [
            "Collecting fuzzywuzzy\n",
            "  Downloading fuzzywuzzy-0.18.0-py2.py3-none-any.whl.metadata (4.9 kB)\n",
            "Downloading fuzzywuzzy-0.18.0-py2.py3-none-any.whl (18 kB)\n",
            "Installing collected packages: fuzzywuzzy\n",
            "Successfully installed fuzzywuzzy-0.18.0\n"
          ]
        },
        {
          "output_type": "stream",
          "name": "stderr",
          "text": [
            "/usr/local/lib/python3.10/dist-packages/fuzzywuzzy/fuzz.py:11: UserWarning: Using slow pure-python SequenceMatcher. Install python-Levenshtein to remove this warning\n",
            "  warnings.warn('Using slow pure-python SequenceMatcher. Install python-Levenshtein to remove this warning')\n",
            "/usr/local/lib/python3.10/dist-packages/openpyxl/styles/stylesheet.py:237: UserWarning: Workbook contains no default style, apply openpyxl's default\n",
            "  warn(\"Workbook contains no default style, apply openpyxl's default\")\n",
            "/usr/lib/python3.10/xml/etree/ElementTree.py:1647: RuntimeWarning: coroutine 'main' was never awaited\n",
            "  attrib = {}\n",
            "RuntimeWarning: Enable tracemalloc to get the object allocation traceback\n"
          ]
        },
        {
          "output_type": "stream",
          "name": "stdout",
          "text": [
            "          County  R&D Expenditures 2022  R&D Expenditures 2021  \\\n",
            "0        Alachua              1085834.0               959965.0   \n",
            "1        Brevard                17706.0                23195.0   \n",
            "2          Duval                18556.0                16242.0   \n",
            "3   Hillsborough               405166.0               385965.0   \n",
            "4            Lee                 9896.0                 8197.0   \n",
            "5           Leon               406622.0               375728.0   \n",
            "6     Miami-Dade               721332.0               622259.0   \n",
            "7         Orange               222020.0               219129.0   \n",
            "8     Palm Beach                61748.0                58471.0   \n",
            "9       Pinellas                  596.0                  367.0   \n",
            "10       Volusia                29937.0                21369.0   \n",
            "\n",
            "    R&D Expenditures 2020  R&D Expenditures 2019  R&D Expenditures 2018  \\\n",
            "0                942223.0               928639.0               865093.0   \n",
            "1                 18271.0                17876.0                17378.0   \n",
            "2                 14032.0                12706.0                10231.0   \n",
            "3                333344.0               391325.0               385686.0   \n",
            "4                  6671.0                 5907.0                 5115.0   \n",
            "5                391749.0               371675.0               337343.0   \n",
            "6                618489.0               586875.0               553720.0   \n",
            "7                214171.0               225711.0               216000.0   \n",
            "8                 53845.0                51085.0                48024.0   \n",
            "9                   406.0                  435.0                  495.0   \n",
            "10                19092.0                13689.0                18297.0   \n",
            "\n",
            "    R&D Expenditures 2017  R&D Expenditures 2016  R&D Expenditures 2015  \\\n",
            "0                801418.0               791294.0               739522.0   \n",
            "1                 18180.0                18860.0                14282.0   \n",
            "2                  7125.0                 5141.0                 3689.0   \n",
            "3                557889.0               505965.0               485354.0   \n",
            "4                  6025.0                 7335.0                 8992.0   \n",
            "5                320479.0               313678.0               302971.0   \n",
            "6                545619.0               529947.0               494831.0   \n",
            "7                200930.0               198634.0               215979.0   \n",
            "8                 46025.0                26750.0                21214.0   \n",
            "9                   809.0                  753.0                  415.0   \n",
            "10                14854.0                16944.0                12146.0   \n",
            "\n",
            "    R&D Expenditures 2014  R&D Expenditures 2013  \n",
            "0                708526.0               695063.0  \n",
            "1                 14255.0                13298.0  \n",
            "2                  3674.0                 4760.0  \n",
            "3                488641.0               459409.0  \n",
            "4                  9626.0                14204.0  \n",
            "5                298915.0               302026.0  \n",
            "6                480013.0               475868.0  \n",
            "7                186052.0               127053.0  \n",
            "8                 22997.0                23967.0  \n",
            "9                   485.0                  365.0  \n",
            "10                15898.0                16888.0  \n"
          ]
        },
        {
          "output_type": "display_data",
          "data": {
            "text/plain": [
              "<IPython.core.display.Javascript object>"
            ],
            "application/javascript": [
              "\n",
              "    async function download(id, filename, size) {\n",
              "      if (!google.colab.kernel.accessAllowed) {\n",
              "        return;\n",
              "      }\n",
              "      const div = document.createElement('div');\n",
              "      const label = document.createElement('label');\n",
              "      label.textContent = `Downloading \"${filename}\": `;\n",
              "      div.appendChild(label);\n",
              "      const progress = document.createElement('progress');\n",
              "      progress.max = size;\n",
              "      div.appendChild(progress);\n",
              "      document.body.appendChild(div);\n",
              "\n",
              "      const buffers = [];\n",
              "      let downloaded = 0;\n",
              "\n",
              "      const channel = await google.colab.kernel.comms.open(id);\n",
              "      // Send a message to notify the kernel that we're ready.\n",
              "      channel.send({})\n",
              "\n",
              "      for await (const message of channel.messages) {\n",
              "        // Send a message to notify the kernel that we're ready.\n",
              "        channel.send({})\n",
              "        if (message.buffers) {\n",
              "          for (const buffer of message.buffers) {\n",
              "            buffers.push(buffer);\n",
              "            downloaded += buffer.byteLength;\n",
              "            progress.value = downloaded;\n",
              "          }\n",
              "        }\n",
              "      }\n",
              "      const blob = new Blob(buffers, {type: 'application/binary'});\n",
              "      const a = document.createElement('a');\n",
              "      a.href = window.URL.createObjectURL(blob);\n",
              "      a.download = filename;\n",
              "      div.appendChild(a);\n",
              "      a.click();\n",
              "      div.remove();\n",
              "    }\n",
              "  "
            ]
          },
          "metadata": {}
        },
        {
          "output_type": "display_data",
          "data": {
            "text/plain": [
              "<IPython.core.display.Javascript object>"
            ],
            "application/javascript": [
              "download(\"download_cafc7927-494b-45cd-8389-d3939a88c593\", \"county_rnd_df.xlsx\", 5912)"
            ]
          },
          "metadata": {}
        }
      ]
    },
    {
      "cell_type": "code",
      "source": [
        "filtered_df.to_excel('collegernd.xlsx', index=False)\n",
        "from google.colab import files\n",
        "\n",
        "# Download the file\n",
        "files.download('collegernd.xlsx')\n",
        "\n"
      ],
      "metadata": {
        "colab": {
          "base_uri": "https://localhost:8080/",
          "height": 17
        },
        "id": "UoACmJokFlYv",
        "outputId": "b2f32e91-f60c-40c1-a5fa-58e451a540c9"
      },
      "execution_count": null,
      "outputs": [
        {
          "output_type": "display_data",
          "data": {
            "text/plain": [
              "<IPython.core.display.Javascript object>"
            ],
            "application/javascript": [
              "\n",
              "    async function download(id, filename, size) {\n",
              "      if (!google.colab.kernel.accessAllowed) {\n",
              "        return;\n",
              "      }\n",
              "      const div = document.createElement('div');\n",
              "      const label = document.createElement('label');\n",
              "      label.textContent = `Downloading \"${filename}\": `;\n",
              "      div.appendChild(label);\n",
              "      const progress = document.createElement('progress');\n",
              "      progress.max = size;\n",
              "      div.appendChild(progress);\n",
              "      document.body.appendChild(div);\n",
              "\n",
              "      const buffers = [];\n",
              "      let downloaded = 0;\n",
              "\n",
              "      const channel = await google.colab.kernel.comms.open(id);\n",
              "      // Send a message to notify the kernel that we're ready.\n",
              "      channel.send({})\n",
              "\n",
              "      for await (const message of channel.messages) {\n",
              "        // Send a message to notify the kernel that we're ready.\n",
              "        channel.send({})\n",
              "        if (message.buffers) {\n",
              "          for (const buffer of message.buffers) {\n",
              "            buffers.push(buffer);\n",
              "            downloaded += buffer.byteLength;\n",
              "            progress.value = downloaded;\n",
              "          }\n",
              "        }\n",
              "      }\n",
              "      const blob = new Blob(buffers, {type: 'application/binary'});\n",
              "      const a = document.createElement('a');\n",
              "      a.href = window.URL.createObjectURL(blob);\n",
              "      a.download = filename;\n",
              "      div.appendChild(a);\n",
              "      a.click();\n",
              "      div.remove();\n",
              "    }\n",
              "  "
            ]
          },
          "metadata": {}
        },
        {
          "output_type": "display_data",
          "data": {
            "text/plain": [
              "<IPython.core.display.Javascript object>"
            ],
            "application/javascript": [
              "download(\"download_485ecfdb-0148-425a-a5eb-479166f17eb7\", \"collegernd.xlsx\", 8466)"
            ]
          },
          "metadata": {}
        }
      ]
    },
    {
      "cell_type": "markdown",
      "source": [
        "#### **School funding by county**"
      ],
      "metadata": {
        "id": "N_9DbrbkCmXi"
      }
    },
    {
      "cell_type": "code",
      "source": [
        "import pandas as pd\n",
        "import requests\n",
        "from io import BytesIO\n",
        "\n",
        "# List of URLs for the Excel files\n",
        "urls = [\n",
        "    \"https://www.fldoe.org/core/fileparse.php/7507/urlt/ESSA23School-PerPupil-Expend.xlsx\",\n",
        "    \"https://www.fldoe.org/core/fileparse.php/7507/urlt/ESSA22School-PerPupil-Expend.xlsx\",\n",
        "    \"https://www.fldoe.org/core/fileparse.php/7507/urlt/2021Scool-PerPupil-Expen.xlsx\",\n",
        "    \"https://www.fldoe.org/core/fileparse.php/7507/urlt/1920School-PerPupil-Expen.xlsx\",\n",
        "    \"https://www.fldoe.org/core/fileparse.php/7507/urlt/1819School-PerPupil-Expen.xlsx\",\n",
        "    \"https://www.fldoe.org/core/fileparse.php/7507/urlt/1718School-PerPupil-Expen.xlsx\"\n",
        "]\n",
        "\n",
        "def download_excel_to_dataframe(url):\n",
        "    response = requests.get(url)\n",
        "\n",
        "    # Ensure the request was successful\n",
        "    if response.status_code == 200:\n",
        "        # Use BytesIO to load the Excel file into a DataFrame without saving it to disk\n",
        "        file_content = BytesIO(response.content)\n",
        "        df = pd.read_excel(file_content, skiprows=4)\n",
        "        return df\n",
        "    else:\n",
        "        raise Exception(f\"Failed to download the file: {url}\")\n",
        "\n",
        "\n",
        "df = download_excel_to_dataframe(urls[0])\n",
        "df.head()\n",
        "\n"
      ],
      "metadata": {
        "colab": {
          "base_uri": "https://localhost:8080/",
          "height": 501
        },
        "id": "I1EpeVUbClJL",
        "outputId": "206bd5ad-6c2b-4644-b83d-29d56d58ce9d"
      },
      "execution_count": null,
      "outputs": [
        {
          "output_type": "execute_result",
          "data": {
            "text/plain": [
              "   District Number District\\nName  School Number  \\\n",
              "0                1        ALACHUA             31   \n",
              "1                1        ALACHUA             41   \n",
              "2                1        ALACHUA             52   \n",
              "3                1        ALACHUA             71   \n",
              "4                1        ALACHUA             81   \n",
              "\n",
              "                          School Name  State and Local\\nFunds  \\\n",
              "0  CAROLYN BEATRICE PARKER ELEMENTARY                  9176.0   \n",
              "1    STEPHEN FOSTER ELEMENTARY SCHOOL                  8894.0   \n",
              "2                A.QUINN JONES CENTER                 38513.0   \n",
              "3       LAKE FOREST ELEMENTARY SCHOOL                 11175.0   \n",
              "4                SIDNEY LANIER CENTER                 27626.0   \n",
              "\n",
              "   Federal Funds (Including Covid Relief)  State, Local\\nand Federal\\nFunds  \\\n",
              "0                                  1641.0                           10817.0   \n",
              "1                                  1966.0                           10860.0   \n",
              "2                                  7241.0                           45754.0   \n",
              "3                                  3607.0                           14782.0   \n",
              "4                                  8039.0                           35665.0   \n",
              "\n",
              "   State and Local\\nFunds.1  Federal Funds (Including Covid Relief).1  \\\n",
              "0                     505.0                                      53.0   \n",
              "1                     514.0                                      57.0   \n",
              "2                    1478.0                                     188.0   \n",
              "3                     600.0                                      67.0   \n",
              "4                    1270.0                                     143.0   \n",
              "\n",
              "   State, Local\\nand Federal\\nFunds.1  \\\n",
              "0                               558.0   \n",
              "1                               571.0   \n",
              "2                              1665.0   \n",
              "3                               667.0   \n",
              "4                              1412.0   \n",
              "\n",
              "   Total Costs -\\nState, Local and\\n Federal Funds\\nPer Pupil  \n",
              "0                                            11375.0           \n",
              "1                                            11431.0           \n",
              "2                                            47419.0           \n",
              "3                                            15449.0           \n",
              "4                                            37077.0           "
            ],
            "text/html": [
              "\n",
              "  <div id=\"df-fdbea1ad-80fd-4bd5-b01e-13d03a036403\" class=\"colab-df-container\">\n",
              "    <div>\n",
              "<style scoped>\n",
              "    .dataframe tbody tr th:only-of-type {\n",
              "        vertical-align: middle;\n",
              "    }\n",
              "\n",
              "    .dataframe tbody tr th {\n",
              "        vertical-align: top;\n",
              "    }\n",
              "\n",
              "    .dataframe thead th {\n",
              "        text-align: right;\n",
              "    }\n",
              "</style>\n",
              "<table border=\"1\" class=\"dataframe\">\n",
              "  <thead>\n",
              "    <tr style=\"text-align: right;\">\n",
              "      <th></th>\n",
              "      <th>District Number</th>\n",
              "      <th>District\\nName</th>\n",
              "      <th>School Number</th>\n",
              "      <th>School Name</th>\n",
              "      <th>State and Local\\nFunds</th>\n",
              "      <th>Federal Funds (Including Covid Relief)</th>\n",
              "      <th>State, Local\\nand Federal\\nFunds</th>\n",
              "      <th>State and Local\\nFunds.1</th>\n",
              "      <th>Federal Funds (Including Covid Relief).1</th>\n",
              "      <th>State, Local\\nand Federal\\nFunds.1</th>\n",
              "      <th>Total Costs -\\nState, Local and\\n Federal Funds\\nPer Pupil</th>\n",
              "    </tr>\n",
              "  </thead>\n",
              "  <tbody>\n",
              "    <tr>\n",
              "      <th>0</th>\n",
              "      <td>1</td>\n",
              "      <td>ALACHUA</td>\n",
              "      <td>31</td>\n",
              "      <td>CAROLYN BEATRICE PARKER ELEMENTARY</td>\n",
              "      <td>9176.0</td>\n",
              "      <td>1641.0</td>\n",
              "      <td>10817.0</td>\n",
              "      <td>505.0</td>\n",
              "      <td>53.0</td>\n",
              "      <td>558.0</td>\n",
              "      <td>11375.0</td>\n",
              "    </tr>\n",
              "    <tr>\n",
              "      <th>1</th>\n",
              "      <td>1</td>\n",
              "      <td>ALACHUA</td>\n",
              "      <td>41</td>\n",
              "      <td>STEPHEN FOSTER ELEMENTARY SCHOOL</td>\n",
              "      <td>8894.0</td>\n",
              "      <td>1966.0</td>\n",
              "      <td>10860.0</td>\n",
              "      <td>514.0</td>\n",
              "      <td>57.0</td>\n",
              "      <td>571.0</td>\n",
              "      <td>11431.0</td>\n",
              "    </tr>\n",
              "    <tr>\n",
              "      <th>2</th>\n",
              "      <td>1</td>\n",
              "      <td>ALACHUA</td>\n",
              "      <td>52</td>\n",
              "      <td>A.QUINN JONES CENTER</td>\n",
              "      <td>38513.0</td>\n",
              "      <td>7241.0</td>\n",
              "      <td>45754.0</td>\n",
              "      <td>1478.0</td>\n",
              "      <td>188.0</td>\n",
              "      <td>1665.0</td>\n",
              "      <td>47419.0</td>\n",
              "    </tr>\n",
              "    <tr>\n",
              "      <th>3</th>\n",
              "      <td>1</td>\n",
              "      <td>ALACHUA</td>\n",
              "      <td>71</td>\n",
              "      <td>LAKE FOREST ELEMENTARY SCHOOL</td>\n",
              "      <td>11175.0</td>\n",
              "      <td>3607.0</td>\n",
              "      <td>14782.0</td>\n",
              "      <td>600.0</td>\n",
              "      <td>67.0</td>\n",
              "      <td>667.0</td>\n",
              "      <td>15449.0</td>\n",
              "    </tr>\n",
              "    <tr>\n",
              "      <th>4</th>\n",
              "      <td>1</td>\n",
              "      <td>ALACHUA</td>\n",
              "      <td>81</td>\n",
              "      <td>SIDNEY LANIER CENTER</td>\n",
              "      <td>27626.0</td>\n",
              "      <td>8039.0</td>\n",
              "      <td>35665.0</td>\n",
              "      <td>1270.0</td>\n",
              "      <td>143.0</td>\n",
              "      <td>1412.0</td>\n",
              "      <td>37077.0</td>\n",
              "    </tr>\n",
              "  </tbody>\n",
              "</table>\n",
              "</div>\n",
              "    <div class=\"colab-df-buttons\">\n",
              "\n",
              "  <div class=\"colab-df-container\">\n",
              "    <button class=\"colab-df-convert\" onclick=\"convertToInteractive('df-fdbea1ad-80fd-4bd5-b01e-13d03a036403')\"\n",
              "            title=\"Convert this dataframe to an interactive table.\"\n",
              "            style=\"display:none;\">\n",
              "\n",
              "  <svg xmlns=\"http://www.w3.org/2000/svg\" height=\"24px\" viewBox=\"0 -960 960 960\">\n",
              "    <path d=\"M120-120v-720h720v720H120Zm60-500h600v-160H180v160Zm220 220h160v-160H400v160Zm0 220h160v-160H400v160ZM180-400h160v-160H180v160Zm440 0h160v-160H620v160ZM180-180h160v-160H180v160Zm440 0h160v-160H620v160Z\"/>\n",
              "  </svg>\n",
              "    </button>\n",
              "\n",
              "  <style>\n",
              "    .colab-df-container {\n",
              "      display:flex;\n",
              "      gap: 12px;\n",
              "    }\n",
              "\n",
              "    .colab-df-convert {\n",
              "      background-color: #E8F0FE;\n",
              "      border: none;\n",
              "      border-radius: 50%;\n",
              "      cursor: pointer;\n",
              "      display: none;\n",
              "      fill: #1967D2;\n",
              "      height: 32px;\n",
              "      padding: 0 0 0 0;\n",
              "      width: 32px;\n",
              "    }\n",
              "\n",
              "    .colab-df-convert:hover {\n",
              "      background-color: #E2EBFA;\n",
              "      box-shadow: 0px 1px 2px rgba(60, 64, 67, 0.3), 0px 1px 3px 1px rgba(60, 64, 67, 0.15);\n",
              "      fill: #174EA6;\n",
              "    }\n",
              "\n",
              "    .colab-df-buttons div {\n",
              "      margin-bottom: 4px;\n",
              "    }\n",
              "\n",
              "    [theme=dark] .colab-df-convert {\n",
              "      background-color: #3B4455;\n",
              "      fill: #D2E3FC;\n",
              "    }\n",
              "\n",
              "    [theme=dark] .colab-df-convert:hover {\n",
              "      background-color: #434B5C;\n",
              "      box-shadow: 0px 1px 3px 1px rgba(0, 0, 0, 0.15);\n",
              "      filter: drop-shadow(0px 1px 2px rgba(0, 0, 0, 0.3));\n",
              "      fill: #FFFFFF;\n",
              "    }\n",
              "  </style>\n",
              "\n",
              "    <script>\n",
              "      const buttonEl =\n",
              "        document.querySelector('#df-fdbea1ad-80fd-4bd5-b01e-13d03a036403 button.colab-df-convert');\n",
              "      buttonEl.style.display =\n",
              "        google.colab.kernel.accessAllowed ? 'block' : 'none';\n",
              "\n",
              "      async function convertToInteractive(key) {\n",
              "        const element = document.querySelector('#df-fdbea1ad-80fd-4bd5-b01e-13d03a036403');\n",
              "        const dataTable =\n",
              "          await google.colab.kernel.invokeFunction('convertToInteractive',\n",
              "                                                    [key], {});\n",
              "        if (!dataTable) return;\n",
              "\n",
              "        const docLinkHtml = 'Like what you see? Visit the ' +\n",
              "          '<a target=\"_blank\" href=https://colab.research.google.com/notebooks/data_table.ipynb>data table notebook</a>'\n",
              "          + ' to learn more about interactive tables.';\n",
              "        element.innerHTML = '';\n",
              "        dataTable['output_type'] = 'display_data';\n",
              "        await google.colab.output.renderOutput(dataTable, element);\n",
              "        const docLink = document.createElement('div');\n",
              "        docLink.innerHTML = docLinkHtml;\n",
              "        element.appendChild(docLink);\n",
              "      }\n",
              "    </script>\n",
              "  </div>\n",
              "\n",
              "\n",
              "<div id=\"df-b12758b9-16df-4aec-b122-0b5a26d2384c\">\n",
              "  <button class=\"colab-df-quickchart\" onclick=\"quickchart('df-b12758b9-16df-4aec-b122-0b5a26d2384c')\"\n",
              "            title=\"Suggest charts\"\n",
              "            style=\"display:none;\">\n",
              "\n",
              "<svg xmlns=\"http://www.w3.org/2000/svg\" height=\"24px\"viewBox=\"0 0 24 24\"\n",
              "     width=\"24px\">\n",
              "    <g>\n",
              "        <path d=\"M19 3H5c-1.1 0-2 .9-2 2v14c0 1.1.9 2 2 2h14c1.1 0 2-.9 2-2V5c0-1.1-.9-2-2-2zM9 17H7v-7h2v7zm4 0h-2V7h2v10zm4 0h-2v-4h2v4z\"/>\n",
              "    </g>\n",
              "</svg>\n",
              "  </button>\n",
              "\n",
              "<style>\n",
              "  .colab-df-quickchart {\n",
              "      --bg-color: #E8F0FE;\n",
              "      --fill-color: #1967D2;\n",
              "      --hover-bg-color: #E2EBFA;\n",
              "      --hover-fill-color: #174EA6;\n",
              "      --disabled-fill-color: #AAA;\n",
              "      --disabled-bg-color: #DDD;\n",
              "  }\n",
              "\n",
              "  [theme=dark] .colab-df-quickchart {\n",
              "      --bg-color: #3B4455;\n",
              "      --fill-color: #D2E3FC;\n",
              "      --hover-bg-color: #434B5C;\n",
              "      --hover-fill-color: #FFFFFF;\n",
              "      --disabled-bg-color: #3B4455;\n",
              "      --disabled-fill-color: #666;\n",
              "  }\n",
              "\n",
              "  .colab-df-quickchart {\n",
              "    background-color: var(--bg-color);\n",
              "    border: none;\n",
              "    border-radius: 50%;\n",
              "    cursor: pointer;\n",
              "    display: none;\n",
              "    fill: var(--fill-color);\n",
              "    height: 32px;\n",
              "    padding: 0;\n",
              "    width: 32px;\n",
              "  }\n",
              "\n",
              "  .colab-df-quickchart:hover {\n",
              "    background-color: var(--hover-bg-color);\n",
              "    box-shadow: 0 1px 2px rgba(60, 64, 67, 0.3), 0 1px 3px 1px rgba(60, 64, 67, 0.15);\n",
              "    fill: var(--button-hover-fill-color);\n",
              "  }\n",
              "\n",
              "  .colab-df-quickchart-complete:disabled,\n",
              "  .colab-df-quickchart-complete:disabled:hover {\n",
              "    background-color: var(--disabled-bg-color);\n",
              "    fill: var(--disabled-fill-color);\n",
              "    box-shadow: none;\n",
              "  }\n",
              "\n",
              "  .colab-df-spinner {\n",
              "    border: 2px solid var(--fill-color);\n",
              "    border-color: transparent;\n",
              "    border-bottom-color: var(--fill-color);\n",
              "    animation:\n",
              "      spin 1s steps(1) infinite;\n",
              "  }\n",
              "\n",
              "  @keyframes spin {\n",
              "    0% {\n",
              "      border-color: transparent;\n",
              "      border-bottom-color: var(--fill-color);\n",
              "      border-left-color: var(--fill-color);\n",
              "    }\n",
              "    20% {\n",
              "      border-color: transparent;\n",
              "      border-left-color: var(--fill-color);\n",
              "      border-top-color: var(--fill-color);\n",
              "    }\n",
              "    30% {\n",
              "      border-color: transparent;\n",
              "      border-left-color: var(--fill-color);\n",
              "      border-top-color: var(--fill-color);\n",
              "      border-right-color: var(--fill-color);\n",
              "    }\n",
              "    40% {\n",
              "      border-color: transparent;\n",
              "      border-right-color: var(--fill-color);\n",
              "      border-top-color: var(--fill-color);\n",
              "    }\n",
              "    60% {\n",
              "      border-color: transparent;\n",
              "      border-right-color: var(--fill-color);\n",
              "    }\n",
              "    80% {\n",
              "      border-color: transparent;\n",
              "      border-right-color: var(--fill-color);\n",
              "      border-bottom-color: var(--fill-color);\n",
              "    }\n",
              "    90% {\n",
              "      border-color: transparent;\n",
              "      border-bottom-color: var(--fill-color);\n",
              "    }\n",
              "  }\n",
              "</style>\n",
              "\n",
              "  <script>\n",
              "    async function quickchart(key) {\n",
              "      const quickchartButtonEl =\n",
              "        document.querySelector('#' + key + ' button');\n",
              "      quickchartButtonEl.disabled = true;  // To prevent multiple clicks.\n",
              "      quickchartButtonEl.classList.add('colab-df-spinner');\n",
              "      try {\n",
              "        const charts = await google.colab.kernel.invokeFunction(\n",
              "            'suggestCharts', [key], {});\n",
              "      } catch (error) {\n",
              "        console.error('Error during call to suggestCharts:', error);\n",
              "      }\n",
              "      quickchartButtonEl.classList.remove('colab-df-spinner');\n",
              "      quickchartButtonEl.classList.add('colab-df-quickchart-complete');\n",
              "    }\n",
              "    (() => {\n",
              "      let quickchartButtonEl =\n",
              "        document.querySelector('#df-b12758b9-16df-4aec-b122-0b5a26d2384c button');\n",
              "      quickchartButtonEl.style.display =\n",
              "        google.colab.kernel.accessAllowed ? 'block' : 'none';\n",
              "    })();\n",
              "  </script>\n",
              "</div>\n",
              "\n",
              "    </div>\n",
              "  </div>\n"
            ],
            "application/vnd.google.colaboratory.intrinsic+json": {
              "type": "dataframe",
              "variable_name": "df",
              "summary": "{\n  \"name\": \"df\",\n  \"rows\": 3718,\n  \"fields\": [\n    {\n      \"column\": \"District Number\",\n      \"properties\": {\n        \"dtype\": \"number\",\n        \"std\": 19,\n        \"min\": 1,\n        \"max\": 80,\n        \"num_unique_values\": 74,\n        \"samples\": [\n          5,\n          64,\n          19\n        ],\n        \"semantic_type\": \"\",\n        \"description\": \"\"\n      }\n    },\n    {\n      \"column\": \"District\\nName\",\n      \"properties\": {\n        \"dtype\": \"category\",\n        \"num_unique_values\": 74,\n        \"samples\": [\n          \"BREVARD\",\n          \"VOLUSIA\",\n          \"FRANKLIN\"\n        ],\n        \"semantic_type\": \"\",\n        \"description\": \"\"\n      }\n    },\n    {\n      \"column\": \"School Number\",\n      \"properties\": {\n        \"dtype\": \"number\",\n        \"std\": 2440,\n        \"min\": 5,\n        \"max\": 9870,\n        \"num_unique_values\": 1310,\n        \"samples\": [\n          6861,\n          6659,\n          5037\n        ],\n        \"semantic_type\": \"\",\n        \"description\": \"\"\n      }\n    },\n    {\n      \"column\": \"School Name\",\n      \"properties\": {\n        \"dtype\": \"string\",\n        \"num_unique_values\": 3559,\n        \"samples\": [\n          \"LAWNWOOD ELEMENTARY SCHOOL\",\n          \"DELAURA MIDDLE SCHOOL\",\n          \"STEINHATCHEE SCHOOL\"\n        ],\n        \"semantic_type\": \"\",\n        \"description\": \"\"\n      }\n    },\n    {\n      \"column\": \"State and Local\\nFunds\",\n      \"properties\": {\n        \"dtype\": \"number\",\n        \"std\": 11698.919274386486,\n        \"min\": 0.0,\n        \"max\": 477447.0,\n        \"num_unique_values\": 2900,\n        \"samples\": [\n          9177.0,\n          7992.0,\n          7903.0\n        ],\n        \"semantic_type\": \"\",\n        \"description\": \"\"\n      }\n    },\n    {\n      \"column\": \"Federal Funds (Including Covid Relief)\",\n      \"properties\": {\n        \"dtype\": \"number\",\n        \"std\": 2255.265072695417,\n        \"min\": 0.0,\n        \"max\": 71664.0,\n        \"num_unique_values\": 2295,\n        \"samples\": [\n          102.0,\n          2003.0,\n          2608.0\n        ],\n        \"semantic_type\": \"\",\n        \"description\": \"\"\n      }\n    },\n    {\n      \"column\": \"State, Local\\nand Federal\\nFunds\",\n      \"properties\": {\n        \"dtype\": \"number\",\n        \"std\": 13127.47600839612,\n        \"min\": 0.0,\n        \"max\": 501363.0,\n        \"num_unique_values\": 3040,\n        \"samples\": [\n          13276.0,\n          18189.0,\n          9736.0\n        ],\n        \"semantic_type\": \"\",\n        \"description\": \"\"\n      }\n    },\n    {\n      \"column\": \"State and Local\\nFunds.1\",\n      \"properties\": {\n        \"dtype\": \"number\",\n        \"std\": 694.9892834748028,\n        \"min\": 0.0,\n        \"max\": 13581.82877948388,\n        \"num_unique_values\": 908,\n        \"samples\": [\n          835.0,\n          234.0,\n          695.0\n        ],\n        \"semantic_type\": \"\",\n        \"description\": \"\"\n      }\n    },\n    {\n      \"column\": \"Federal Funds (Including Covid Relief).1\",\n      \"properties\": {\n        \"dtype\": \"number\",\n        \"std\": 181.28194860693847,\n        \"min\": 0.0,\n        \"max\": 4954.0,\n        \"num_unique_values\": 423,\n        \"samples\": [\n          157.0,\n          366.0,\n          55.0\n        ],\n        \"semantic_type\": \"\",\n        \"description\": \"\"\n      }\n    },\n    {\n      \"column\": \"State, Local\\nand Federal\\nFunds.1\",\n      \"properties\": {\n        \"dtype\": \"number\",\n        \"std\": 785.0672072604515,\n        \"min\": 0.0,\n        \"max\": 14972.0,\n        \"num_unique_values\": 1060,\n        \"samples\": [\n          243.0,\n          158.0,\n          995.0\n        ],\n        \"semantic_type\": \"\",\n        \"description\": \"\"\n      }\n    },\n    {\n      \"column\": \"Total Costs -\\nState, Local and\\n Federal Funds\\nPer Pupil\",\n      \"properties\": {\n        \"dtype\": \"number\",\n        \"std\": 13598.754753646228,\n        \"min\": 0.0,\n        \"max\": 514129.0,\n        \"num_unique_values\": 3058,\n        \"samples\": [\n          17305.0,\n          7785.0,\n          44527.0\n        ],\n        \"semantic_type\": \"\",\n        \"description\": \"\"\n      }\n    }\n  ]\n}"
            }
          },
          "metadata": {},
          "execution_count": 16
        }
      ]
    },
    {
      "cell_type": "markdown",
      "source": [
        "#### **County Spending**"
      ],
      "metadata": {
        "id": "f7aKpg5xP4TB"
      }
    },
    {
      "cell_type": "code",
      "source": [
        "county_to_code = {\n",
        "    \"Alachua\": 12001,\n",
        "    \"Baker\": 12003,\n",
        "    \"Bay\": 12005,\n",
        "    \"Bradford\": 12007,\n",
        "    \"Brevard\": 12009,\n",
        "    \"Broward\": 12011,\n",
        "    \"Calhoun\": 12013,\n",
        "    \"Charlotte\": 12015,\n",
        "    \"Citrus\": 12017,\n",
        "    \"Clay\": 12019,\n",
        "    \"Collier\": 12021,\n",
        "    \"Columbia\": 12023,\n",
        "    \"DeSoto\": 12027,\n",
        "    \"Dixie\": 12029,\n",
        "    \"Duval\": 12031,\n",
        "    \"Escambia\": 12033,\n",
        "    \"Flagler\": 12035,\n",
        "    \"Franklin\": 12037,\n",
        "    \"Gadsden\": 12039,\n",
        "    \"Gilchrist\": 12041,\n",
        "    \"Glades\": 12043,\n",
        "    \"Gulf\": 12045,\n",
        "    \"Hamilton\": 12047,\n",
        "    \"Hardee\": 12049,\n",
        "    \"Hendry\": 12051,\n",
        "    \"Hernando\": 12053,\n",
        "    \"Highlands\": 12055,\n",
        "    \"Hillsborough\": 12057,\n",
        "    \"Holmes\": 12059,\n",
        "    \"Indian River\": 12061,\n",
        "    \"Jackson\": 12063,\n",
        "    \"Jefferson\": 12065,\n",
        "    \"Lafayette\": 12067,\n",
        "    \"Lake\": 12069,\n",
        "    \"Lee\": 12071,\n",
        "    \"Leon\": 12073,\n",
        "    \"Levy\": 12075,\n",
        "    \"Liberty\": 12077,\n",
        "    \"Madison\": 12079,\n",
        "    \"Manatee\": 12081,\n",
        "    \"Marion\": 12083,\n",
        "    \"Martin\": 12085,\n",
        "    \"Miami-Dade\": 12086,\n",
        "    \"Monroe\": 12087,\n",
        "    \"Nassau\": 12089,\n",
        "    \"Okaloosa\": 12091,\n",
        "    \"Okeechobee\": 12093,\n",
        "    \"Orange\": 12095,\n",
        "    \"Osceola\": 12097,\n",
        "    \"Palm Beach\": 12099,\n",
        "    \"Pasco\": 12101,\n",
        "    \"Pinellas\": 12103,\n",
        "    \"Polk\": 12105,\n",
        "    \"Putnam\": 12107,\n",
        "    \"St. Johns\": 12109,\n",
        "    \"St. Lucie\": 12111,\n",
        "    \"Santa Rosa\": 12113,\n",
        "    \"Sarasota\": 12115,\n",
        "    \"Seminole\": 12117,\n",
        "    \"Sumter\": 12119,\n",
        "    \"Suwannee\": 12121,\n",
        "    \"Taylor\": 12123,\n",
        "    \"Union\": 12125,\n",
        "    \"Volusia\": 12127,\n",
        "    \"Wakulla\": 12129,\n",
        "    \"Walton\": 12131,\n",
        "    \"Washington\": 12133\n",
        "}"
      ],
      "metadata": {
        "id": "sYelMuKOS0tS"
      },
      "execution_count": null,
      "outputs": []
    },
    {
      "cell_type": "code",
      "source": [
        "import pandas as pd\n",
        "import requests\n",
        "from io import BytesIO\n",
        "\n",
        "# URL to download the data\n",
        "url = \"http://edr.state.fl.us/Content/local-government/data/revenues-expenditures/cntyfiscal/countyrevenuesbyfundtype.xlsx\"\n",
        "\n",
        "# Scrape the dataset and load into a BytesIO object\n",
        "response = requests.get(url)\n",
        "file_content = BytesIO(response.content)\n",
        "\n",
        "sheets = ['2014-15', '2015-16', '2016-17', '2017-18', '2018-19', '2019-20', '2020-21', '2021-22']\n",
        "year = 2015\n",
        "\n",
        "# Initialize an empty list to store the DataFrames\n",
        "df_list = []\n",
        "\n",
        "while year < 2023:\n",
        "    # Load the dataset into a pandas DataFrame directly from the BytesIO object\n",
        "    df = pd.read_excel(file_content, sheet_name=f'{year-1}-{str(year)[2:]}', skiprows=3)\n",
        "    df.drop(columns=['#', 'Unnamed: 1', 'Population', 'Units'], inplace=True)\n",
        "    df = df.iloc[:-7, :]\n",
        "\n",
        "    # Add the \"County Code\" column\n",
        "    df['County Code'] = df['County'].map(county_to_code)\n",
        "\n",
        "    # Sort the DataFrame by the \"County Code\" column\n",
        "    df = df.sort_values(by='County Code')\n",
        "\n",
        "    df.reset_index(drop=True, inplace=True)\n",
        "\n",
        "    df['Year'] = [year] * len(df)\n",
        "\n",
        "    # Get the list of columns\n",
        "    cols = list(df.columns)\n",
        "    # Move 'County Code' to the position after 'County'\n",
        "    cols.insert(cols.index('County') + 1, cols.pop(cols.index('County Code')))\n",
        "    cols.insert(cols.index('County'), cols.pop(cols.index('Year')))\n",
        "\n",
        "    # Reorder the DataFrame\n",
        "    df = df[cols]\n",
        "\n",
        "    # Define the new row for Duval\n",
        "    duval_row = pd.DataFrame({\n",
        "        'County': ['Duval'],\n",
        "        'County Code': [12031],\n",
        "        'Year': [year],\n",
        "        'General': [0],\n",
        "        'Special Revenue': [0],\n",
        "        'Debt Service': [0],\n",
        "        'Capital Projects': [0],\n",
        "        'Permanent': [0],\n",
        "        'Enterprise': [0],\n",
        "        'Internal Service': [0],\n",
        "        'Pension': [0],\n",
        "        'Trust': [0],\n",
        "        'Custodial': [0],\n",
        "        'All Funds': [0],\n",
        "        'Revenue': [0],\n",
        "    })\n",
        "\n",
        "    # Append the new row to the DataFrame\n",
        "    df = pd.concat([df.iloc[:14], duval_row, df.iloc[14:]]).reset_index(drop=True)\n",
        "\n",
        "    # Reindex the DataFrame to maintain correct order\n",
        "    df.index = range(len(df))\n",
        "\n",
        "    # Append the DataFrame to the list\n",
        "    df_list.append(df)\n",
        "\n",
        "    year += 1\n",
        "\n",
        "# Concatenate all DataFrames in the list into one DataFrame\n",
        "full_df = pd.concat(df_list, ignore_index=True)\n",
        "\n",
        "# Print the full DataFrame\n",
        "print(full_df.head(20))\n",
        "\n",
        "full_df.to_excel('full_df.xlsx', index=False)\n",
        "from google.colab import files\n",
        "files.download('full_df.xlsx')"
      ],
      "metadata": {
        "colab": {
          "base_uri": "https://localhost:8080/",
          "height": 1000
        },
        "id": "un0D_OZLP7Yh",
        "outputId": "3574395c-b308-4aea-d9ff-c5ba40efce27"
      },
      "execution_count": null,
      "outputs": [
        {
          "output_type": "stream",
          "name": "stdout",
          "text": [
            "    Year     County  County Code       General  Special Revenue  Debt Service  \\\n",
            "0   2015    Alachua        12001  1.553996e+08       84077144.0    37201948.0   \n",
            "1   2015      Baker        12003  2.242060e+07       15652536.0           0.0   \n",
            "2   2015        Bay        12005  1.454160e+08       58409362.0           0.0   \n",
            "3   2015   Bradford        12007  1.790987e+07       19822577.0           0.0   \n",
            "4   2015    Brevard        12009  2.468055e+08      205114696.0    21191145.0   \n",
            "5   2015    Broward        12011  1.089564e+09      704680000.0    83712000.0   \n",
            "6   2015    Calhoun        12013  9.407421e+06        7852817.0           0.0   \n",
            "7   2015  Charlotte        12015  1.514275e+08      167472081.0    33032708.0   \n",
            "8   2015     Citrus        12017  9.331365e+07       45783666.0     4083131.0   \n",
            "9   2015       Clay        12019  9.774200e+07       44376847.0     9491475.0   \n",
            "10  2015    Collier        12021  3.073943e+08      191971016.0    32987636.0   \n",
            "11  2015   Columbia        12023  3.251803e+07       42628762.0      800000.0   \n",
            "12  2015     DeSoto        12027  2.505861e+07       15761672.0     2045752.0   \n",
            "13  2015      Dixie        12029  9.856804e+06       12105787.0           0.0   \n",
            "14  2015      Duval        12031  0.000000e+00              0.0           0.0   \n",
            "15  2015   Escambia        12033  1.750957e+08       95477896.0     8892469.0   \n",
            "16  2015    Flagler        12035  6.758056e+07       32226300.0    56794468.0   \n",
            "17  2015   Franklin        12037  1.490630e+07        9275754.0           0.0   \n",
            "18  2015    Gadsden        12039  2.774561e+07       20975068.0    12412710.0   \n",
            "19  2015  Gilchrist        12041  1.263725e+07        6044575.0           0.0   \n",
            "\n",
            "    Capital Projects  Permanent   Enterprise  Internal Service  Pension  \\\n",
            "0         10599378.0        0.0   15979663.0        33916864.0      0.0   \n",
            "1                0.0        0.0          0.0               0.0      0.0   \n",
            "2                0.0        0.0   58017533.0         8607588.0      0.0   \n",
            "3           672408.0        0.0          0.0               0.0      0.0   \n",
            "4          6069153.0        0.0   94079203.0        72615018.0      0.0   \n",
            "5        169818000.0        0.0  714585000.0       122958000.0      0.0   \n",
            "6                0.0        0.0          0.0               0.0      0.0   \n",
            "7         56576109.0        0.0   88117272.0        35544149.0      0.0   \n",
            "8           816527.0        0.0   32388163.0        12124445.0      0.0   \n",
            "9         17053681.0        0.0   20055382.0        15816196.0      0.0   \n",
            "10       174860866.0    18239.0  219289178.0        79672466.0      0.0   \n",
            "11         9198239.0        0.0    3724192.0               0.0      0.0   \n",
            "12               0.0        0.0    6986532.0               0.0      0.0   \n",
            "13               0.0        0.0          0.0               0.0      0.0   \n",
            "14               0.0        0.0          0.0               0.0      0.0   \n",
            "15        48044391.0        0.0   34796919.0        47818512.0      0.0   \n",
            "16        26729066.0        0.0    9074278.0         6815297.0      0.0   \n",
            "17               0.0        0.0    8149006.0               0.0      0.0   \n",
            "18         7089337.0        0.0          0.0               0.0      0.0   \n",
            "19            1976.0        0.0          0.0         1235229.0      0.0   \n",
            "\n",
            "       Trust     All Funds      Revenue  Custodial  \n",
            "0    -5030.0  3.372742e+08  1323.199260        NaN  \n",
            "1        0.0  5.097032e+07  1886.601769        NaN  \n",
            "2        0.0  2.887813e+08  1666.270181        NaN  \n",
            "3        0.0  3.840486e+07  1406.256243        NaN  \n",
            "4        0.0  6.570274e+08  1169.683223        NaN  \n",
            "5        0.0  2.933214e+09  1605.158679        NaN  \n",
            "6        0.0  1.726024e+07  1186.352189        NaN  \n",
            "7        0.0  5.322201e+08  3184.258225        NaN  \n",
            "8        0.0  1.984710e+08  1402.612073        NaN  \n",
            "9        0.0  2.048964e+08  1017.982109        NaN  \n",
            "10       0.0  1.006194e+09  2926.666357        NaN  \n",
            "11       0.0  8.886922e+07  1303.775083        NaN  \n",
            "12       0.0  4.985256e+07  1433.492366        NaN  \n",
            "13       0.0  2.196259e+07  1333.652599        NaN  \n",
            "14       0.0  0.000000e+00     0.000000        0.0  \n",
            "15       0.0  4.214423e+08  1373.026712        NaN  \n",
            "16       0.0  1.992200e+08  1965.605073        NaN  \n",
            "17       0.0  3.233106e+07  2730.664274        NaN  \n",
            "18 -188708.0  6.803401e+07  1408.134389        NaN  \n",
            "19       0.0  1.991903e+07  1182.910565        NaN  \n"
          ]
        },
        {
          "output_type": "display_data",
          "data": {
            "text/plain": [
              "<IPython.core.display.Javascript object>"
            ],
            "application/javascript": [
              "\n",
              "    async function download(id, filename, size) {\n",
              "      if (!google.colab.kernel.accessAllowed) {\n",
              "        return;\n",
              "      }\n",
              "      const div = document.createElement('div');\n",
              "      const label = document.createElement('label');\n",
              "      label.textContent = `Downloading \"${filename}\": `;\n",
              "      div.appendChild(label);\n",
              "      const progress = document.createElement('progress');\n",
              "      progress.max = size;\n",
              "      div.appendChild(progress);\n",
              "      document.body.appendChild(div);\n",
              "\n",
              "      const buffers = [];\n",
              "      let downloaded = 0;\n",
              "\n",
              "      const channel = await google.colab.kernel.comms.open(id);\n",
              "      // Send a message to notify the kernel that we're ready.\n",
              "      channel.send({})\n",
              "\n",
              "      for await (const message of channel.messages) {\n",
              "        // Send a message to notify the kernel that we're ready.\n",
              "        channel.send({})\n",
              "        if (message.buffers) {\n",
              "          for (const buffer of message.buffers) {\n",
              "            buffers.push(buffer);\n",
              "            downloaded += buffer.byteLength;\n",
              "            progress.value = downloaded;\n",
              "          }\n",
              "        }\n",
              "      }\n",
              "      const blob = new Blob(buffers, {type: 'application/binary'});\n",
              "      const a = document.createElement('a');\n",
              "      a.href = window.URL.createObjectURL(blob);\n",
              "      a.download = filename;\n",
              "      div.appendChild(a);\n",
              "      a.click();\n",
              "      div.remove();\n",
              "    }\n",
              "  "
            ]
          },
          "metadata": {}
        },
        {
          "output_type": "display_data",
          "data": {
            "text/plain": [
              "<IPython.core.display.Javascript object>"
            ],
            "application/javascript": [
              "download(\"download_0e666d8c-1d90-417e-a2c0-d916d2e29766\", \"full_df.xlsx\", 60377)"
            ]
          },
          "metadata": {}
        }
      ]
    },
    {
      "cell_type": "markdown",
      "source": [
        "#### **Trying to get patents by county**"
      ],
      "metadata": {
        "id": "EFrKSU9jChoG"
      }
    },
    {
      "cell_type": "code",
      "source": [
        "!pip install google-colab-selenium[undetected]"
      ],
      "metadata": {
        "colab": {
          "base_uri": "https://localhost:8080/"
        },
        "id": "B8AS71G_PA1o",
        "outputId": "5d1bd900-ab11-4487-bfcd-1ec66c45f0d8"
      },
      "execution_count": null,
      "outputs": [
        {
          "output_type": "stream",
          "name": "stdout",
          "text": [
            "Collecting google-colab-selenium[undetected]\n",
            "  Downloading google_colab_selenium-1.0.14-py3-none-any.whl.metadata (2.7 kB)\n",
            "Collecting selenium (from google-colab-selenium[undetected])\n",
            "  Downloading selenium-4.23.1-py3-none-any.whl.metadata (7.1 kB)\n",
            "Collecting undetected-chromedriver (from google-colab-selenium[undetected])\n",
            "  Downloading undetected-chromedriver-3.5.5.tar.gz (65 kB)\n",
            "\u001b[2K     \u001b[90m━━━━━━━━━━━━━━━━━━━━━━━━━━━━━━━━━━━━━━━━\u001b[0m \u001b[32m65.4/65.4 kB\u001b[0m \u001b[31m3.6 MB/s\u001b[0m eta \u001b[36m0:00:00\u001b[0m\n",
            "\u001b[?25h  Preparing metadata (setup.py) ... \u001b[?25l\u001b[?25hdone\n",
            "Requirement already satisfied: urllib3<3,>=1.26 in /usr/local/lib/python3.10/dist-packages (from urllib3[socks]<3,>=1.26->selenium->google-colab-selenium[undetected]) (1.26.19)\n",
            "Collecting trio~=0.17 (from selenium->google-colab-selenium[undetected])\n",
            "  Downloading trio-0.26.2-py3-none-any.whl.metadata (8.6 kB)\n",
            "Collecting trio-websocket~=0.9 (from selenium->google-colab-selenium[undetected])\n",
            "  Downloading trio_websocket-0.11.1-py3-none-any.whl.metadata (4.7 kB)\n",
            "Requirement already satisfied: certifi>=2021.10.8 in /usr/local/lib/python3.10/dist-packages (from selenium->google-colab-selenium[undetected]) (2024.7.4)\n",
            "Requirement already satisfied: typing_extensions~=4.9 in /usr/local/lib/python3.10/dist-packages (from selenium->google-colab-selenium[undetected]) (4.12.2)\n",
            "Requirement already satisfied: websocket-client~=1.8 in /usr/local/lib/python3.10/dist-packages (from selenium->google-colab-selenium[undetected]) (1.8.0)\n",
            "Requirement already satisfied: requests in /usr/local/lib/python3.10/dist-packages (from undetected-chromedriver->google-colab-selenium[undetected]) (2.32.3)\n",
            "Requirement already satisfied: websockets in /usr/local/lib/python3.10/dist-packages (from undetected-chromedriver->google-colab-selenium[undetected]) (10.4)\n",
            "Requirement already satisfied: attrs>=23.2.0 in /usr/local/lib/python3.10/dist-packages (from trio~=0.17->selenium->google-colab-selenium[undetected]) (24.2.0)\n",
            "Requirement already satisfied: sortedcontainers in /usr/local/lib/python3.10/dist-packages (from trio~=0.17->selenium->google-colab-selenium[undetected]) (2.4.0)\n",
            "Requirement already satisfied: idna in /usr/local/lib/python3.10/dist-packages (from trio~=0.17->selenium->google-colab-selenium[undetected]) (3.7)\n",
            "Collecting outcome (from trio~=0.17->selenium->google-colab-selenium[undetected])\n",
            "  Downloading outcome-1.3.0.post0-py2.py3-none-any.whl.metadata (2.6 kB)\n",
            "Requirement already satisfied: sniffio>=1.3.0 in /usr/local/lib/python3.10/dist-packages (from trio~=0.17->selenium->google-colab-selenium[undetected]) (1.3.1)\n",
            "Requirement already satisfied: exceptiongroup in /usr/local/lib/python3.10/dist-packages (from trio~=0.17->selenium->google-colab-selenium[undetected]) (1.2.2)\n",
            "Collecting wsproto>=0.14 (from trio-websocket~=0.9->selenium->google-colab-selenium[undetected])\n",
            "  Downloading wsproto-1.2.0-py3-none-any.whl.metadata (5.6 kB)\n",
            "Requirement already satisfied: PySocks!=1.5.7,<2.0,>=1.5.6 in /usr/local/lib/python3.10/dist-packages (from urllib3[socks]<3,>=1.26->selenium->google-colab-selenium[undetected]) (1.7.1)\n",
            "Requirement already satisfied: charset-normalizer<4,>=2 in /usr/local/lib/python3.10/dist-packages (from requests->undetected-chromedriver->google-colab-selenium[undetected]) (3.3.2)\n",
            "Collecting h11<1,>=0.9.0 (from wsproto>=0.14->trio-websocket~=0.9->selenium->google-colab-selenium[undetected])\n",
            "  Downloading h11-0.14.0-py3-none-any.whl.metadata (8.2 kB)\n",
            "Downloading google_colab_selenium-1.0.14-py3-none-any.whl (8.2 kB)\n",
            "Downloading selenium-4.23.1-py3-none-any.whl (9.4 MB)\n",
            "\u001b[2K   \u001b[90m━━━━━━━━━━━━━━━━━━━━━━━━━━━━━━━━━━━━━━━━\u001b[0m \u001b[32m9.4/9.4 MB\u001b[0m \u001b[31m79.5 MB/s\u001b[0m eta \u001b[36m0:00:00\u001b[0m\n",
            "\u001b[?25hDownloading trio-0.26.2-py3-none-any.whl (475 kB)\n",
            "\u001b[2K   \u001b[90m━━━━━━━━━━━━━━━━━━━━━━━━━━━━━━━━━━━━━━━━\u001b[0m \u001b[32m476.0/476.0 kB\u001b[0m \u001b[31m21.9 MB/s\u001b[0m eta \u001b[36m0:00:00\u001b[0m\n",
            "\u001b[?25hDownloading trio_websocket-0.11.1-py3-none-any.whl (17 kB)\n",
            "Downloading wsproto-1.2.0-py3-none-any.whl (24 kB)\n",
            "Downloading outcome-1.3.0.post0-py2.py3-none-any.whl (10 kB)\n",
            "Downloading h11-0.14.0-py3-none-any.whl (58 kB)\n",
            "\u001b[2K   \u001b[90m━━━━━━━━━━━━━━━━━━━━━━━━━━━━━━━━━━━━━━━━\u001b[0m \u001b[32m58.3/58.3 kB\u001b[0m \u001b[31m4.4 MB/s\u001b[0m eta \u001b[36m0:00:00\u001b[0m\n",
            "\u001b[?25hBuilding wheels for collected packages: undetected-chromedriver\n",
            "  Building wheel for undetected-chromedriver (setup.py) ... \u001b[?25l\u001b[?25hdone\n",
            "  Created wheel for undetected-chromedriver: filename=undetected_chromedriver-3.5.5-py3-none-any.whl size=47047 sha256=1af7ce359d88cb9cd763c6e7d7bf5f4d46cc1dc7bb80d20b8daab2e065298e29\n",
            "  Stored in directory: /root/.cache/pip/wheels/cf/a1/db/e1275b6f7259aacd6b045f8bfcb1fcbc93827a3916ba55d5b7\n",
            "Successfully built undetected-chromedriver\n",
            "Installing collected packages: outcome, h11, wsproto, trio, trio-websocket, selenium, undetected-chromedriver, google-colab-selenium\n",
            "Successfully installed google-colab-selenium-1.0.14 h11-0.14.0 outcome-1.3.0.post0 selenium-4.23.1 trio-0.26.2 trio-websocket-0.11.1 undetected-chromedriver-3.5.5 wsproto-1.2.0\n"
          ]
        }
      ]
    },
    {
      "cell_type": "code",
      "source": [
        "import google_colab_selenium as gs\n",
        "from selenium.webdriver.common.by import By\n",
        "from selenium.webdriver.support.ui import WebDriverWait\n",
        "from selenium.webdriver.support import expected_conditions as EC\n",
        "\n",
        "driver = gs.UndetectedChrome()\n",
        "\n",
        "# Open the website\n",
        "driver.get('https://ppubs.uspto.gov/pubwebapp/')\n",
        "driver.execute_script(\"return document.readyState\")  # Ensure the document is fully loaded\n",
        "\n",
        "try:\n",
        "    # Use WebDriverWait to wait for the element\n",
        "    input_field = WebDriverWait(driver, 20).until(\n",
        "        EC.presence_of_element_located((By.XPATH, '//*[@id=\"search-content\"]/div/div/div[1]/div[1]/div/div/trix-editor/div'))\n",
        "    )\n",
        "\n",
        "    # Input the query into the search box\n",
        "    input_field.clear()  # Clear any existing text\n",
        "    input_field.send_keys('@AD<=20150101 FL.ASST.')  # Send the query\n",
        "\n",
        "    # Locate the search button and click it to trigger the search\n",
        "    search_button = driver.find_element(By.XPATH, '//*[@id=\"search-btn-search\"]')\n",
        "    search_button.click()\n",
        "\n",
        "    # Wait for the search results table to be visible\n",
        "    table_element = WebDriverWait(driver, 10).until(\n",
        "        EC.presence_of_element_located((By.XPATH, '//*[@id=\"search-results-table\"]'))\n",
        "    )\n",
        "\n",
        "    # Extract rows from the table\n",
        "    rows = table_element.find_elements(By.TAG_NAME, \"tr\")\n",
        "\n",
        "    # Extract data from rows and columns\n",
        "    data = []\n",
        "    for row in rows:\n",
        "        cols = row.find_elements(By.TAG_NAME, \"td\")\n",
        "        data.append([col.text for col in cols])\n",
        "\n",
        "    # Convert data into a Pandas DataFrame\n",
        "    import pandas as pd\n",
        "    df = pd.DataFrame(data, columns=['Column1', 'Column2', 'Column3'])  # Replace with actual column names\n",
        "\n",
        "    # Display the DataFrame\n",
        "    print(df)\n",
        "\n",
        "finally:\n",
        "  # Close the WebDriver\n",
        "  driver.quit()\n"
      ],
      "metadata": {
        "colab": {
          "base_uri": "https://localhost:8080/",
          "height": 761
        },
        "id": "yrc-TXT1Eh9U",
        "outputId": "4abc9723-2f05-4234-fb23-d25c3453955e"
      },
      "execution_count": null,
      "outputs": [
        {
          "output_type": "display_data",
          "data": {
            "text/plain": [
              "<IPython.core.display.HTML object>"
            ],
            "text/html": [
              "\n",
              "            <div class=\"spinner-container\">\n",
              "                <div class=\"spinner\" id=\"77d2beb6-3173-43a0-a598-c64b8b3bf83f-circle\"></div>\n",
              "                <div class=\"spinner-text\" id=\"77d2beb6-3173-43a0-a598-c64b8b3bf83f-text\">Updating and upgrading APT</div>\n",
              "            </div>\n",
              "            <style>\n",
              "                @keyframes spin {\n",
              "                    from { transform: rotate(0deg); }\n",
              "                    to { transform: rotate(360deg); }\n",
              "                }\n",
              "\n",
              "                .spinner-container {\n",
              "                    display: flex;\n",
              "                    align-items: center;\n",
              "                    margin-bottom: 3px;\n",
              "                }\n",
              "\n",
              "                .spinner {\n",
              "                    border: 3px solid rgba(0, 0, 0, 0.1);\n",
              "                    border-left-color: lightblue;\n",
              "                    border-radius: 50%;\n",
              "                    width: 12px;\n",
              "                    height: 12px;\n",
              "                    animation: spin 1s linear infinite;\n",
              "                }\n",
              "\n",
              "                .spinner-text {\n",
              "                    padding-left: 6px;\n",
              "                }\n",
              "            </style>\n",
              "        "
            ]
          },
          "metadata": {}
        },
        {
          "output_type": "display_data",
          "data": {
            "text/plain": [
              "<IPython.core.display.Javascript object>"
            ],
            "application/javascript": [
              "\n",
              "            const element = document.getElementById(\"77d2beb6-3173-43a0-a598-c64b8b3bf83f-circle\");\n",
              "            element.style.border = \"3px solid limegreen\";\n",
              "            element.style.animation = \"none\";\n",
              "\n",
              "            const text = document.getElementById(\"77d2beb6-3173-43a0-a598-c64b8b3bf83f-text\");\n",
              "            text.innerText = \"Updated and upgraded APT\";\n",
              "        "
            ]
          },
          "metadata": {}
        },
        {
          "output_type": "display_data",
          "data": {
            "text/plain": [
              "<IPython.core.display.HTML object>"
            ],
            "text/html": [
              "\n",
              "            <div class=\"spinner-container\">\n",
              "                <div class=\"spinner\" id=\"aa27cdaa-4d20-44f3-ba0b-f6d7a7b04aef-circle\"></div>\n",
              "                <div class=\"spinner-text\" id=\"aa27cdaa-4d20-44f3-ba0b-f6d7a7b04aef-text\">Downloading Google Chrome</div>\n",
              "            </div>\n",
              "            <style>\n",
              "                @keyframes spin {\n",
              "                    from { transform: rotate(0deg); }\n",
              "                    to { transform: rotate(360deg); }\n",
              "                }\n",
              "\n",
              "                .spinner-container {\n",
              "                    display: flex;\n",
              "                    align-items: center;\n",
              "                    margin-bottom: 3px;\n",
              "                }\n",
              "\n",
              "                .spinner {\n",
              "                    border: 3px solid rgba(0, 0, 0, 0.1);\n",
              "                    border-left-color: lightblue;\n",
              "                    border-radius: 50%;\n",
              "                    width: 12px;\n",
              "                    height: 12px;\n",
              "                    animation: spin 1s linear infinite;\n",
              "                }\n",
              "\n",
              "                .spinner-text {\n",
              "                    padding-left: 6px;\n",
              "                }\n",
              "            </style>\n",
              "        "
            ]
          },
          "metadata": {}
        },
        {
          "output_type": "display_data",
          "data": {
            "text/plain": [
              "<IPython.core.display.Javascript object>"
            ],
            "application/javascript": [
              "\n",
              "            const element = document.getElementById(\"aa27cdaa-4d20-44f3-ba0b-f6d7a7b04aef-circle\");\n",
              "            element.style.border = \"3px solid limegreen\";\n",
              "            element.style.animation = \"none\";\n",
              "\n",
              "            const text = document.getElementById(\"aa27cdaa-4d20-44f3-ba0b-f6d7a7b04aef-text\");\n",
              "            text.innerText = \"Downloaded Google Chrome\";\n",
              "        "
            ]
          },
          "metadata": {}
        },
        {
          "output_type": "display_data",
          "data": {
            "text/plain": [
              "<IPython.core.display.HTML object>"
            ],
            "text/html": [
              "\n",
              "            <div class=\"spinner-container\">\n",
              "                <div class=\"spinner\" id=\"3d5dae11-471c-46a5-8414-14a3a28ead91-circle\"></div>\n",
              "                <div class=\"spinner-text\" id=\"3d5dae11-471c-46a5-8414-14a3a28ead91-text\">Initializing Chromedriver</div>\n",
              "            </div>\n",
              "            <style>\n",
              "                @keyframes spin {\n",
              "                    from { transform: rotate(0deg); }\n",
              "                    to { transform: rotate(360deg); }\n",
              "                }\n",
              "\n",
              "                .spinner-container {\n",
              "                    display: flex;\n",
              "                    align-items: center;\n",
              "                    margin-bottom: 3px;\n",
              "                }\n",
              "\n",
              "                .spinner {\n",
              "                    border: 3px solid rgba(0, 0, 0, 0.1);\n",
              "                    border-left-color: lightblue;\n",
              "                    border-radius: 50%;\n",
              "                    width: 12px;\n",
              "                    height: 12px;\n",
              "                    animation: spin 1s linear infinite;\n",
              "                }\n",
              "\n",
              "                .spinner-text {\n",
              "                    padding-left: 6px;\n",
              "                }\n",
              "            </style>\n",
              "        "
            ]
          },
          "metadata": {}
        },
        {
          "output_type": "display_data",
          "data": {
            "text/plain": [
              "<IPython.core.display.Javascript object>"
            ],
            "application/javascript": [
              "\n",
              "            const element = document.getElementById(\"3d5dae11-471c-46a5-8414-14a3a28ead91-circle\");\n",
              "            element.style.border = \"3px solid limegreen\";\n",
              "            element.style.animation = \"none\";\n",
              "\n",
              "            const text = document.getElementById(\"3d5dae11-471c-46a5-8414-14a3a28ead91-text\");\n",
              "            text.innerText = \"Initialized Chromedriver\";\n",
              "        "
            ]
          },
          "metadata": {}
        },
        {
          "output_type": "error",
          "ename": "TimeoutException",
          "evalue": "Message: \nStacktrace:\n#0 0x5b4528bb76aa <unknown>\n#1 0x5b4528888600 <unknown>\n#2 0x5b45288d7bcb <unknown>\n#3 0x5b45288d7eb1 <unknown>\n#4 0x5b452891bb24 <unknown>\n#5 0x5b45288fa8cd <unknown>\n#6 0x5b452891904a <unknown>\n#7 0x5b45288fa643 <unknown>\n#8 0x5b45288cad31 <unknown>\n#9 0x5b45288cb79e <unknown>\n#10 0x5b4528b7f23b <unknown>\n#11 0x5b4528b831d2 <unknown>\n#12 0x5b4528b6c5f5 <unknown>\n#13 0x5b4528b83d62 <unknown>\n#14 0x5b4528b5123f <unknown>\n#15 0x5b4528ba6e48 <unknown>\n#16 0x5b4528ba7020 <unknown>\n#17 0x5b4528bb647c <unknown>\n#18 0x78c15b99fac3 <unknown>\n",
          "traceback": [
            "\u001b[0;31m---------------------------------------------------------------------------\u001b[0m",
            "\u001b[0;31mTimeoutException\u001b[0m                          Traceback (most recent call last)",
            "\u001b[0;32m<ipython-input-5-0a6b1bccf102>\u001b[0m in \u001b[0;36m<cell line: 13>\u001b[0;34m()\u001b[0m\n\u001b[1;32m     13\u001b[0m \u001b[0;32mtry\u001b[0m\u001b[0;34m:\u001b[0m\u001b[0;34m\u001b[0m\u001b[0;34m\u001b[0m\u001b[0m\n\u001b[1;32m     14\u001b[0m     \u001b[0;31m# Use WebDriverWait to wait for the element\u001b[0m\u001b[0;34m\u001b[0m\u001b[0;34m\u001b[0m\u001b[0m\n\u001b[0;32m---> 15\u001b[0;31m     input_field = WebDriverWait(driver, 20).until(\n\u001b[0m\u001b[1;32m     16\u001b[0m         \u001b[0mEC\u001b[0m\u001b[0;34m.\u001b[0m\u001b[0mpresence_of_element_located\u001b[0m\u001b[0;34m(\u001b[0m\u001b[0;34m(\u001b[0m\u001b[0mBy\u001b[0m\u001b[0;34m.\u001b[0m\u001b[0mXPATH\u001b[0m\u001b[0;34m,\u001b[0m \u001b[0;34m'//*[@id=\"search-content\"]/div/div/div[1]/div[1]/div/div/trix-editor/div'\u001b[0m\u001b[0;34m)\u001b[0m\u001b[0;34m)\u001b[0m\u001b[0;34m\u001b[0m\u001b[0;34m\u001b[0m\u001b[0m\n\u001b[1;32m     17\u001b[0m     )\n",
            "\u001b[0;32m/usr/local/lib/python3.10/dist-packages/selenium/webdriver/support/wait.py\u001b[0m in \u001b[0;36muntil\u001b[0;34m(self, method, message)\u001b[0m\n\u001b[1;32m    103\u001b[0m             \u001b[0;32mif\u001b[0m \u001b[0mtime\u001b[0m\u001b[0;34m.\u001b[0m\u001b[0mmonotonic\u001b[0m\u001b[0;34m(\u001b[0m\u001b[0;34m)\u001b[0m \u001b[0;34m>\u001b[0m \u001b[0mend_time\u001b[0m\u001b[0;34m:\u001b[0m\u001b[0;34m\u001b[0m\u001b[0;34m\u001b[0m\u001b[0m\n\u001b[1;32m    104\u001b[0m                 \u001b[0;32mbreak\u001b[0m\u001b[0;34m\u001b[0m\u001b[0;34m\u001b[0m\u001b[0m\n\u001b[0;32m--> 105\u001b[0;31m         \u001b[0;32mraise\u001b[0m \u001b[0mTimeoutException\u001b[0m\u001b[0;34m(\u001b[0m\u001b[0mmessage\u001b[0m\u001b[0;34m,\u001b[0m \u001b[0mscreen\u001b[0m\u001b[0;34m,\u001b[0m \u001b[0mstacktrace\u001b[0m\u001b[0;34m)\u001b[0m\u001b[0;34m\u001b[0m\u001b[0;34m\u001b[0m\u001b[0m\n\u001b[0m\u001b[1;32m    106\u001b[0m \u001b[0;34m\u001b[0m\u001b[0m\n\u001b[1;32m    107\u001b[0m     \u001b[0;32mdef\u001b[0m \u001b[0muntil_not\u001b[0m\u001b[0;34m(\u001b[0m\u001b[0mself\u001b[0m\u001b[0;34m,\u001b[0m \u001b[0mmethod\u001b[0m\u001b[0;34m:\u001b[0m \u001b[0mCallable\u001b[0m\u001b[0;34m[\u001b[0m\u001b[0;34m[\u001b[0m\u001b[0mD\u001b[0m\u001b[0;34m]\u001b[0m\u001b[0;34m,\u001b[0m \u001b[0mT\u001b[0m\u001b[0;34m]\u001b[0m\u001b[0;34m,\u001b[0m \u001b[0mmessage\u001b[0m\u001b[0;34m:\u001b[0m \u001b[0mstr\u001b[0m \u001b[0;34m=\u001b[0m \u001b[0;34m\"\"\u001b[0m\u001b[0;34m)\u001b[0m \u001b[0;34m->\u001b[0m \u001b[0mUnion\u001b[0m\u001b[0;34m[\u001b[0m\u001b[0mT\u001b[0m\u001b[0;34m,\u001b[0m \u001b[0mLiteral\u001b[0m\u001b[0;34m[\u001b[0m\u001b[0;32mTrue\u001b[0m\u001b[0;34m]\u001b[0m\u001b[0;34m]\u001b[0m\u001b[0;34m:\u001b[0m\u001b[0;34m\u001b[0m\u001b[0;34m\u001b[0m\u001b[0m\n",
            "\u001b[0;31mTimeoutException\u001b[0m: Message: \nStacktrace:\n#0 0x5b4528bb76aa <unknown>\n#1 0x5b4528888600 <unknown>\n#2 0x5b45288d7bcb <unknown>\n#3 0x5b45288d7eb1 <unknown>\n#4 0x5b452891bb24 <unknown>\n#5 0x5b45288fa8cd <unknown>\n#6 0x5b452891904a <unknown>\n#7 0x5b45288fa643 <unknown>\n#8 0x5b45288cad31 <unknown>\n#9 0x5b45288cb79e <unknown>\n#10 0x5b4528b7f23b <unknown>\n#11 0x5b4528b831d2 <unknown>\n#12 0x5b4528b6c5f5 <unknown>\n#13 0x5b4528b83d62 <unknown>\n#14 0x5b4528b5123f <unknown>\n#15 0x5b4528ba6e48 <unknown>\n#16 0x5b4528ba7020 <unknown>\n#17 0x5b4528bb647c <unknown>\n#18 0x78c15b99fac3 <unknown>\n"
          ]
        }
      ]
    },
    {
      "cell_type": "code",
      "source": [
        "!pip install tabula-py"
      ],
      "metadata": {
        "colab": {
          "base_uri": "https://localhost:8080/"
        },
        "id": "WFmHqnaB6a_V",
        "outputId": "385ce78d-e422-48d9-87a1-2f0a8cf01ee3"
      },
      "execution_count": null,
      "outputs": [
        {
          "output_type": "stream",
          "name": "stdout",
          "text": [
            "Collecting tabula-py\n",
            "  Downloading tabula_py-2.9.3-py3-none-any.whl.metadata (7.6 kB)\n",
            "Requirement already satisfied: pandas>=0.25.3 in /usr/local/lib/python3.10/dist-packages (from tabula-py) (2.1.4)\n",
            "Requirement already satisfied: numpy in /usr/local/lib/python3.10/dist-packages (from tabula-py) (1.26.4)\n",
            "Requirement already satisfied: distro in /usr/lib/python3/dist-packages (from tabula-py) (1.7.0)\n",
            "Requirement already satisfied: python-dateutil>=2.8.2 in /usr/local/lib/python3.10/dist-packages (from pandas>=0.25.3->tabula-py) (2.8.2)\n",
            "Requirement already satisfied: pytz>=2020.1 in /usr/local/lib/python3.10/dist-packages (from pandas>=0.25.3->tabula-py) (2024.1)\n",
            "Requirement already satisfied: tzdata>=2022.1 in /usr/local/lib/python3.10/dist-packages (from pandas>=0.25.3->tabula-py) (2024.1)\n",
            "Requirement already satisfied: six>=1.5 in /usr/local/lib/python3.10/dist-packages (from python-dateutil>=2.8.2->pandas>=0.25.3->tabula-py) (1.16.0)\n",
            "Downloading tabula_py-2.9.3-py3-none-any.whl (12.0 MB)\n",
            "\u001b[2K   \u001b[90m━━━━━━━━━━━━━━━━━━━━━━━━━━━━━━━━━━━━━━━━\u001b[0m \u001b[32m12.0/12.0 MB\u001b[0m \u001b[31m42.1 MB/s\u001b[0m eta \u001b[36m0:00:00\u001b[0m\n",
            "\u001b[?25hInstalling collected packages: tabula-py\n",
            "Successfully installed tabula-py-2.9.3\n"
          ]
        }
      ]
    },
    {
      "cell_type": "code",
      "source": [
        "import tabula\n",
        "import pandas as pd\n",
        "\n",
        "# Specify the URL of the PDF\n",
        "pdf_url = \"https://www.daytonastate.edu/faculty-and-staff/institutional-research/files/volusia-flagler/annual-average-wages-by-county.pdf\"\n",
        "\n",
        "# Extract the table from the PDF\n",
        "tables = tabula.read_pdf(pdf_url, pages=\"all\", multiple_tables=True)\n",
        "\n",
        "# Assuming the table you need is the first one extracted\n",
        "df = tables[0]\n",
        "\n",
        "# Display the DataFrame\n",
        "print(df)\n",
        "\n",
        "# Optionally, you can save the DataFrame to an Excel file\n",
        "#df.to_excel(\"annual_average_wages.xlsx\", index=False)\n"
      ],
      "metadata": {
        "colab": {
          "base_uri": "https://localhost:8080/"
        },
        "id": "zww3_WcW6b-l",
        "outputId": "3421d1cd-a35a-4020-b76a-2a896525c128"
      },
      "execution_count": null,
      "outputs": [
        {
          "output_type": "stream",
          "name": "stderr",
          "text": [
            "WARNING:tabula.backend:Failed to import jpype dependencies. Fallback to subprocess.\n",
            "WARNING:tabula.backend:No module named 'jpype'\n"
          ]
        },
        {
          "output_type": "stream",
          "name": "stdout",
          "text": [
            "                          Year20182019202020212022(P)  Unnamed: 0\n",
            "0   Florida$      5 0,094$      5 1,741$      5 5,...         NaN\n",
            "1                                                 NaN        12.0\n",
            "2                                                 NaN        62.0\n",
            "3                                                 NaN        29.0\n",
            "4                                                 NaN        52.0\n",
            "5                                                 NaN         8.0\n",
            "6                                                 NaN         4.0\n",
            "7                                                 NaN        67.0\n",
            "8                                                 NaN        32.0\n",
            "9                                                 NaN        43.0\n",
            "10                                                NaN        33.0\n",
            "11                                                NaN         6.0\n",
            "12                                                NaN        41.0\n",
            "13                                                NaN        48.0\n",
            "14                                                NaN        61.0\n",
            "15                                                NaN         5.0\n",
            "16                                                NaN        19.0\n",
            "17  Flagler County$       35,493$       36,114$   ...        46.0\n",
            "18                                                 63         NaN\n",
            "19                                                 51         NaN\n",
            "20                                                 58         NaN\n",
            "21                                                 27         NaN\n",
            "22                                                 42         NaN\n",
            "23                                                 22         NaN\n",
            "24                                                 57         NaN\n",
            "25                                                 34         NaN\n",
            "26                                                 47         NaN\n",
            "27                                                 54         NaN\n",
            "28                                                  3         NaN\n",
            "29                                                 66         NaN\n",
            "30                                                 21         NaN\n",
            "31                                                 53         NaN\n",
            "32                                                 59         NaN\n",
            "33                                                 55         NaN\n",
            "34                                                 35         NaN\n",
            "35                                                 14         NaN\n"
          ]
        }
      ]
    },
    {
      "cell_type": "code",
      "source": [
        "import requests\n",
        "from bs4 import BeautifulSoup\n",
        "\n",
        "def get_inventor_info(patent_number):\n",
        "    url = f'https://patents.google.com/patent/{patent_number}/en'\n",
        "    response = requests.get(url)\n",
        "    if response.status_code != 200:\n",
        "        raise Exception(f\"Failed to fetch page: {response.status_code}\")\n",
        "\n",
        "    # Print the first 3000 characters of the HTML content for debugging\n",
        "    print(response.text[:3000])\n",
        "\n",
        "    soup = BeautifulSoup(response.text, 'html.parser')\n",
        "\n",
        "    # Update this section based on actual structure\n",
        "    inventor_info = []\n",
        "\n",
        "    # Example of how you might find the inventor sections\n",
        "    inventor_sections = soup.find_all('meta', {'itemprop': 'inventor'})\n",
        "    for section in inventor_sections:\n",
        "        # Extract information, adapt as needed based on inspection\n",
        "        name_tag = section.find('span', {'itemprop': 'name'})\n",
        "        name = name_tag.get_text(strip=True) if name_tag else 'N/A'\n",
        "\n",
        "        # Additional code to extract address, adapt as needed\n",
        "        # Example assumes address in specific format, adjust selectors as necessary\n",
        "\n",
        "        inventor_info.append({\n",
        "            'Name': name,\n",
        "            'City': 'N/A',\n",
        "            'State': 'N/A',\n",
        "            'ZIP Code': 'N/A',\n",
        "            'Country': 'N/A'\n",
        "        })\n",
        "\n",
        "    return inventor_info\n",
        "\n",
        "# Example usage\n",
        "patent_number = 'US11952733B2'\n",
        "info = get_inventor_info(patent_number)\n",
        "for i in info:\n",
        "    print(i)\n"
      ],
      "metadata": {
        "id": "_sbQx8q8ZziJ",
        "colab": {
          "base_uri": "https://localhost:8080/"
        },
        "outputId": "73896a33-7f26-4372-a0ad-f530fbf29479"
      },
      "execution_count": null,
      "outputs": [
        {
          "output_type": "stream",
          "name": "stdout",
          "text": [
            "<!DOCTYPE html>\n",
            "<html lang=\"en\">\n",
            "  <head>\n",
            "    <title>US11952733B2 - Animal excrement disposal apparatus and method of use \n",
            "        - Google Patents</title>\n",
            "\n",
            "    <meta name=\"viewport\" content=\"width=device-width, initial-scale=1\">\n",
            "    <meta charset=\"UTF-8\">\n",
            "    <meta name=\"referrer\" content=\"origin-when-crossorigin\">\n",
            "    <link rel=\"canonical\" href=\"https://patents.google.com/patent/US11952733B2/en\">\n",
            "    <meta name=\"description\" content=\"\n",
            "     The present disclosure presents an apparatus which assists with disposal of animal excrement. The apparatus includes a conduit having a first end and a second end, wherein the first and second ends are fluidly coupled to a handle and a nozzle, respectively. The handle is fluidly coupled to a water source and provides a lever that is operably coupled to an internal valve allowing the user to control the flow rate of water through the conduit and nozzle. The apparatus further includes a splash guard that is coupled to the nozzle and extends a predetermined distance beyond the exit orifice of the nozzle. The nozzle and splash guard are engineered to produce a turbulent churning of the discharged water when the splash guard is in sufficient contact with the ground that allows for the rapid breakdown and dissolution of the animal excrement. \n",
            "   \n",
            "   \">\n",
            "    <meta name=\"DC.type\" content=\"patent\">\n",
            "    <meta name=\"DC.title\" content=\"Animal excrement disposal apparatus and method of use \n",
            "       \">\n",
            "    <meta name=\"DC.date\" content=\"2023-05-29\" scheme=\"dateSubmitted\">\n",
            "    <meta name=\"DC.description\" content=\"\n",
            "     The present disclosure presents an apparatus which assists with disposal of animal excrement. The apparatus includes a conduit having a first end and a second end, wherein the first and second ends are fluidly coupled to a handle and a nozzle, respectively. The handle is fluidly coupled to a water source and provides a lever that is operably coupled to an internal valve allowing the user to control the flow rate of water through the conduit and nozzle. The apparatus further includes a splash guard that is coupled to the nozzle and extends a predetermined distance beyond the exit orifice of the nozzle. The nozzle and splash guard are engineered to produce a turbulent churning of the discharged water when the splash guard is in sufficient contact with the ground that allows for the rapid breakdown and dissolution of the animal excrement. \n",
            "   \n",
            "   \">\n",
            "    <meta name=\"citation_patent_application_number\" content=\"US:18/202,989\">\n",
            "    <meta name=\"citation_pdf_url\" content=\"https://patentimages.storage.googleapis.com/43/ca/57/ae8c07731eec4c/US11952733.pdf\">\n",
            "    <meta name=\"citation_patent_number\" content=\"US:11952733\">\n",
            "    <meta name=\"DC.date\" content=\"2024-04-09\" scheme=\"issue\">\n",
            "    <meta name=\"DC.contributor\" content=\"Brian Kent Healy\" scheme=\"inventor\">\n",
            "    <meta name=\"DC.contributor\" content=\"Allan Rust Healy\" scheme=\"inventor\">\n",
            "    <meta name=\"DC.contributor\" content=\"Feces To Piece Ease LLC\" scheme=\"assignee\">\n",
            "    <\n"
          ]
        }
      ]
    },
    {
      "cell_type": "code",
      "source": [
        "!pip install PyMuPDF\n",
        "\n",
        "# for OCR - but doesn't work that well\n",
        "!pip install pytesseract\n",
        "!pip install pillow\n",
        "!sudo apt install tesseract-ocr"
      ],
      "metadata": {
        "colab": {
          "base_uri": "https://localhost:8080/"
        },
        "id": "6bXFB8wIr5uZ",
        "outputId": "92fc9806-47e7-4f10-de6c-7d7e9134fcf7"
      },
      "execution_count": null,
      "outputs": [
        {
          "output_type": "stream",
          "name": "stdout",
          "text": [
            "Requirement already satisfied: PyMuPDF in /usr/local/lib/python3.10/dist-packages (1.24.9)\n",
            "Requirement already satisfied: PyMuPDFb==1.24.9 in /usr/local/lib/python3.10/dist-packages (from PyMuPDF) (1.24.9)\n",
            "Requirement already satisfied: pytesseract in /usr/local/lib/python3.10/dist-packages (0.3.13)\n",
            "Requirement already satisfied: packaging>=21.3 in /usr/local/lib/python3.10/dist-packages (from pytesseract) (24.1)\n",
            "Requirement already satisfied: Pillow>=8.0.0 in /usr/local/lib/python3.10/dist-packages (from pytesseract) (9.4.0)\n",
            "Requirement already satisfied: pillow in /usr/local/lib/python3.10/dist-packages (9.4.0)\n",
            "Reading package lists... Done\n",
            "Building dependency tree... Done\n",
            "Reading state information... Done\n",
            "tesseract-ocr is already the newest version (4.1.1-2.1build1).\n",
            "0 upgraded, 0 newly installed, 0 to remove and 45 not upgraded.\n",
            "\u001b[31mERROR: Could not find a version that satisfies the requirement pywin32 (from versions: none)\u001b[0m\u001b[31m\n",
            "\u001b[0m\u001b[31mERROR: No matching distribution found for pywin32\u001b[0m\u001b[31m\n",
            "\u001b[0m"
          ]
        }
      ]
    },
    {
      "cell_type": "code",
      "source": [
        "import fitz  # PyMuPDF\n",
        "import re\n",
        "import requests\n",
        "from io import BytesIO\n",
        "from bs4 import BeautifulSoup\n",
        "\n",
        "# for OCR of PDF\n",
        "import pytesseract\n",
        "from PIL import Image\n",
        "\n",
        "pytesseract.pytesseract.tesseract_cmd = '/usr/bin/tesseract'\n",
        "\n",
        "def extract_text_from_first_page(pdf_url):\n",
        "    # Download the PDF\n",
        "    response = requests.get(pdf_url)\n",
        "    pdf_content = BytesIO(response.content)\n",
        "\n",
        "    # Open the PDF with PyMuPDF\n",
        "    doc = fitz.open(stream=pdf_content, filetype=\"pdf\")\n",
        "    first_page = doc.load_page(0)  # Load the first page\n",
        "\n",
        "    # Convert the first page to an image\n",
        "    pix = first_page.get_pixmap()\n",
        "    img = Image.frombytes(\"RGB\", [pix.width, pix.height], pix.samples)\n",
        "\n",
        "    # Use Tesseract to do OCR on the image\n",
        "    text = pytesseract.image_to_string(img, config=\"--oem 3 --psm 6 --dpi 300 -l eng tessedit_char_whitelist=0123456789abcdefghijklmnopqrstuvwxyzABCDEFGHIJKLMNOPQRSTUVWXYZ\")\n",
        "    print(f\"{text=}\")\n",
        "    return text\n",
        "\n",
        "def extract_location_info(text):\n",
        "    # Regular expressions to capture city and state\n",
        "    city_state_pattern = re.compile(r'([A-Za-z\\s]+),\\s*([A-Z]{2})')\n",
        "\n",
        "    # Find all occurrences\n",
        "    matches = city_state_pattern.findall(text)\n",
        "\n",
        "    # Prepare results\n",
        "    location_info = []\n",
        "    for match in matches:\n",
        "        city, state = match\n",
        "        location_info.append({\n",
        "            'City': city,\n",
        "            'State': state\n",
        "        })\n",
        "\n",
        "    return location_info\n",
        "\n",
        "def get_inventor_info(patent_number):\n",
        "    url = f'https://patents.google.com/patent/{patent_number}/en'\n",
        "    response = requests.get(url)\n",
        "    if response.status_code != 200:\n",
        "        raise Exception(f\"Failed to fetch page: {response.status_code}\")\n",
        "\n",
        "    # Print the first 3000 characters of the HTML content for debugging\n",
        "    #print(response.text[:3000])\n",
        "\n",
        "    soup = BeautifulSoup(response.text, 'html.parser')\n",
        "\n",
        "    # Extract the PDF URL from the meta tags\n",
        "    pdf_url = soup.find('meta', {'name': 'citation_pdf_url'})['content']\n",
        "    print(pdf_url)\n",
        "    pdf_text = extract_text_from_first_page(pdf_url)\n",
        "    print(pdf_text)\n",
        "    location_info = extract_location_info(pdf_text)\n",
        "\n",
        "    # Update this section based on actual structure\n",
        "    inventor_info = []\n",
        "\n",
        "    inventor_info = []\n",
        "    inventor_sections = soup.find_all('meta', {'itemprop': 'inventor'})\n",
        "\n",
        "    for index, section in enumerate(inventor_sections):\n",
        "        name_tag = section.get('content')\n",
        "        name = name_tag if name_tag else 'N/A'\n",
        "\n",
        "        city_state = location_info[index] if index < len(location_info) else {'City': 'N/A', 'State': 'N/A'}\n",
        "\n",
        "        inventor_info.append({\n",
        "            'Name': name,\n",
        "            'City': city_state['City'],\n",
        "            'State': city_state['State'],\n",
        "            'ZIP Code': 'N/A',\n",
        "            'Country': 'N/A'\n",
        "        })\n",
        "\n",
        "    return inventor_info\n",
        "\n",
        "# Example usage\n",
        "patent_number = 'US11952733B2'\n",
        "info = get_inventor_info(patent_number)\n",
        "for i in info:\n",
        "    print(i)"
      ],
      "metadata": {
        "colab": {
          "base_uri": "https://localhost:8080/"
        },
        "id": "pVsRJFO_qMWm",
        "outputId": "3aad1ea6-6a30-4f23-d550-421663972d21"
      },
      "execution_count": null,
      "outputs": [
        {
          "output_type": "stream",
          "name": "stdout",
          "text": [
            "https://patentimages.storage.googleapis.com/43/ca/57/ae8c07731eec4c/US11952733.pdf\n",
            "text='USOTI9Sz733B2\\nco» United States Patent 10) Patent Noz US 11,952,733 B2\\nHealy et al (4s) Date of Patent: ‘Apr. 9, 2024\\n(68) ANIMAL EXCREMENT Dispos “ Retro Ce\\n[APPARATUS AND MIE THOD OF USE Us bern epetanyts\\n(21) Appcn eset PhP LC Pn Cot, nine «apn wa\\nras) SPRMG A EBM nme\\n(72) overs: eta Keo Healy, al Cos FL ~ ws rated\\nTES Qh tn ea Sn ATION A 6 Sed oe\\n(9) signee Feces» Plee-Base LLC, Pal Coos, ‘at \"Soe Sct\\noy SORIA + Sisto ian oun nas\\nRom ccd oe er 35 (Coatzus\\nUSE 1540) by Oc FOREIGN PATENT DOCUMENTS\\n(21) Appl Nos tana» pe msomionrs oh a0\\n(2) Fie: May 29,2023 Co Arye, Fries Mais LP\\n© Pre Putian Data Sint Guns hsepine Che.\\n* The pesca chose pena spars which sis\\nte . ‘Soaking it a sn een when i\\nelated US Appleton Date {estan cod eal eM eo» a nd»\\n(Povo aptiin No, GATRSTA. floton n.d rope The hn say ela sr\\nsm Scarce af pons at ope cops\\noy meet ‘Scr tagh de cond ad ere The apart oer\\nFein sor) SMGT\\'Ria gun th compl os ml\\nca) Use Scenls» poser! dime bo exif\\nGe Ba 12 Qoi301y, orm az Se nore The wre dps Gel ae ge\\n(23.01) For 201798 GIS) nbs swale of dhe were\\n| eit or inten pis gu naman soa wie pa\\n655) Fel of Casein ar iy, tise eine\\noun 101; Ent aon/ias8 =\\nSanton efor empeesech iy 16 Cai, 15 Drang She\\nix\\n\\x0c'\n",
            "USOTI9Sz733B2\n",
            "co» United States Patent 10) Patent Noz US 11,952,733 B2\n",
            "Healy et al (4s) Date of Patent: ‘Apr. 9, 2024\n",
            "(68) ANIMAL EXCREMENT Dispos “ Retro Ce\n",
            "[APPARATUS AND MIE THOD OF USE Us bern epetanyts\n",
            "(21) Appcn eset PhP LC Pn Cot, nine «apn wa\n",
            "ras) SPRMG A EBM nme\n",
            "(72) overs: eta Keo Healy, al Cos FL ~ ws rated\n",
            "TES Qh tn ea Sn ATION A 6 Sed oe\n",
            "(9) signee Feces» Plee-Base LLC, Pal Coos, ‘at \"Soe Sct\n",
            "oy SORIA + Sisto ian oun nas\n",
            "Rom ccd oe er 35 (Coatzus\n",
            "USE 1540) by Oc FOREIGN PATENT DOCUMENTS\n",
            "(21) Appl Nos tana» pe msomionrs oh a0\n",
            "(2) Fie: May 29,2023 Co Arye, Fries Mais LP\n",
            "© Pre Putian Data Sint Guns hsepine Che.\n",
            "* The pesca chose pena spars which sis\n",
            "te . ‘Soaking it a sn een when i\n",
            "elated US Appleton Date {estan cod eal eM eo» a nd»\n",
            "(Povo aptiin No, GATRSTA. floton n.d rope The hn say ela sr\n",
            "sm Scarce af pons at ope cops\n",
            "oy meet ‘Scr tagh de cond ad ere The apart oer\n",
            "Fein sor) SMGT'Ria gun th compl os ml\n",
            "ca) Use Scenls» poser! dime bo exif\n",
            "Ge Ba 12 Qoi301y, orm az Se nore The wre dps Gel ae ge\n",
            "(23.01) For 201798 GIS) nbs swale of dhe were\n",
            "| eit or inten pis gu naman soa wie pa\n",
            "655) Fel of Casein ar iy, tise eine\n",
            "oun 101; Ent aon/ias8 =\n",
            "Santon efor empeesech iy 16 Cai, 15 Drang She\n",
            "ix\n",
            "\f\n"
          ]
        }
      ]
    },
    {
      "cell_type": "code",
      "source": [
        "florida_cities = [\n",
        "    \"Alachua\", \"Altamonte Springs\", \"Anna Maria\", \"Apalachicola\", \"Apopka\",\n",
        "    \"Atlantic Beach\", \"Auburndale\", \"Aventura\", \"Avon Park\", \"Bal Harbour\",\n",
        "    \"Bartow\", \"Bay Harbor Islands\", \"Bay Lake\", \"Belleair\", \"Belleair Beach\",\n",
        "    \"Belleair Bluffs\", \"Belle Glade\", \"Belle Isle\", \"Belleview\", \"Beverly Beach\",\n",
        "    \"Biscayne Park\", \"Blountstown\", \"Boca Raton\", \"Bonifay\", \"Bonita Springs\",\n",
        "    \"Bowling Green\", \"Boynton Beach\", \"Bradenton\", \"Bradenton Beach\", \"Bristol\",\n",
        "    \"Brooksville\", \"Bunnell\", \"Bushnell\", \"Callaway\", \"Cape Canaveral\",\n",
        "    \"Cape Coral\", \"Carrabelle\", \"Cedar Key\", \"Century\", \"ChampionsGate\",\n",
        "    \"Chattahoochee\", \"Chiefland\", \"Chipley\", \"Cinco Bayou\", \"Clearwater\",\n",
        "    \"Cocoa\", \"Cocoa Beach\", \"Coconut Creek\", \"Coleman\", \"Cooper City\",\n",
        "    \"Coral Gables\", \"Coral Springs\", \"Crestview\", \"Cross City\", \"Crystal River\",\n",
        "    \"Dade City\", \"Dania Beach\", \"Davie\", \"Daytona Beach\", \"Daytona Beach Shores\",\n",
        "    \"DeBary\", \"Deerfield Beach\", \"DeFuniak Springs\", \"DeLand\", \"Delray Beach\",\n",
        "    \"Deltona\", \"Destin\", \"Doral\", \"Dundee\", \"Dunedin\", \"Eagle Lake\", \"Eatonville\",\n",
        "    \"Edgewater\", \"Edgewood\", \"El Portal\", \"Estero\", \"Everglades City\", \"Fanning Springs\",\n",
        "    \"Fellsmere\", \"Fernandina Beach\", \"Flagler Beach\", \"Florida City\", \"Fort Lauderdale\",\n",
        "    \"Fort Meade\", \"Fort Myers\", \"Fort Myers Beach\", \"Fort Pierce\", \"Fort Walton Beach\",\n",
        "    \"Fort White\", \"Freeport\", \"Frostproof\", \"Fruitland Park\", \"Gainesville\",\n",
        "    \"Glen Ridge\", \"Glen St. Mary\", \"Golden Beach\", \"Golf\", \"Graceville\", \"Green Cove Springs\",\n",
        "    \"Greensboro\", \"Greenville\", \"Greenwood\", \"Gretna\", \"Groveland\", \"Gulf Breeze\",\n",
        "    \"Gulf Stream\", \"Gulfport\", \"Haines City\", \"Hallandale Beach\", \"Hampton\",\n",
        "    \"Hastings\", \"Haverhill\", \"Hawthorne\", \"Hialeah\", \"Hialeah Gardens\",\n",
        "    \"Highland Beach\", \"High Springs\", \"Hillcrest Heights\", \"Hillsboro Beach\",\n",
        "    \"Holly Hill\", \"Hollywood\", \"Holmes Beach\", \"Homestead\", \"Horseshoe Beach\",\n",
        "    \"Howey-in-the-Hills\", \"Hypoluxo\", \"Indialantic\", \"Indian Creek\", \"Indian Harbour Beach\",\n",
        "    \"Indian River Shores\", \"Indian Rocks Beach\", \"Indian Shores\", \"Inglis\", \"Interlachen\",\n",
        "    \"Inverness\", \"Iona\", \"Islamorada\", \"Jacksonville\", \"Jacksonville Beach\", \"Jacob City\",\n",
        "    \"Jasper\", \"Jay\", \"Jennings\", \"Juno Beach\", \"Jupiter\", \"Jupiter Inlet Colony\",\n",
        "    \"Kenneth City\", \"Keystone Heights\", \"Key Biscayne\", \"Key Colony Beach\", \"Key West\",\n",
        "    \"Kissimmee\", \"LaBelle\", \"Lady Lake\", \"Lake Alfred\", \"Lake Buena Vista\",\n",
        "    \"Lake Butler\", \"Lake City\", \"Lake Clarke Shores\", \"Lake Hamilton\", \"Lake Helen\",\n",
        "    \"Lake Mary\", \"Lake Park\", \"Lake Placid\", \"Lake Wales\", \"Lake Worth Beach\",\n",
        "    \"Lakeland\", \"Lantana\", \"Largo\", \"Lauderdale-by-the-Sea\", \"Lauderdale Lakes\",\n",
        "    \"Lauderhill\", \"Laurel Hill\", \"Lawtey\", \"Layton\", \"Lazy Lake\", \"Lee\",\n",
        "    \"Leesburg\", \"Lighthouse Point\", \"Live Oak\", \"Longboat Key\", \"Longwood\",\n",
        "    \"Loxahatchee Groves\", \"Lynn Haven\", \"Macclenny\", \"Madeira Beach\", \"Madison\",\n",
        "    \"Maitland\", \"Malabar\", \"Malone\", \"Manalapan\", \"Mangonia Park\", \"Marathon\",\n",
        "    \"Marco Island\", \"Margate\", \"Marianna\", \"Marineland\", \"Mary Esther\",\n",
        "    \"Masaryktown\", \"Mascotte\", \"Medley\", \"Melbourne\", \"Melbourne Beach\",\n",
        "    \"Melbourne Village\", \"Mexico Beach\", \"Miami\", \"Miami Beach\", \"Miami Gardens\",\n",
        "    \"Miami Lakes\", \"Miami Shores\", \"Miami Springs\", \"Micanopy\", \"Midway\",\n",
        "    \"Milton\", \"Minneola\", \"Miramar\", \"Monticello\", \"Moore Haven\", \"Mount Dora\",\n",
        "    \"Mulberry\", \"Naples\", \"Neptune Beach\", \"Niceville\", \"Noma\", \"North Bay Village\",\n",
        "    \"North Lauderdale\", \"North Miami\", \"North Miami Beach\", \"North Palm Beach\",\n",
        "    \"North Port\", \"Oak Hill\", \"Oakland\", \"Oakland Park\", \"Ocala\", \"Ocean Breeze\",\n",
        "    \"Ocean Ridge\", \"Ocoee\", \"Odessa\", \"Ojus\", \"Oldsmar\", \"Olga\", \"Opa-locka\",\n",
        "    \"Orange City\", \"Orange Park\", \"Orchid\", \"Orlando\", \"Ormond Beach\", \"Otter Creek\",\n",
        "    \"Oviedo\", \"Pahokee\", \"Palatka\", \"Palm Bay\", \"Palm Beach\", \"Palm Beach Gardens\",\n",
        "    \"Palm Beach Shores\", \"Palm Coast\", \"Palmetto\", \"Panama City\", \"Panama City Beach\",\n",
        "    \"Parker\", \"Parkland\", \"Pasadena Hills\", \"Paxton\", \"Pembroke Park\", \"Pembroke Pines\",\n",
        "    \"Pensacola\", \"Perry\", \"Pierson\", \"Pinecrest\", \"Pinellas Park\", \"Pine Hills\",\n",
        "    \"Pine Island\", \"Pinewood\", \"Plantation\", \"Plant City\", \"Polk City\",\n",
        "    \"Pompano Beach\", \"Ponce de Leon\", \"Ponce Inlet\", \"Port Charlotte\",\n",
        "    \"Port Orange\", \"Port Richey\", \"Port St. Joe\", \"Port St. Lucie\",\n",
        "    \"Punta Gorda\", \"Quincy\", \"Reddick\", \"Redington Beach\", \"Redington Shores\",\n",
        "    \"Ridge Manor\", \"Ridgecrest\", \"Riviera Beach\", \"Rockledge\", \"Royal Palm Beach\",\n",
        "    \"Safety Harbor\", \"Sanford\", \"Sanibel\", \"Santa Rosa Beach\", \"Sarasota\",\n",
        "    \"Satellite Beach\", \"Sebastian\", \"Sebring\", \"Seffner\", \"Seminole\",\n",
        "    \"Sewall's Point\", \"Shalimar\", \"Siesta Key\", \"Silver Springs Shores\",\n",
        "    \"Sneads\", \"Sopchoppy\", \"South Bay\", \"South Daytona\", \"South Highpoint\",\n",
        "    \"South Miami\", \"South Palm Beach\", \"South Pasadena\", \"Southwest Ranches\",\n",
        "    \"Spring Hill\", \"St. Augustine\", \"St. Augustine Beach\", \"St. Cloud\",\n",
        "    \"St. George Island\", \"St. Leo\", \"St. Lucie Village\", \"St. Pete Beach\",\n",
        "    \"St. Petersburg\", \"Starke\", \"Steinhatchee\", \"Stuart\", \"Sunrise\",\n",
        "    \"Sweetwater\", \"Tallahassee\", \"Tamarac\", \"Tampa\", \"Tarpon Springs\",\n",
        "    \"Tavares\", \"Tavernier\", \"Temple Terrace\", \"Tequesta\", \"The Villages\",\n",
        "    \"Thonotosassa\", \"Titusville\", \"Treasure Island\", \"Trenton\", \"Umatilla\",\n",
        "    \"Valparaiso\", \"Venice\", \"Vero Beach\", \"Vernon\", \"Villano Beach\",\n",
        "    \"Wabasso\", \"Waldo\", \"Warrington\", \"Washington Park\", \"Watertown\",\n",
        "    \"Wauchula\", \"Waverly\", \"Webster\", \"Wellington\", \"Westchase\",\n",
        "    \"West DeLand\", \"West Little River\", \"West Melbourne\", \"West Miami\",\n",
        "    \"West Palm Beach\", \"West Park\", \"West Pensacola\", \"Weston\",\n",
        "    \"West Vero Corridor\", \"Wewahitchka\", \"Whiskey Creek\", \"White City\",\n",
        "    \"Wildwood\", \"Williston\", \"Wilton Manors\", \"Windermere\", \"Winston\",\n",
        "    \"Winter Garden\", \"Winter Haven\", \"Winter Park\", \"Winter Springs\",\n",
        "    \"Woodlawn Beach\", \"Worthington Springs\", \"Wright\", \"Yankeetown\",\n",
        "    \"Yulee\", \"Zephyrhills\", \"Zellwood\"\n",
        "]"
      ],
      "metadata": {
        "id": "Zg_HFC2nCYQw"
      },
      "execution_count": null,
      "outputs": []
    },
    {
      "cell_type": "code",
      "source": [
        "urls = []\n",
        "for city in florida_cities:\n",
        "    url = f\"https://assignment.uspto.gov/patent/index.html#/patent/search/resultFilter?advSearchFilter=patAssigneeCity:%22{city.lower()}%22%7CpatAssigneeState:%22Florida%22&qc=2\"\n",
        "    urls.append(url)\n",
        "\n",
        "# Create a DataFrame from the list of URLs\n",
        "df = pd.DataFrame({\n",
        "    'City': florida_cities,\n",
        "    'URL': urls\n",
        "})\n",
        "\n",
        "# Save the DataFrame to an Excel file\n",
        "df.to_excel('florida_patent_urls.xlsx', index=False)\n",
        "\n",
        "# Optional: Download the file if running in Google Colab\n",
        "from google.colab import files\n",
        "files.download('florida_patent_urls.xlsx')"
      ],
      "metadata": {
        "colab": {
          "base_uri": "https://localhost:8080/",
          "height": 17
        },
        "id": "N5nAMhfBga3n",
        "outputId": "48aab08c-67ac-419e-c026-eebfd14c14ef"
      },
      "execution_count": null,
      "outputs": [
        {
          "output_type": "display_data",
          "data": {
            "text/plain": [
              "<IPython.core.display.Javascript object>"
            ],
            "application/javascript": [
              "\n",
              "    async function download(id, filename, size) {\n",
              "      if (!google.colab.kernel.accessAllowed) {\n",
              "        return;\n",
              "      }\n",
              "      const div = document.createElement('div');\n",
              "      const label = document.createElement('label');\n",
              "      label.textContent = `Downloading \"${filename}\": `;\n",
              "      div.appendChild(label);\n",
              "      const progress = document.createElement('progress');\n",
              "      progress.max = size;\n",
              "      div.appendChild(progress);\n",
              "      document.body.appendChild(div);\n",
              "\n",
              "      const buffers = [];\n",
              "      let downloaded = 0;\n",
              "\n",
              "      const channel = await google.colab.kernel.comms.open(id);\n",
              "      // Send a message to notify the kernel that we're ready.\n",
              "      channel.send({})\n",
              "\n",
              "      for await (const message of channel.messages) {\n",
              "        // Send a message to notify the kernel that we're ready.\n",
              "        channel.send({})\n",
              "        if (message.buffers) {\n",
              "          for (const buffer of message.buffers) {\n",
              "            buffers.push(buffer);\n",
              "            downloaded += buffer.byteLength;\n",
              "            progress.value = downloaded;\n",
              "          }\n",
              "        }\n",
              "      }\n",
              "      const blob = new Blob(buffers, {type: 'application/binary'});\n",
              "      const a = document.createElement('a');\n",
              "      a.href = window.URL.createObjectURL(blob);\n",
              "      a.download = filename;\n",
              "      div.appendChild(a);\n",
              "      a.click();\n",
              "      div.remove();\n",
              "    }\n",
              "  "
            ]
          },
          "metadata": {}
        },
        {
          "output_type": "display_data",
          "data": {
            "text/plain": [
              "<IPython.core.display.Javascript object>"
            ],
            "application/javascript": [
              "download(\"download_88969d38-427d-45a9-983b-99b81ec4f790\", \"florida_patent_urls.xlsx\", 13419)"
            ]
          },
          "metadata": {}
        }
      ]
    },
    {
      "cell_type": "code",
      "source": [
        "!pip install google-colab-selenium[undetected]\n",
        "!pip install geopy\n",
        "!pip install openpyxl"
      ],
      "metadata": {
        "colab": {
          "base_uri": "https://localhost:8080/"
        },
        "id": "T6Y41MAUFTWN",
        "outputId": "7133ec3a-dabe-4c30-bc7f-05b2cbb3abbb"
      },
      "execution_count": null,
      "outputs": [
        {
          "output_type": "stream",
          "name": "stdout",
          "text": [
            "Collecting google-colab-selenium[undetected]\n",
            "  Downloading google_colab_selenium-1.0.14-py3-none-any.whl.metadata (2.7 kB)\n",
            "Collecting selenium (from google-colab-selenium[undetected])\n",
            "  Downloading selenium-4.23.1-py3-none-any.whl.metadata (7.1 kB)\n",
            "Collecting undetected-chromedriver (from google-colab-selenium[undetected])\n",
            "  Downloading undetected-chromedriver-3.5.5.tar.gz (65 kB)\n",
            "\u001b[2K     \u001b[90m━━━━━━━━━━━━━━━━━━━━━━━━━━━━━━━━━━━━━━━━\u001b[0m \u001b[32m65.4/65.4 kB\u001b[0m \u001b[31m2.8 MB/s\u001b[0m eta \u001b[36m0:00:00\u001b[0m\n",
            "\u001b[?25h  Preparing metadata (setup.py) ... \u001b[?25l\u001b[?25hdone\n",
            "Requirement already satisfied: urllib3<3,>=1.26 in /usr/local/lib/python3.10/dist-packages (from urllib3[socks]<3,>=1.26->selenium->google-colab-selenium[undetected]) (2.0.7)\n",
            "Collecting trio~=0.17 (from selenium->google-colab-selenium[undetected])\n",
            "  Downloading trio-0.26.2-py3-none-any.whl.metadata (8.6 kB)\n",
            "Collecting trio-websocket~=0.9 (from selenium->google-colab-selenium[undetected])\n",
            "  Downloading trio_websocket-0.11.1-py3-none-any.whl.metadata (4.7 kB)\n",
            "Requirement already satisfied: certifi>=2021.10.8 in /usr/local/lib/python3.10/dist-packages (from selenium->google-colab-selenium[undetected]) (2024.7.4)\n",
            "Requirement already satisfied: typing_extensions~=4.9 in /usr/local/lib/python3.10/dist-packages (from selenium->google-colab-selenium[undetected]) (4.12.2)\n",
            "Requirement already satisfied: websocket-client~=1.8 in /usr/local/lib/python3.10/dist-packages (from selenium->google-colab-selenium[undetected]) (1.8.0)\n",
            "Requirement already satisfied: requests in /usr/local/lib/python3.10/dist-packages (from undetected-chromedriver->google-colab-selenium[undetected]) (2.32.3)\n",
            "Collecting websockets (from undetected-chromedriver->google-colab-selenium[undetected])\n",
            "  Downloading websockets-13.0-cp310-cp310-manylinux_2_5_x86_64.manylinux1_x86_64.manylinux_2_17_x86_64.manylinux2014_x86_64.whl.metadata (6.7 kB)\n",
            "Requirement already satisfied: attrs>=23.2.0 in /usr/local/lib/python3.10/dist-packages (from trio~=0.17->selenium->google-colab-selenium[undetected]) (24.2.0)\n",
            "Requirement already satisfied: sortedcontainers in /usr/local/lib/python3.10/dist-packages (from trio~=0.17->selenium->google-colab-selenium[undetected]) (2.4.0)\n",
            "Requirement already satisfied: idna in /usr/local/lib/python3.10/dist-packages (from trio~=0.17->selenium->google-colab-selenium[undetected]) (3.7)\n",
            "Collecting outcome (from trio~=0.17->selenium->google-colab-selenium[undetected])\n",
            "  Downloading outcome-1.3.0.post0-py2.py3-none-any.whl.metadata (2.6 kB)\n",
            "Requirement already satisfied: sniffio>=1.3.0 in /usr/local/lib/python3.10/dist-packages (from trio~=0.17->selenium->google-colab-selenium[undetected]) (1.3.1)\n",
            "Requirement already satisfied: exceptiongroup in /usr/local/lib/python3.10/dist-packages (from trio~=0.17->selenium->google-colab-selenium[undetected]) (1.2.2)\n",
            "Collecting wsproto>=0.14 (from trio-websocket~=0.9->selenium->google-colab-selenium[undetected])\n",
            "  Downloading wsproto-1.2.0-py3-none-any.whl.metadata (5.6 kB)\n",
            "Requirement already satisfied: pysocks!=1.5.7,<2.0,>=1.5.6 in /usr/local/lib/python3.10/dist-packages (from urllib3[socks]<3,>=1.26->selenium->google-colab-selenium[undetected]) (1.7.1)\n",
            "Requirement already satisfied: charset-normalizer<4,>=2 in /usr/local/lib/python3.10/dist-packages (from requests->undetected-chromedriver->google-colab-selenium[undetected]) (3.3.2)\n",
            "Collecting h11<1,>=0.9.0 (from wsproto>=0.14->trio-websocket~=0.9->selenium->google-colab-selenium[undetected])\n",
            "  Downloading h11-0.14.0-py3-none-any.whl.metadata (8.2 kB)\n",
            "Downloading google_colab_selenium-1.0.14-py3-none-any.whl (8.2 kB)\n",
            "Downloading selenium-4.23.1-py3-none-any.whl (9.4 MB)\n",
            "\u001b[2K   \u001b[90m━━━━━━━━━━━━━━━━━━━━━━━━━━━━━━━━━━━━━━━━\u001b[0m \u001b[32m9.4/9.4 MB\u001b[0m \u001b[31m37.8 MB/s\u001b[0m eta \u001b[36m0:00:00\u001b[0m\n",
            "\u001b[?25hDownloading trio-0.26.2-py3-none-any.whl (475 kB)\n",
            "\u001b[2K   \u001b[90m━━━━━━━━━━━━━━━━━━━━━━━━━━━━━━━━━━━━━━━━\u001b[0m \u001b[32m476.0/476.0 kB\u001b[0m \u001b[31m12.8 MB/s\u001b[0m eta \u001b[36m0:00:00\u001b[0m\n",
            "\u001b[?25hDownloading trio_websocket-0.11.1-py3-none-any.whl (17 kB)\n",
            "Downloading websockets-13.0-cp310-cp310-manylinux_2_5_x86_64.manylinux1_x86_64.manylinux_2_17_x86_64.manylinux2014_x86_64.whl (157 kB)\n",
            "\u001b[2K   \u001b[90m━━━━━━━━━━━━━━━━━━━━━━━━━━━━━━━━━━━━━━━━\u001b[0m \u001b[32m157.2/157.2 kB\u001b[0m \u001b[31m8.7 MB/s\u001b[0m eta \u001b[36m0:00:00\u001b[0m\n",
            "\u001b[?25hDownloading wsproto-1.2.0-py3-none-any.whl (24 kB)\n",
            "Downloading outcome-1.3.0.post0-py2.py3-none-any.whl (10 kB)\n",
            "Downloading h11-0.14.0-py3-none-any.whl (58 kB)\n",
            "\u001b[2K   \u001b[90m━━━━━━━━━━━━━━━━━━━━━━━━━━━━━━━━━━━━━━━━\u001b[0m \u001b[32m58.3/58.3 kB\u001b[0m \u001b[31m3.5 MB/s\u001b[0m eta \u001b[36m0:00:00\u001b[0m\n",
            "\u001b[?25hBuilding wheels for collected packages: undetected-chromedriver\n",
            "  Building wheel for undetected-chromedriver (setup.py) ... \u001b[?25l\u001b[?25hdone\n",
            "  Created wheel for undetected-chromedriver: filename=undetected_chromedriver-3.5.5-py3-none-any.whl size=47047 sha256=b425e84b1216e4fee2bcb10f2b259b9447a7e530203c091050f0080f1bb02c41\n",
            "  Stored in directory: /root/.cache/pip/wheels/cf/a1/db/e1275b6f7259aacd6b045f8bfcb1fcbc93827a3916ba55d5b7\n",
            "Successfully built undetected-chromedriver\n",
            "Installing collected packages: websockets, outcome, h11, wsproto, trio, trio-websocket, selenium, undetected-chromedriver, google-colab-selenium\n",
            "Successfully installed google-colab-selenium-1.0.14 h11-0.14.0 outcome-1.3.0.post0 selenium-4.23.1 trio-0.26.2 trio-websocket-0.11.1 undetected-chromedriver-3.5.5 websockets-13.0 wsproto-1.2.0\n",
            "Requirement already satisfied: geopy in /usr/local/lib/python3.10/dist-packages (2.4.1)\n",
            "Requirement already satisfied: geographiclib<3,>=1.52 in /usr/local/lib/python3.10/dist-packages (from geopy) (2.0)\n",
            "Requirement already satisfied: openpyxl in /usr/local/lib/python3.10/dist-packages (3.1.5)\n",
            "Requirement already satisfied: et-xmlfile in /usr/local/lib/python3.10/dist-packages (from openpyxl) (1.1.0)\n"
          ]
        }
      ]
    },
    {
      "cell_type": "code",
      "source": [
        "import google_colab_selenium as gs\n",
        "from selenium.webdriver.common.by import By\n",
        "from selenium.webdriver.support.ui import WebDriverWait\n",
        "from selenium.webdriver.support import expected_conditions as EC\n",
        "import pandas as pd\n",
        "import time"
      ],
      "metadata": {
        "id": "DRPel2MAcgwL"
      },
      "execution_count": null,
      "outputs": []
    },
    {
      "cell_type": "code",
      "source": [
        "# USPTO API\n",
        "import google_colab_selenium as gs\n",
        "from selenium.webdriver.common.by import By\n",
        "from selenium.webdriver.support.ui import WebDriverWait\n",
        "from selenium.webdriver.support import expected_conditions as EC\n",
        "import pandas as pd\n",
        "import time\n",
        "\n",
        "# Initialize an empty DataFrame to store the results for a single city\n",
        "def create_empty_city_df(city):\n",
        "    years = list(range(2015, 2025))  # Adjust the years based on your need\n",
        "    return pd.DataFrame({'Year': years, 'City': city, 'Patent Count': [0]*len(years)})\n",
        "\n",
        "# Function to scrape data for a given city\n",
        "def scrape_city_data(city):\n",
        "    # Initialize an empty DataFrame for this city\n",
        "    results_df = create_empty_city_df(city)\n",
        "\n",
        "    driver = gs.UndetectedChrome()\n",
        "\n",
        "    # Open the website\n",
        "    driver.get(f'https://assignment.uspto.gov/patent/index.html#/patent/search/resultFilter?advSearchFilter=patAssigneeCity:%22{city.lower()}%22%7CpatAssigneeState:%22Florida%22&qc=2')\n",
        "\n",
        "    execution_year_filter = WebDriverWait(driver, 10).until(\n",
        "        EC.element_to_be_clickable((By.XPATH, '//*[@id=\"patAssignorEarliestExDate\"]/div[1]/h4/a'))\n",
        "    )\n",
        "    execution_year_filter.click()\n",
        "\n",
        "    show_more_container = WebDriverWait(driver, 20).until(\n",
        "        EC.presence_of_element_located((By.XPATH, '//*[@id=\"filter.id\"]/div/div/div/div[1]'))\n",
        "    )\n",
        "    show_more_link = show_more_container.find_element(By.XPATH, './a')\n",
        "    driver.execute_script(\"arguments[0].click();\", show_more_link)\n",
        "\n",
        "    # Wait for the list of years to be fully loaded\n",
        "    time.sleep(5)\n",
        "\n",
        "    # Extract the numbers next to the years from 2015-2024\n",
        "    year_elements = driver.find_elements(By.CSS_SELECTOR, 'ul.list-unstyled.filtersection-animate-container li')\n",
        "    for element in year_elements:\n",
        "        try:\n",
        "            year = int(element.find_element(By.XPATH, './a').text)\n",
        "            count_text = element.find_element(By.CSS_SELECTOR, 'span.text-muted.pull-right.ng-binding').text\n",
        "            results_df.loc[results_df['Year'] == year, 'Patent Count'] = int(count_text.replace(',', ''))\n",
        "        except Exception as e:\n",
        "            print(f\"Error processing year {year} for city {city}: {e}\")\n",
        "            results_df.loc[results_df['Year'] == year, 'Patent Count'] = None\n",
        "\n",
        "    driver.close()\n",
        "\n",
        "    return results_df\n",
        "\n",
        "# City you want to scrape data for\n",
        "city = florida_cities[0]\n",
        "\n",
        "# Scrape data for the specified city\n",
        "results_df = scrape_city_data(city)\n",
        "\n",
        "# Print the results DataFrame\n",
        "print(results_df)\n",
        "\n",
        "# Convert the 'Patent Count' column to numeric\n",
        "results_df['Patent Count'] = pd.to_numeric(results_df['Patent Count'], errors='coerce')\n",
        "\n",
        "# Save the results to an Excel file\n",
        "results_df.to_excel(f'{city}_data.xlsx', index=False)\n",
        "\n",
        "# Optional: Download the file if running in Google Colab\n",
        "from google.colab import files\n",
        "files.download(f'{city}_data.xlsx')"
      ],
      "metadata": {
        "colab": {
          "base_uri": "https://localhost:8080/",
          "height": 234
        },
        "id": "ev1tcPpf5eme",
        "outputId": "27f5ee0f-59d0-4303-bf28-fa2d668f84d7"
      },
      "execution_count": null,
      "outputs": [
        {
          "output_type": "display_data",
          "data": {
            "text/plain": [
              "<IPython.core.display.HTML object>"
            ],
            "text/html": [
              "\n",
              "            <div class=\"spinner-container\">\n",
              "                <div class=\"spinner\" id=\"2b35252e-21f6-4e47-96b0-b3d7fde98e77-circle\"></div>\n",
              "                <div class=\"spinner-text\" id=\"2b35252e-21f6-4e47-96b0-b3d7fde98e77-text\">Initializing Chromedriver</div>\n",
              "            </div>\n",
              "            <style>\n",
              "                @keyframes spin {\n",
              "                    from { transform: rotate(0deg); }\n",
              "                    to { transform: rotate(360deg); }\n",
              "                }\n",
              "\n",
              "                .spinner-container {\n",
              "                    display: flex;\n",
              "                    align-items: center;\n",
              "                    margin-bottom: 3px;\n",
              "                }\n",
              "\n",
              "                .spinner {\n",
              "                    border: 3px solid rgba(0, 0, 0, 0.1);\n",
              "                    border-left-color: lightblue;\n",
              "                    border-radius: 50%;\n",
              "                    width: 12px;\n",
              "                    height: 12px;\n",
              "                    animation: spin 1s linear infinite;\n",
              "                }\n",
              "\n",
              "                .spinner-text {\n",
              "                    padding-left: 6px;\n",
              "                }\n",
              "            </style>\n",
              "        "
            ]
          },
          "metadata": {}
        },
        {
          "output_type": "display_data",
          "data": {
            "text/plain": [
              "<IPython.core.display.Javascript object>"
            ],
            "application/javascript": [
              "\n",
              "            const element = document.getElementById(\"2b35252e-21f6-4e47-96b0-b3d7fde98e77-circle\");\n",
              "            element.style.border = \"3px solid limegreen\";\n",
              "            element.style.animation = \"none\";\n",
              "\n",
              "            const text = document.getElementById(\"2b35252e-21f6-4e47-96b0-b3d7fde98e77-text\");\n",
              "            text.innerText = \"Initialized Chromedriver\";\n",
              "        "
            ]
          },
          "metadata": {}
        },
        {
          "output_type": "stream",
          "name": "stdout",
          "text": [
            "   Year     City  Patent Count\n",
            "0  2015  Alachua             0\n",
            "1  2016  Alachua             0\n",
            "2  2017  Alachua             0\n",
            "3  2018  Alachua             0\n",
            "4  2019  Alachua             0\n",
            "5  2020  Alachua             0\n",
            "6  2021  Alachua             0\n",
            "7  2022  Alachua             0\n",
            "8  2023  Alachua             0\n",
            "9  2024  Alachua             0\n"
          ]
        },
        {
          "output_type": "display_data",
          "data": {
            "text/plain": [
              "<IPython.core.display.Javascript object>"
            ],
            "application/javascript": [
              "\n",
              "    async function download(id, filename, size) {\n",
              "      if (!google.colab.kernel.accessAllowed) {\n",
              "        return;\n",
              "      }\n",
              "      const div = document.createElement('div');\n",
              "      const label = document.createElement('label');\n",
              "      label.textContent = `Downloading \"${filename}\": `;\n",
              "      div.appendChild(label);\n",
              "      const progress = document.createElement('progress');\n",
              "      progress.max = size;\n",
              "      div.appendChild(progress);\n",
              "      document.body.appendChild(div);\n",
              "\n",
              "      const buffers = [];\n",
              "      let downloaded = 0;\n",
              "\n",
              "      const channel = await google.colab.kernel.comms.open(id);\n",
              "      // Send a message to notify the kernel that we're ready.\n",
              "      channel.send({})\n",
              "\n",
              "      for await (const message of channel.messages) {\n",
              "        // Send a message to notify the kernel that we're ready.\n",
              "        channel.send({})\n",
              "        if (message.buffers) {\n",
              "          for (const buffer of message.buffers) {\n",
              "            buffers.push(buffer);\n",
              "            downloaded += buffer.byteLength;\n",
              "            progress.value = downloaded;\n",
              "          }\n",
              "        }\n",
              "      }\n",
              "      const blob = new Blob(buffers, {type: 'application/binary'});\n",
              "      const a = document.createElement('a');\n",
              "      a.href = window.URL.createObjectURL(blob);\n",
              "      a.download = filename;\n",
              "      div.appendChild(a);\n",
              "      a.click();\n",
              "      div.remove();\n",
              "    }\n",
              "  "
            ]
          },
          "metadata": {}
        },
        {
          "output_type": "display_data",
          "data": {
            "text/plain": [
              "<IPython.core.display.Javascript object>"
            ],
            "application/javascript": [
              "download(\"download_6f1d0d5f-5f41-4f76-a211-1adaa79dbebc\", \"Alachua_data.xlsx\", 5116)"
            ]
          },
          "metadata": {}
        }
      ]
    },
    {
      "cell_type": "code",
      "source": [
        "import pandas as pd\n",
        "import numpy as np\n",
        "from sklearn.model_selection import train_test_split\n",
        "from sklearn.ensemble import RandomForestRegressor\n",
        "from sklearn.metrics import mean_squared_error, r2_score\n",
        "from sklearn.impute import SimpleImputer\n",
        "import matplotlib.pyplot as plt\n",
        "\n",
        "# Load the data\n",
        "df = pd.read_csv('All Training Tables - Training Data.csv')\n",
        "\n",
        "# Strip any extra spaces from column names\n",
        "df.columns = df.columns.str.strip()\n",
        "\n",
        "# Print column names to verify\n",
        "print(\"Columns in DataFrame:\")\n",
        "print(df.columns)\n",
        "\n",
        "# Select features for the model\n",
        "features = [\n",
        "    'Year', 'County Code', 'Business Apps 2005', 'Business Apps 2006',\n",
        "    'Business Apps 2007', 'Business Apps 2008', 'Business Apps 2009',\n",
        "    'Business Apps 2010', 'Business Apps 2011', 'Business Apps 2012',\n",
        "    'Business Applications', 'University R&D Spending',\n",
        "    'Median Household Income',\n",
        "    'State, Local and Federal Funds for Pupils by School County'\n",
        "]\n",
        "target = '# of Patent Applications in Florida'\n",
        "\n",
        "# Remove non-numeric characters and convert to float\n",
        "for col in features + [target]:\n",
        "    df[col] = df[col].replace('[\\$,]', '', regex=True).astype(float)\n",
        "\n",
        "# Check for missing values\n",
        "print(\"Missing values in each column before handling:\")\n",
        "print(df.isnull().sum())\n",
        "\n",
        "# Handle missing values by imputation\n",
        "imputer = SimpleImputer(strategy='mean')\n",
        "df[features] = imputer.fit_transform(df[features])\n",
        "df[target] = imputer.fit_transform(df[[target]])\n",
        "\n",
        "# Prepare the data\n",
        "X = df[features]\n",
        "y = df[target]\n",
        "\n",
        "# Split the data into training and testing sets\n",
        "X_train, X_test, y_train, y_test = train_test_split(X, y, test_size=0.2, random_state=42)\n",
        "\n",
        "# Create and train the Random Forest model\n",
        "model = RandomForestRegressor(n_estimators=100, random_state=42)\n",
        "model.fit(X_train, y_train)\n",
        "\n",
        "# Make predictions\n",
        "y_pred = model.predict(X_test)\n",
        "\n",
        "# Evaluate the model\n",
        "mse = mean_squared_error(y_test, y_pred)\n",
        "r2 = r2_score(y_test, y_pred)\n",
        "\n",
        "print(\"Model Performance:\")\n",
        "print(f\"Mean Squared Error: {mse}\")\n",
        "print(f\"R-squared Score: {r2}\")\n",
        "\n",
        "# Print feature importances\n",
        "print(\"Feature Importances:\")\n",
        "for feature, importance in zip(features, model.feature_importances_):\n",
        "    print(f\"{feature}: {importance}\")\n",
        "\n",
        "# Plot actual vs predicted values\n",
        "plt.figure(figsize=(10, 6))\n",
        "plt.scatter(y_test, y_pred, color='blue', alpha=0.5)\n",
        "plt.plot([y_test.min(), y_test.max()], [y_test.min(), y_test.max()], 'r--', lw=2)\n",
        "plt.xlabel(\"Actual # of Patent Applications in Florida\")\n",
        "plt.ylabel(\"Predicted # of Patent Applications in Florida\")\n",
        "plt.title(\"Actual vs Predicted # of Patent Applications in Florida\")\n",
        "plt.tight_layout()\n",
        "plt.show()\n",
        "\n",
        "# Print summary statistics of the target variable\n",
        "print(\"Summary Statistics of # of Patent Applications in Florida:\")\n",
        "print(df[target].describe())\n"
      ],
      "metadata": {
        "colab": {
          "base_uri": "https://localhost:8080/",
          "height": 1000
        },
        "id": "yNXJMUIcfPau",
        "outputId": "e9311ca4-3d4d-444a-e5aa-ede3c4e012eb"
      },
      "execution_count": null,
      "outputs": [
        {
          "output_type": "stream",
          "name": "stdout",
          "text": [
            "Columns in DataFrame:\n",
            "Index(['Year', 'County Code', 'Business Apps 2005', 'Business Apps 2006',\n",
            "       'Business Apps 2007', 'Business Apps 2008', 'Business Apps 2009',\n",
            "       'Business Apps 2010', 'Business Apps 2011', 'Business Apps 2012',\n",
            "       'Business Applications', 'University R&D Spending',\n",
            "       'Median Household Income',\n",
            "       'State, Local and Federal Funds for Pupils by School County',\n",
            "       '# of Patent Applications in Florida'],\n",
            "      dtype='object')\n",
            "Missing values in each column before handling:\n",
            "Year                                                            0\n",
            "County Code                                                     0\n",
            "Business Apps 2005                                            670\n",
            "Business Apps 2006                                            670\n",
            "Business Apps 2007                                            670\n",
            "Business Apps 2008                                            670\n",
            "Business Apps 2009                                            670\n",
            "Business Apps 2010                                            670\n",
            "Business Apps 2011                                            670\n",
            "Business Apps 2012                                            670\n",
            "Business Applications                                           0\n",
            "University R&D Spending                                       627\n",
            "Median Household Income                                        67\n",
            "State, Local and Federal Funds for Pupils by School County    335\n",
            "# of Patent Applications in Florida                            67\n",
            "dtype: int64\n",
            "Model Performance:\n",
            "Mean Squared Error: 0.0\n",
            "R-squared Score: 1.0\n",
            "Feature Importances:\n",
            "Year: 1.0\n",
            "County Code: 0.0\n",
            "Business Apps 2005: 0.0\n",
            "Business Apps 2006: 0.0\n",
            "Business Apps 2007: 0.0\n",
            "Business Apps 2008: 0.0\n",
            "Business Apps 2009: 0.0\n",
            "Business Apps 2010: 0.0\n",
            "Business Apps 2011: 0.0\n",
            "Business Apps 2012: 0.0\n",
            "Business Applications: 0.0\n",
            "University R&D Spending: 0.0\n",
            "Median Household Income: 0.0\n",
            "State, Local and Federal Funds for Pupils by School County: 0.0\n"
          ]
        },
        {
          "output_type": "display_data",
          "data": {
            "text/plain": [
              "<Figure size 1000x600 with 1 Axes>"
            ],
            "image/png": "[encoded data removed]"
          },
          "metadata": {}
        },
        {
          "output_type": "stream",
          "name": "stdout",
          "text": [
            "Summary Statistics of # of Patent Applications in Florida:\n",
            "count      737.000000\n",
            "mean      9925.500000\n",
            "std        208.018431\n",
            "min       9618.000000\n",
            "25%       9756.000000\n",
            "50%       9925.500000\n",
            "75%      10068.000000\n",
            "max      10422.000000\n",
            "Name: # of Patent Applications in Florida, dtype: float64\n"
          ]
        }
      ]
    },
    {
      "cell_type": "code",
      "source": [
        "from sklearn.ensemble import RandomForestRegressor\n",
        "\n",
        "# Create and train the Random Forest model with hyperparameters to prevent overfitting\n",
        "model = RandomForestRegressor(n_estimators=100, max_depth=10, min_samples_split=5, min_samples_leaf=4, random_state=42)\n",
        "model.fit(X_train, y_train)\n",
        "\n",
        "# Make predictions\n",
        "y_pred = model.predict(X_test)\n",
        "\n",
        "# Evaluate the model\n",
        "mse = mean_squared_error(y_test, y_pred)\n",
        "r2 = r2_score(y_test, y_pred)\n",
        "\n",
        "print(\"Model Performance:\")\n",
        "print(f\"Mean Squared Error: {mse}\")\n",
        "print(f\"R-squared Score: {r2}\")\n",
        "\n",
        "# Print feature importances\n",
        "print(\"Feature Importances:\")\n",
        "for feature, importance in zip(features, model.feature_importances_):\n",
        "    print(f\"{feature}: {importance}\")\n"
      ],
      "metadata": {
        "colab": {
          "base_uri": "https://localhost:8080/"
        },
        "id": "1FynIbqhfmBf",
        "outputId": "b6aefcd4-6b3c-475d-dad3-050863741e95"
      },
      "execution_count": null,
      "outputs": [
        {
          "output_type": "stream",
          "name": "stdout",
          "text": [
            "Model Performance:\n",
            "Mean Squared Error: 0.0\n",
            "R-squared Score: 1.0\n",
            "Feature Importances:\n",
            "Year: 1.0\n",
            "County Code: 0.0\n",
            "Business Apps 2005: 0.0\n",
            "Business Apps 2006: 0.0\n",
            "Business Apps 2007: 0.0\n",
            "Business Apps 2008: 0.0\n",
            "Business Apps 2009: 0.0\n",
            "Business Apps 2010: 0.0\n",
            "Business Apps 2011: 0.0\n",
            "Business Apps 2012: 0.0\n",
            "Business Applications: 0.0\n",
            "University R&D Spending: 0.0\n",
            "Median Household Income: 0.0\n",
            "State, Local and Federal Funds for Pupils by School County: 0.0\n"
          ]
        }
      ]
    },
    {
      "cell_type": "code",
      "source": [
        "import pandas as pd\n",
        "!pip install google-colab-selenium[undetected]\n",
        "import google_colab_selenium as gs\n",
        "from selenium.webdriver.common.by import By\n",
        "from selenium.webdriver.support.ui import WebDriverWait\n",
        "from selenium.webdriver.support import expected_conditions as EC\n",
        "import time\n",
        "\n",
        "# Initialize the browser driver\n",
        "driver = gs.UndetectedChrome()\n",
        "\n",
        "# Initialize an empty DataFrame to store the results\n",
        "years = list(range(2015, 2025))\n",
        "florida_cities = ['Miami', 'Alachua', 'Orlando', 'Parkland']\n",
        "multi_index = pd.MultiIndex.from_product([years, florida_cities], names=['Year', 'City'])\n",
        "results_df = pd.DataFrame(index=multi_index, columns=['Patent Count'])\n",
        "\n",
        "for city in florida_cities:\n",
        "    # Open the website\n",
        "    driver.get(f'https://assignment.uspto.gov/patent/index.html#/patent/search/resultFilter?advSearchFilter=patAssigneeCity:%22{city}%22%7CpatAssigneeState:%22Florida%22&qc=2')\n",
        "\n",
        "    execution_year_filter = WebDriverWait(driver, 10).until(\n",
        "        EC.element_to_be_clickable((By.XPATH, '//*[@id=\"patAssignorEarliestExDate\"]/div[1]/h4/a'))\n",
        "    )\n",
        "    execution_year_filter.click()\n",
        "\n",
        "    show_more_container = WebDriverWait(driver, 20).until(\n",
        "        EC.presence_of_element_located((By.XPATH, '//*[@id=\"filter.id\"]/div/div/div/div[1]'))\n",
        "    )\n",
        "    show_more_link = show_more_container.find_element(By.XPATH, './a')\n",
        "    driver.execute_script(\"arguments[0].click();\", show_more_link)\n",
        "\n",
        "    # Wait for the list of years to be fully loaded\n",
        "    time.sleep(2)\n",
        "\n",
        "    # Extract the numbers next to the years from 2015-2024\n",
        "    year_elements = driver.find_elements(By.CSS_SELECTOR, 'ul.list-unstyled.filtersection-animate-container li')\n",
        "    year = 2024\n",
        "    for element in year_elements:\n",
        "        count_text = element.find_element(By.CSS_SELECTOR, 'span.text-muted.pull-right.ng-binding').text\n",
        "        results_df.loc[(year, city), 'Patent Count'] = count_text\n",
        "\n",
        "        if year == 2015:\n",
        "            break\n",
        "        else:\n",
        "            year -= 1\n",
        "\n",
        "# Print the results DataFrame\n",
        "print(results_df)\n",
        "\n",
        "# Close the browser\n",
        "driver.quit()\n",
        "\n",
        "# Assuming you need to merge this data with your existing DataFrame\n",
        "# Convert Patent Count to numeric\n",
        "results_df['Patent Count'] = results_df['Patent Count'].replace('[\\$,]', '', regex=True).astype(float)\n",
        "\n",
        "# Reset index to merge with existing data\n",
        "results_df = results_df.reset_index()\n",
        "\n",
        "# Load the existing data\n",
        "existing_df = pd.read_csv('All Training Tables - Training Data.csv')\n",
        "\n",
        "# Merge dataframes (adjust according to your merging strategy)\n",
        "combined_df = pd.merge(existing_df, results_df, how='left', left_on=['Year', 'City'], right_on=['Year', 'City'])\n",
        "\n",
        "# Now you can use combined_df for further analysis or model building\n"
      ],
      "metadata": {
        "colab": {
          "base_uri": "https://localhost:8080/",
          "height": 1000
        },
        "id": "WH_ssfdGfnR2",
        "outputId": "8679ed23-ab99-439c-efb4-d17fdb620f9e"
      },
      "execution_count": null,
      "outputs": [
        {
          "output_type": "stream",
          "name": "stdout",
          "text": [
            "Collecting google-colab-selenium[undetected]\n",
            "  Downloading google_colab_selenium-1.0.14-py3-none-any.whl.metadata (2.7 kB)\n",
            "Collecting selenium (from google-colab-selenium[undetected])\n",
            "  Downloading selenium-4.23.1-py3-none-any.whl.metadata (7.1 kB)\n",
            "Collecting undetected-chromedriver (from google-colab-selenium[undetected])\n",
            "  Downloading undetected-chromedriver-3.5.5.tar.gz (65 kB)\n",
            "\u001b[2K     \u001b[90m━━━━━━━━━━━━━━━━━━━━━━━━━━━━━━━━━━━━━━━━\u001b[0m \u001b[32m65.4/65.4 kB\u001b[0m \u001b[31m1.7 MB/s\u001b[0m eta \u001b[36m0:00:00\u001b[0m\n",
            "\u001b[?25h  Preparing metadata (setup.py) ... \u001b[?25l\u001b[?25hdone\n",
            "Requirement already satisfied: urllib3<3,>=1.26 in /usr/local/lib/python3.10/dist-packages (from urllib3[socks]<3,>=1.26->selenium->google-colab-selenium[undetected]) (2.0.7)\n",
            "Collecting trio~=0.17 (from selenium->google-colab-selenium[undetected])\n",
            "  Downloading trio-0.26.2-py3-none-any.whl.metadata (8.6 kB)\n",
            "Collecting trio-websocket~=0.9 (from selenium->google-colab-selenium[undetected])\n",
            "  Downloading trio_websocket-0.11.1-py3-none-any.whl.metadata (4.7 kB)\n",
            "Requirement already satisfied: certifi>=2021.10.8 in /usr/local/lib/python3.10/dist-packages (from selenium->google-colab-selenium[undetected]) (2024.7.4)\n",
            "Requirement already satisfied: typing_extensions~=4.9 in /usr/local/lib/python3.10/dist-packages (from selenium->google-colab-selenium[undetected]) (4.12.2)\n",
            "Requirement already satisfied: websocket-client~=1.8 in /usr/local/lib/python3.10/dist-packages (from selenium->google-colab-selenium[undetected]) (1.8.0)\n",
            "Requirement already satisfied: requests in /usr/local/lib/python3.10/dist-packages (from undetected-chromedriver->google-colab-selenium[undetected]) (2.32.3)\n",
            "Collecting websockets (from undetected-chromedriver->google-colab-selenium[undetected])\n",
            "  Downloading websockets-12.0-cp310-cp310-manylinux_2_5_x86_64.manylinux1_x86_64.manylinux_2_17_x86_64.manylinux2014_x86_64.whl.metadata (6.6 kB)\n",
            "Requirement already satisfied: attrs>=23.2.0 in /usr/local/lib/python3.10/dist-packages (from trio~=0.17->selenium->google-colab-selenium[undetected]) (24.2.0)\n",
            "Requirement already satisfied: sortedcontainers in /usr/local/lib/python3.10/dist-packages (from trio~=0.17->selenium->google-colab-selenium[undetected]) (2.4.0)\n",
            "Requirement already satisfied: idna in /usr/local/lib/python3.10/dist-packages (from trio~=0.17->selenium->google-colab-selenium[undetected]) (3.7)\n",
            "Collecting outcome (from trio~=0.17->selenium->google-colab-selenium[undetected])\n",
            "  Downloading outcome-1.3.0.post0-py2.py3-none-any.whl.metadata (2.6 kB)\n",
            "Requirement already satisfied: sniffio>=1.3.0 in /usr/local/lib/python3.10/dist-packages (from trio~=0.17->selenium->google-colab-selenium[undetected]) (1.3.1)\n",
            "Requirement already satisfied: exceptiongroup in /usr/local/lib/python3.10/dist-packages (from trio~=0.17->selenium->google-colab-selenium[undetected]) (1.2.2)\n",
            "Collecting wsproto>=0.14 (from trio-websocket~=0.9->selenium->google-colab-selenium[undetected])\n",
            "  Downloading wsproto-1.2.0-py3-none-any.whl.metadata (5.6 kB)\n",
            "Requirement already satisfied: pysocks!=1.5.7,<2.0,>=1.5.6 in /usr/local/lib/python3.10/dist-packages (from urllib3[socks]<3,>=1.26->selenium->google-colab-selenium[undetected]) (1.7.1)\n",
            "Requirement already satisfied: charset-normalizer<4,>=2 in /usr/local/lib/python3.10/dist-packages (from requests->undetected-chromedriver->google-colab-selenium[undetected]) (3.3.2)\n",
            "Collecting h11<1,>=0.9.0 (from wsproto>=0.14->trio-websocket~=0.9->selenium->google-colab-selenium[undetected])\n",
            "  Downloading h11-0.14.0-py3-none-any.whl.metadata (8.2 kB)\n",
            "Downloading google_colab_selenium-1.0.14-py3-none-any.whl (8.2 kB)\n",
            "Downloading selenium-4.23.1-py3-none-any.whl (9.4 MB)\n",
            "\u001b[2K   \u001b[90m━━━━━━━━━━━━━━━━━━━━━━━━━━━━━━━━━━━━━━━━\u001b[0m \u001b[32m9.4/9.4 MB\u001b[0m \u001b[31m58.5 MB/s\u001b[0m eta \u001b[36m0:00:00\u001b[0m\n",
            "\u001b[?25hDownloading trio-0.26.2-py3-none-any.whl (475 kB)\n",
            "\u001b[2K   \u001b[90m━━━━━━━━━━━━━━━━━━━━━━━━━━━━━━━━━━━━━━━━\u001b[0m \u001b[32m476.0/476.0 kB\u001b[0m \u001b[31m24.4 MB/s\u001b[0m eta \u001b[36m0:00:00\u001b[0m\n",
            "\u001b[?25hDownloading trio_websocket-0.11.1-py3-none-any.whl (17 kB)\n",
            "Downloading websockets-12.0-cp310-cp310-manylinux_2_5_x86_64.manylinux1_x86_64.manylinux_2_17_x86_64.manylinux2014_x86_64.whl (130 kB)\n",
            "\u001b[2K   \u001b[90m━━━━━━━━━━━━━━━━━━━━━━━━━━━━━━━━━━━━━━━━\u001b[0m \u001b[32m130.2/130.2 kB\u001b[0m \u001b[31m8.8 MB/s\u001b[0m eta \u001b[36m0:00:00\u001b[0m\n",
            "\u001b[?25hDownloading wsproto-1.2.0-py3-none-any.whl (24 kB)\n",
            "Downloading outcome-1.3.0.post0-py2.py3-none-any.whl (10 kB)\n",
            "Downloading h11-0.14.0-py3-none-any.whl (58 kB)\n",
            "\u001b[2K   \u001b[90m━━━━━━━━━━━━━━━━━━━━━━━━━━━━━━━━━━━━━━━━\u001b[0m \u001b[32m58.3/58.3 kB\u001b[0m \u001b[31m3.8 MB/s\u001b[0m eta \u001b[36m0:00:00\u001b[0m\n",
            "\u001b[?25hBuilding wheels for collected packages: undetected-chromedriver\n",
            "  Building wheel for undetected-chromedriver (setup.py) ... \u001b[?25l\u001b[?25hdone\n",
            "  Created wheel for undetected-chromedriver: filename=undetected_chromedriver-3.5.5-py3-none-any.whl size=47047 sha256=669074087d6a6a958121a918382cbd2e9145c896a237186abf68556217451e9e\n",
            "  Stored in directory: /root/.cache/pip/wheels/cf/a1/db/e1275b6f7259aacd6b045f8bfcb1fcbc93827a3916ba55d5b7\n",
            "Successfully built undetected-chromedriver\n",
            "Installing collected packages: websockets, outcome, h11, wsproto, trio, trio-websocket, selenium, undetected-chromedriver, google-colab-selenium\n",
            "Successfully installed google-colab-selenium-1.0.14 h11-0.14.0 outcome-1.3.0.post0 selenium-4.23.1 trio-0.26.2 trio-websocket-0.11.1 undetected-chromedriver-3.5.5 websockets-12.0 wsproto-1.2.0\n"
          ]
        },
        {
          "output_type": "display_data",
          "data": {
            "text/plain": [
              "<IPython.core.display.HTML object>"
            ],
            "text/html": [
              "\n",
              "            <div class=\"spinner-container\">\n",
              "                <div class=\"spinner\" id=\"da6c18b9-12c1-4ad5-a49f-4c2370a72bc6-circle\"></div>\n",
              "                <div class=\"spinner-text\" id=\"da6c18b9-12c1-4ad5-a49f-4c2370a72bc6-text\">Updating and upgrading APT</div>\n",
              "            </div>\n",
              "            <style>\n",
              "                @keyframes spin {\n",
              "                    from { transform: rotate(0deg); }\n",
              "                    to { transform: rotate(360deg); }\n",
              "                }\n",
              "\n",
              "                .spinner-container {\n",
              "                    display: flex;\n",
              "                    align-items: center;\n",
              "                    margin-bottom: 3px;\n",
              "                }\n",
              "\n",
              "                .spinner {\n",
              "                    border: 3px solid rgba(0, 0, 0, 0.1);\n",
              "                    border-left-color: lightblue;\n",
              "                    border-radius: 50%;\n",
              "                    width: 12px;\n",
              "                    height: 12px;\n",
              "                    animation: spin 1s linear infinite;\n",
              "                }\n",
              "\n",
              "                .spinner-text {\n",
              "                    padding-left: 6px;\n",
              "                }\n",
              "            </style>\n",
              "        "
            ]
          },
          "metadata": {}
        },
        {
          "output_type": "display_data",
          "data": {
            "text/plain": [
              "<IPython.core.display.Javascript object>"
            ],
            "application/javascript": [
              "\n",
              "            const element = document.getElementById(\"da6c18b9-12c1-4ad5-a49f-4c2370a72bc6-circle\");\n",
              "            element.style.border = \"3px solid limegreen\";\n",
              "            element.style.animation = \"none\";\n",
              "\n",
              "            const text = document.getElementById(\"da6c18b9-12c1-4ad5-a49f-4c2370a72bc6-text\");\n",
              "            text.innerText = \"Updated and upgraded APT\";\n",
              "        "
            ]
          },
          "metadata": {}
        },
        {
          "output_type": "display_data",
          "data": {
            "text/plain": [
              "<IPython.core.display.HTML object>"
            ],
            "text/html": [
              "\n",
              "            <div class=\"spinner-container\">\n",
              "                <div class=\"spinner\" id=\"3397781e-fd2c-4fd8-9420-6cb55ddc87a5-circle\"></div>\n",
              "                <div class=\"spinner-text\" id=\"3397781e-fd2c-4fd8-9420-6cb55ddc87a5-text\">Downloading Google Chrome</div>\n",
              "            </div>\n",
              "            <style>\n",
              "                @keyframes spin {\n",
              "                    from { transform: rotate(0deg); }\n",
              "                    to { transform: rotate(360deg); }\n",
              "                }\n",
              "\n",
              "                .spinner-container {\n",
              "                    display: flex;\n",
              "                    align-items: center;\n",
              "                    margin-bottom: 3px;\n",
              "                }\n",
              "\n",
              "                .spinner {\n",
              "                    border: 3px solid rgba(0, 0, 0, 0.1);\n",
              "                    border-left-color: lightblue;\n",
              "                    border-radius: 50%;\n",
              "                    width: 12px;\n",
              "                    height: 12px;\n",
              "                    animation: spin 1s linear infinite;\n",
              "                }\n",
              "\n",
              "                .spinner-text {\n",
              "                    padding-left: 6px;\n",
              "                }\n",
              "            </style>\n",
              "        "
            ]
          },
          "metadata": {}
        },
        {
          "output_type": "display_data",
          "data": {
            "text/plain": [
              "<IPython.core.display.Javascript object>"
            ],
            "application/javascript": [
              "\n",
              "            const element = document.getElementById(\"3397781e-fd2c-4fd8-9420-6cb55ddc87a5-circle\");\n",
              "            element.style.border = \"3px solid limegreen\";\n",
              "            element.style.animation = \"none\";\n",
              "\n",
              "            const text = document.getElementById(\"3397781e-fd2c-4fd8-9420-6cb55ddc87a5-text\");\n",
              "            text.innerText = \"Downloaded Google Chrome\";\n",
              "        "
            ]
          },
          "metadata": {}
        },
        {
          "output_type": "display_data",
          "data": {
            "text/plain": [
              "<IPython.core.display.HTML object>"
            ],
            "text/html": [
              "\n",
              "            <div class=\"spinner-container\">\n",
              "                <div class=\"spinner\" id=\"8d05c422-7c98-4c00-95f9-d63a5ee617d3-circle\"></div>\n",
              "                <div class=\"spinner-text\" id=\"8d05c422-7c98-4c00-95f9-d63a5ee617d3-text\">Initializing Chromedriver</div>\n",
              "            </div>\n",
              "            <style>\n",
              "                @keyframes spin {\n",
              "                    from { transform: rotate(0deg); }\n",
              "                    to { transform: rotate(360deg); }\n",
              "                }\n",
              "\n",
              "                .spinner-container {\n",
              "                    display: flex;\n",
              "                    align-items: center;\n",
              "                    margin-bottom: 3px;\n",
              "                }\n",
              "\n",
              "                .spinner {\n",
              "                    border: 3px solid rgba(0, 0, 0, 0.1);\n",
              "                    border-left-color: lightblue;\n",
              "                    border-radius: 50%;\n",
              "                    width: 12px;\n",
              "                    height: 12px;\n",
              "                    animation: spin 1s linear infinite;\n",
              "                }\n",
              "\n",
              "                .spinner-text {\n",
              "                    padding-left: 6px;\n",
              "                }\n",
              "            </style>\n",
              "        "
            ]
          },
          "metadata": {}
        },
        {
          "output_type": "display_data",
          "data": {
            "text/plain": [
              "<IPython.core.display.Javascript object>"
            ],
            "application/javascript": [
              "\n",
              "            const element = document.getElementById(\"8d05c422-7c98-4c00-95f9-d63a5ee617d3-circle\");\n",
              "            element.style.border = \"3px solid limegreen\";\n",
              "            element.style.animation = \"none\";\n",
              "\n",
              "            const text = document.getElementById(\"8d05c422-7c98-4c00-95f9-d63a5ee617d3-text\");\n",
              "            text.innerText = \"Initialized Chromedriver\";\n",
              "        "
            ]
          },
          "metadata": {}
        },
        {
          "output_type": "stream",
          "name": "stdout",
          "text": [
            "              Patent Count\n",
            "Year City                 \n",
            "2015 Miami             NaN\n",
            "     Alachua           NaN\n",
            "     Orlando           NaN\n",
            "     Parkland          NaN\n",
            "2016 Miami             NaN\n",
            "     Alachua           NaN\n",
            "     Orlando           NaN\n",
            "     Parkland          NaN\n",
            "2017 Miami             NaN\n",
            "     Alachua           NaN\n",
            "     Orlando           NaN\n",
            "     Parkland          NaN\n",
            "2018 Miami             NaN\n",
            "     Alachua           NaN\n",
            "     Orlando           NaN\n",
            "     Parkland          NaN\n",
            "2019 Miami             NaN\n",
            "     Alachua           NaN\n",
            "     Orlando           NaN\n",
            "     Parkland          NaN\n",
            "2020 Miami             NaN\n",
            "     Alachua           NaN\n",
            "     Orlando           NaN\n",
            "     Parkland          NaN\n",
            "2021 Miami             NaN\n",
            "     Alachua           NaN\n",
            "     Orlando           NaN\n",
            "     Parkland          NaN\n",
            "2022 Miami             NaN\n",
            "     Alachua           NaN\n",
            "     Orlando           NaN\n",
            "     Parkland          NaN\n",
            "2023 Miami             NaN\n",
            "     Alachua           NaN\n",
            "     Orlando           NaN\n",
            "     Parkland          NaN\n",
            "2024 Miami             NaN\n",
            "     Alachua           NaN\n",
            "     Orlando           NaN\n",
            "     Parkland          NaN\n"
          ]
        },
        {
          "output_type": "error",
          "ename": "KeyError",
          "evalue": "'City'",
          "traceback": [
            "\u001b[0;31m---------------------------------------------------------------------------\u001b[0m",
            "\u001b[0;31mKeyError\u001b[0m                                  Traceback (most recent call last)",
            "\u001b[0;32m<ipython-input-23-d72cc67c1e20>\u001b[0m in \u001b[0;36m<cell line: 65>\u001b[0;34m()\u001b[0m\n\u001b[1;32m     63\u001b[0m \u001b[0;34m\u001b[0m\u001b[0m\n\u001b[1;32m     64\u001b[0m \u001b[0;31m# Merge dataframes (adjust according to your merging strategy)\u001b[0m\u001b[0;34m\u001b[0m\u001b[0;34m\u001b[0m\u001b[0m\n\u001b[0;32m---> 65\u001b[0;31m \u001b[0mcombined_df\u001b[0m \u001b[0;34m=\u001b[0m \u001b[0mpd\u001b[0m\u001b[0;34m.\u001b[0m\u001b[0mmerge\u001b[0m\u001b[0;34m(\u001b[0m\u001b[0mexisting_df\u001b[0m\u001b[0;34m,\u001b[0m \u001b[0mresults_df\u001b[0m\u001b[0;34m,\u001b[0m \u001b[0mhow\u001b[0m\u001b[0;34m=\u001b[0m\u001b[0;34m'left'\u001b[0m\u001b[0;34m,\u001b[0m \u001b[0mleft_on\u001b[0m\u001b[0;34m=\u001b[0m\u001b[0;34m[\u001b[0m\u001b[0;34m'Year'\u001b[0m\u001b[0;34m,\u001b[0m \u001b[0;34m'City'\u001b[0m\u001b[0;34m]\u001b[0m\u001b[0;34m,\u001b[0m \u001b[0mright_on\u001b[0m\u001b[0;34m=\u001b[0m\u001b[0;34m[\u001b[0m\u001b[0;34m'Year'\u001b[0m\u001b[0;34m,\u001b[0m \u001b[0;34m'City'\u001b[0m\u001b[0;34m]\u001b[0m\u001b[0;34m)\u001b[0m\u001b[0;34m\u001b[0m\u001b[0;34m\u001b[0m\u001b[0m\n\u001b[0m\u001b[1;32m     66\u001b[0m \u001b[0;34m\u001b[0m\u001b[0m\n\u001b[1;32m     67\u001b[0m \u001b[0;31m# Now you can use combined_df for further analysis or model building\u001b[0m\u001b[0;34m\u001b[0m\u001b[0;34m\u001b[0m\u001b[0m\n",
            "\u001b[0;32m/usr/local/lib/python3.10/dist-packages/pandas/core/reshape/merge.py\u001b[0m in \u001b[0;36mmerge\u001b[0;34m(left, right, how, on, left_on, right_on, left_index, right_index, sort, suffixes, copy, indicator, validate)\u001b[0m\n\u001b[1;32m    167\u001b[0m         )\n\u001b[1;32m    168\u001b[0m     \u001b[0;32melse\u001b[0m\u001b[0;34m:\u001b[0m\u001b[0;34m\u001b[0m\u001b[0;34m\u001b[0m\u001b[0m\n\u001b[0;32m--> 169\u001b[0;31m         op = _MergeOperation(\n\u001b[0m\u001b[1;32m    170\u001b[0m             \u001b[0mleft_df\u001b[0m\u001b[0;34m,\u001b[0m\u001b[0;34m\u001b[0m\u001b[0;34m\u001b[0m\u001b[0m\n\u001b[1;32m    171\u001b[0m             \u001b[0mright_df\u001b[0m\u001b[0;34m,\u001b[0m\u001b[0;34m\u001b[0m\u001b[0;34m\u001b[0m\u001b[0m\n",
            "\u001b[0;32m/usr/local/lib/python3.10/dist-packages/pandas/core/reshape/merge.py\u001b[0m in \u001b[0;36m__init__\u001b[0;34m(self, left, right, how, on, left_on, right_on, left_index, right_index, sort, suffixes, indicator, validate)\u001b[0m\n\u001b[1;32m    789\u001b[0m             \u001b[0mleft_drop\u001b[0m\u001b[0;34m,\u001b[0m\u001b[0;34m\u001b[0m\u001b[0;34m\u001b[0m\u001b[0m\n\u001b[1;32m    790\u001b[0m             \u001b[0mright_drop\u001b[0m\u001b[0;34m,\u001b[0m\u001b[0;34m\u001b[0m\u001b[0;34m\u001b[0m\u001b[0m\n\u001b[0;32m--> 791\u001b[0;31m         ) = self._get_merge_keys()\n\u001b[0m\u001b[1;32m    792\u001b[0m \u001b[0;34m\u001b[0m\u001b[0m\n\u001b[1;32m    793\u001b[0m         \u001b[0;32mif\u001b[0m \u001b[0mleft_drop\u001b[0m\u001b[0;34m:\u001b[0m\u001b[0;34m\u001b[0m\u001b[0;34m\u001b[0m\u001b[0m\n",
            "\u001b[0;32m/usr/local/lib/python3.10/dist-packages/pandas/core/reshape/merge.py\u001b[0m in \u001b[0;36m_get_merge_keys\u001b[0;34m(self)\u001b[0m\n\u001b[1;32m   1285\u001b[0m                         \u001b[0;31m#  the latter of which will raise\u001b[0m\u001b[0;34m\u001b[0m\u001b[0;34m\u001b[0m\u001b[0m\n\u001b[1;32m   1286\u001b[0m                         \u001b[0mlk\u001b[0m \u001b[0;34m=\u001b[0m \u001b[0mcast\u001b[0m\u001b[0;34m(\u001b[0m\u001b[0mHashable\u001b[0m\u001b[0;34m,\u001b[0m \u001b[0mlk\u001b[0m\u001b[0;34m)\u001b[0m\u001b[0;34m\u001b[0m\u001b[0;34m\u001b[0m\u001b[0m\n\u001b[0;32m-> 1287\u001b[0;31m                         \u001b[0mleft_keys\u001b[0m\u001b[0;34m.\u001b[0m\u001b[0mappend\u001b[0m\u001b[0;34m(\u001b[0m\u001b[0mleft\u001b[0m\u001b[0;34m.\u001b[0m\u001b[0m_get_label_or_level_values\u001b[0m\u001b[0;34m(\u001b[0m\u001b[0mlk\u001b[0m\u001b[0;34m)\u001b[0m\u001b[0;34m)\u001b[0m\u001b[0;34m\u001b[0m\u001b[0;34m\u001b[0m\u001b[0m\n\u001b[0m\u001b[1;32m   1288\u001b[0m                         \u001b[0mjoin_names\u001b[0m\u001b[0;34m.\u001b[0m\u001b[0mappend\u001b[0m\u001b[0;34m(\u001b[0m\u001b[0mlk\u001b[0m\u001b[0;34m)\u001b[0m\u001b[0;34m\u001b[0m\u001b[0;34m\u001b[0m\u001b[0m\n\u001b[1;32m   1289\u001b[0m                     \u001b[0;32melse\u001b[0m\u001b[0;34m:\u001b[0m\u001b[0;34m\u001b[0m\u001b[0;34m\u001b[0m\u001b[0m\n",
            "\u001b[0;32m/usr/local/lib/python3.10/dist-packages/pandas/core/generic.py\u001b[0m in \u001b[0;36m_get_label_or_level_values\u001b[0;34m(self, key, axis)\u001b[0m\n\u001b[1;32m   1842\u001b[0m             \u001b[0mvalues\u001b[0m \u001b[0;34m=\u001b[0m \u001b[0mself\u001b[0m\u001b[0;34m.\u001b[0m\u001b[0maxes\u001b[0m\u001b[0;34m[\u001b[0m\u001b[0maxis\u001b[0m\u001b[0;34m]\u001b[0m\u001b[0;34m.\u001b[0m\u001b[0mget_level_values\u001b[0m\u001b[0;34m(\u001b[0m\u001b[0mkey\u001b[0m\u001b[0;34m)\u001b[0m\u001b[0;34m.\u001b[0m\u001b[0m_values\u001b[0m\u001b[0;34m\u001b[0m\u001b[0;34m\u001b[0m\u001b[0m\n\u001b[1;32m   1843\u001b[0m         \u001b[0;32melse\u001b[0m\u001b[0;34m:\u001b[0m\u001b[0;34m\u001b[0m\u001b[0;34m\u001b[0m\u001b[0m\n\u001b[0;32m-> 1844\u001b[0;31m             \u001b[0;32mraise\u001b[0m \u001b[0mKeyError\u001b[0m\u001b[0;34m(\u001b[0m\u001b[0mkey\u001b[0m\u001b[0;34m)\u001b[0m\u001b[0;34m\u001b[0m\u001b[0;34m\u001b[0m\u001b[0m\n\u001b[0m\u001b[1;32m   1845\u001b[0m \u001b[0;34m\u001b[0m\u001b[0m\n\u001b[1;32m   1846\u001b[0m         \u001b[0;31m# Check for duplicates\u001b[0m\u001b[0;34m\u001b[0m\u001b[0;34m\u001b[0m\u001b[0m\n",
            "\u001b[0;31mKeyError\u001b[0m: 'City'"
          ]
        }
      ]
    },
    {
      "cell_type": "markdown",
      "source": [
        "#### **Trying a Support Vector Regressor** (outdated)"
      ],
      "metadata": {
        "id": "XPDz9koW6pds"
      }
    },
    {
      "cell_type": "code",
      "source": [
        "from sklearn.svm import SVR\n",
        "from sklearn.preprocessing import StandardScaler\n",
        "# Split the data into training and testing sets\n",
        "X_train, X_test, y_train, y_test = train_test_split(X, y, test_size=0.3, random_state=19)\n",
        "\n",
        "# Feature scaling\n",
        "scaler = StandardScaler()\n",
        "X_train = scaler.fit_transform(X_train)\n",
        "X_test = scaler.transform(X_test)\n",
        "\n",
        "# Initialize and train the Support Vector Regressor\n",
        "# High degree polynomials work best\n",
        "svr = SVR(kernel='rbf')\n",
        "svr.fit(X_train, y_train)\n",
        "\n",
        "# Make predictions\n",
        "y_pred = svr.predict(X_test)\n",
        "\n",
        "# Model evaluation\n",
        "mae = mean_absolute_error(y_pred, y_test)\n",
        "mse = mean_squared_error(y_pred, y_test)\n",
        "r2 = r2_score(y_pred, y_test)\n",
        "\n",
        "# Print the evaluation metrics\n",
        "print(f\"Mean Absolute Error: {mae}\")\n",
        "print(f\"Mean Squared Error: {mse}\")\n",
        "print(f\"R^2 Score: {r2}\")"
      ],
      "metadata": {
        "colab": {
          "base_uri": "https://localhost:8080/"
        },
        "id": "3go-y9tJtBV6",
        "outputId": "beeeaa58-8ed4-4e5c-d89b-9842b7794a0a"
      },
      "execution_count": null,
      "outputs": [
        {
          "output_type": "stream",
          "name": "stdout",
          "text": [
            "Mean Absolute Error: 0.0004169312962642322\n",
            "Mean Squared Error: 1.842232681528882e-07\n",
            "R^2 Score: 0.0\n"
          ]
        }
      ]
    }
  ]
}